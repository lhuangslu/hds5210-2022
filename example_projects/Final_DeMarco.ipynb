{
 "cells": [
  {
   "cell_type": "markdown",
   "metadata": {},
   "source": [
    "# HDS 5210 Final Project: Osteoporosis in Multiple Data Sets\n",
    "### Elisabeth C. DeMarco\n",
    "\n",
    "This project examines data about osteoporosis in women in the United States using 2 data sources: the National Health and Nutrition Examination Survey (NHANES) and the Study of Women's Health Across the Nation (SWAN). While NHANES is continuously run, SWAN was most recently conducted between 2006-2008. Thus, the present project focuses on NHANES 2007-2008 and 2006-2008 data. \n",
    "\n",
    "All data/documentation can be found at the following links: \n",
    "* NHANES:\n",
    "    * Demographics:\n",
    "        * Documentation: https://wwwn.cdc.gov/Nchs/Nhanes/2007-2008/DEMO_E.htm\n",
    "        * Data: https://wwwn.cdc.gov/nchs/nhanes/search/datapage.aspx?Component=Demographics&CycleBeginYear=2007\n",
    "            * File name: `DEMO_E.XPT`\n",
    "    * Ostoporosis Questionnaire Module: \n",
    "        * Documentation: https://wwwn.cdc.gov/Nchs/Nhanes/2007-2008/OSQ_E.htm\n",
    "        * Data: https://wwwn.cdc.gov/nchs/nhanes/search/datapage.aspx?Component=Questionnaire&CycleBeginYear=2007\n",
    "             * File name: `OSQ_E.XPT`\n",
    "    * Current Health Status: \n",
    "        * Documentation: https://wwwn.cdc.gov/Nchs/Nhanes/2007-2008/HSQ_E.htm\n",
    "        * Data: https://wwwn.cdc.gov/nchs/nhanes/search/datapage.aspx?Component=Questionnaire&CycleBeginYear=2007\n",
    "            * File name: `HSQ_E.XPT`\n",
    "    * Mental Health - Depression Screener: \n",
    "        * Documentation: https://wwwn.cdc.gov/Nchs/Nhanes/2007-2008/DPQ_E.htm\n",
    "        * Data: https://wwwn.cdc.gov/nchs/nhanes/search/datapage.aspx?Component=Questionnaire&CycleBeginYear=2007\n",
    "            * File name: `DPQ_E.XPT`\n",
    "\n",
    "* SWAN:\n",
    "    * Study of Women's Health Across the Nation (SWAN) Cross-Sectional Screener Dataset, [United States], \n",
    "        1995-1997 (ICPSR 4368): https://www.icpsr.umich.edu/web/ICPSR/studies/4368/summary\n",
    "        * Codebook and data files are available for download at the same site\n",
    "            * File Name: '04368-0001-Data.tsv'\n",
    "    * Study of Women's Health Across the Nation (SWAN) 2006-2008: https://www.icpsr.umich.edu/web/ICPSR/studies/32961\n",
    "        * Codebook and data file are available for download at the same site\n",
    "            * File Name: '32961-0001-Data.tsv'\n",
    "\n",
    "Files were saved to the `/final` directory for ease of access.  "
   ]
  },
  {
   "cell_type": "markdown",
   "metadata": {},
   "source": [
    "## Study Objectives\n",
    "I will be working with a medical student for her 2022 Summer Research Fellowship to examine associations between osteoporosis and mental health, with a particular focus on mental health treatment and gender disparities. We plan to use secondary data from the National Health and Nutrition Examination Survey (NHANES), a nationally representative survey comprised of in-home questionnaires and physical examinations administered at a mobile site. We will examine a subset of individuals with osteoporosis for mental health outcomes and treatment. In particular, we will use the data on osteoporosis outcomes (such as broken bones and diagnosis), general impression of mental health, and PHQ-9 scores (a commonly used screening tool for depression). Treatment data could be gathered from reports of prescription medication and mental health encounters in other modules of NHANES not included above. The larger project will include NHANES data from multiple years, using those years in which NHANES collected data on osteoporosis.\n",
    "\n",
    "As no one dataset contains all the information one typically needs, cross-comparison between two similar data sources is often required. The current project will focus on proor-of-concept, data management, and exploratory analysis. In addition, I will compare data from NHANES with SWAN to determine whether NHANES gathers comparable information to SWAN, a longitudinal in-person study. From the current project, I will identify variables that could be harmonized and compared between the two data sources. This cross-sectional analysis will be the first step towards future comparisons between these two data sets, including later longitudinal study. This will be particularly useful as SWAN stopped collecting data in 2008, while NHANES continues to collect data. If the conclusions drawn from both studies are similar regarding women's mental health and osteoporosis outcomes, NHANES would be a good candidate data source to continue to monitor national trends in these areas. If these conclusions are different, the necessity of longitudinal studies such as SWAN would be underscored."
   ]
  },
  {
   "cell_type": "markdown",
   "metadata": {},
   "source": [
    "## Variables of Interest\n",
    "\n",
    "The documentation for both datasets was examined and a final set of variables of interest collected. These are detailed in the `DeMarco_HDS5210Final_VariableFile.xlsx` file. Concepts of interest are summarized below:\n",
    "* Age\n",
    "* Sex\n",
    "* Race/Ethnicity\n",
    "* Education\n",
    "* Osteoporosis diagnosis\n",
    "* Broken bone\n",
    "* Fracture of wrist or hip\n",
    "* Pain interference with activities\n",
    "* Feeling nervous or anxious in last month\n",
    "* Felt depressed in last 2 weeks\n",
    "* Overall health"
   ]
  },
  {
   "cell_type": "markdown",
   "metadata": {},
   "source": [
    "## Creating the Analytic Data Set\n",
    "\n",
    "SWAN data for 2006-2008 is limited to \"Women age 51 through 63\" while NHANES samples a broader portion of the US population. To facilitate accurate comparisons, NHANES data was limited to women age 51 through 63. \n",
    "\n",
    "Although NHANES is designed for weighted analysis, the present analysis uses unweighted counts for initial comparisons, as SWAN data does not use any weighting or oversampling. Variables that could be harmonized were identified. Common names were assigned to these variables to create a single set. The SWAN and NHANES data were then concatenated to create a composite analytic data set."
   ]
  },
  {
   "cell_type": "code",
   "execution_count": 1,
   "metadata": {},
   "outputs": [
    {
     "name": "stderr",
     "output_type": "stream",
     "text": [
      "/opt/tljh/user/lib/python3.6/site-packages/IPython/core/interactiveshell.py:3051: DtypeWarning: Columns (2,3,4,5,6,7,8,9,10,11,12,13,14,15,16,17,18,19,20,21,22,23,24,25,26,27,28,29,30,31,32,33,34,35,36,37,38,39,40,41,46,47,48,49,50,51,52,53,56,57,58,59,60,61,62,63,64,65,66,67,68,69,70,71,72,73,74,75,84,86,87,90,91,94,95,96,97,98,99,100,101,102,103,104,105,106,107,108,109,110,111,112,113,114,115,116,117,118,119,120,121,122,123,477,478,482,483,484,485,486,490,491,492,495,504,506,507,515,522,523,525,530,535,536,537,538,563,567) have mixed types.Specify dtype option on import or set low_memory=False.\n",
      "  interactivity=interactivity, compiler=compiler, result=result)\n"
     ]
    }
   ],
   "source": [
    "# Import Packages and read in data\n",
    "import pandas as pd\n",
    "import numpy as np\n",
    "from pandas.api.types import CategoricalDtype\n",
    "\n",
    "# Read in tsv file from SWAN data\n",
    "SWAN_2008 = pd.read_csv('32961-0001-Data.tsv', sep = '\\t')\n",
    "SWAN_demographics = pd.read_csv('04368-0001-Data.tsv', sep = '\\t')\n",
    "\n",
    "# Read in NHANES files\n",
    "NHANES_osteoporosis = pd.read_sas('OSQ_E.XPT')\n",
    "NHANES_demographics = pd.read_sas('DEMO_E.XPT')\n",
    "NHANES_currenthealth = pd.read_sas('HSQ_E.XPT')\n",
    "NHANES_depression = pd.read_sas('DPQ_E.XPT')"
   ]
  },
  {
   "cell_type": "code",
   "execution_count": 2,
   "metadata": {},
   "outputs": [],
   "source": [
    "# Create a function to subset columns given a list of variables\n",
    "def column_select (dataframe, l):\n",
    "    '''dataframe, list -> dataframe\n",
    "    This function takes two arguments, a dataframe and a list. It \n",
    "    returns a dataframe with only those columns matching the input\n",
    "    of the list provided. \n",
    "    '''\n",
    "    smalldata = dataframe[l]\n",
    "    return smalldata   "
   ]
  },
  {
   "cell_type": "code",
   "execution_count": 3,
   "metadata": {},
   "outputs": [],
   "source": [
    "# Pull the variables of interest from the SWAN 2008 file\n",
    "SWAN_2008_Analytic = column_select(SWAN_2008, ['SWANID', 'AGE10',\n",
    "                                              'OSTEOPR10', 'BROKEBO10',\n",
    "                                              'BONES110',\n",
    "                                              'PAINTRF10', 'NERV4WK10',\n",
    "                                              'DEPRESS10', 'OVERHLT10'])\n",
    "\n",
    "# Pull the variables of interest from the SWAN crosssectional file\n",
    "SWAN_demo_Analytic = column_select(SWAN_demographics, ['SWANID', 'RACE', 'DEGREE'])"
   ]
  },
  {
   "cell_type": "code",
   "execution_count": 4,
   "metadata": {},
   "outputs": [
    {
     "data": {
      "text/plain": [
       "<bound method NDFrame.head of       SWANID AGE10 OSTEOPR10 BROKEBO10 BONES110 PAINTRF10 NERV4WK10 DEPRESS10  \\\n",
       "0      10046    62         1         0                  1         6         1   \n",
       "1      10056    61         1         0                  1         6         1   \n",
       "2      10153    61         1         0                  1         6         1   \n",
       "3      10196    56         1         0                  1         4         1   \n",
       "4      10245    57         1         0                  1         5         2   \n",
       "...      ...   ...       ...       ...      ...       ...       ...       ...   \n",
       "2240   99805    52         1         0                  1         6         1   \n",
       "2241   99809    53         1         0                  1         4         2   \n",
       "2242   99888    58         1         0                  4         3         4   \n",
       "2243   99898    55         1         0                  1         6         2   \n",
       "2244   99962    57         1         0                  1         5         1   \n",
       "\n",
       "     OVERHLT10  \n",
       "0            1  \n",
       "1            2  \n",
       "2            3  \n",
       "3            3  \n",
       "4            2  \n",
       "...        ...  \n",
       "2240         3  \n",
       "2241         1  \n",
       "2242         5  \n",
       "2243         3  \n",
       "2244         1  \n",
       "\n",
       "[2245 rows x 9 columns]>"
      ]
     },
     "execution_count": 4,
     "metadata": {},
     "output_type": "execute_result"
    }
   ],
   "source": [
    "SWAN_2008_Analytic.head"
   ]
  },
  {
   "cell_type": "code",
   "execution_count": 5,
   "metadata": {},
   "outputs": [
    {
     "data": {
      "text/plain": [
       "<bound method NDFrame.head of       SWANID AGE10 OSTEOPR10 BROKEBO10 BONES110 PAINTRF10 NERV4WK10 DEPRESS10  \\\n",
       "0      10046    62         1         0                  1         6         1   \n",
       "1      10056    61         1         0                  1         6         1   \n",
       "2      10153    61         1         0                  1         6         1   \n",
       "3      10196    56         1         0                  1         4         1   \n",
       "4      10245    57         1         0                  1         5         2   \n",
       "...      ...   ...       ...       ...      ...       ...       ...       ...   \n",
       "2240   99805    52         1         0                  1         6         1   \n",
       "2241   99809    53         1         0                  1         4         2   \n",
       "2242   99888    58         1         0                  4         3         4   \n",
       "2243   99898    55         1         0                  1         6         2   \n",
       "2244   99962    57         1         0                  1         5         1   \n",
       "\n",
       "     OVERHLT10 RACE DEGREE  \n",
       "0            1    2      2  \n",
       "1            2    4      3  \n",
       "2            3    3      2  \n",
       "3            3    2      5  \n",
       "4            2    4      2  \n",
       "...        ...  ...    ...  \n",
       "2240         3    1      4  \n",
       "2241         1    4      4  \n",
       "2242         5    3      3  \n",
       "2243         3    4      5  \n",
       "2244         1    2      4  \n",
       "\n",
       "[2245 rows x 11 columns]>"
      ]
     },
     "execution_count": 5,
     "metadata": {},
     "output_type": "execute_result"
    }
   ],
   "source": [
    "# Use a left-join on SWANID to create an overall SWAN2008 analytic dataset\n",
    "SWAN_full = SWAN_2008_Analytic.merge(SWAN_demo_Analytic, how = 'left', left_on = 'SWANID', right_on = 'SWANID')\n",
    "\n",
    "SWAN_full.head"
   ]
  },
  {
   "cell_type": "code",
   "execution_count": 6,
   "metadata": {},
   "outputs": [],
   "source": [
    "# Missing values in the SWAN data are denoted with '-7', '-8', '-9' and are replaced with NaN\n",
    "SWAN_analytic = SWAN_full.replace(['-7', '-8', '-9', ' '], np.nan)"
   ]
  },
  {
   "cell_type": "code",
   "execution_count": 7,
   "metadata": {},
   "outputs": [
    {
     "data": {
      "text/plain": [
       "1    1452\n",
       "2     442\n",
       "3     144\n",
       "4      52\n",
       "Name: DEPRESS10, dtype: int64"
      ]
     },
     "execution_count": 7,
     "metadata": {},
     "output_type": "execute_result"
    }
   ],
   "source": [
    "# Review that missing data has been appropriately removed\n",
    "SWAN_analytic['DEPRESS10'].value_counts()"
   ]
  },
  {
   "cell_type": "code",
   "execution_count": 8,
   "metadata": {},
   "outputs": [
    {
     "data": {
      "text/html": [
       "<div>\n",
       "<style scoped>\n",
       "    .dataframe tbody tr th:only-of-type {\n",
       "        vertical-align: middle;\n",
       "    }\n",
       "\n",
       "    .dataframe tbody tr th {\n",
       "        vertical-align: top;\n",
       "    }\n",
       "\n",
       "    .dataframe thead th {\n",
       "        text-align: right;\n",
       "    }\n",
       "</style>\n",
       "<table border=\"1\" class=\"dataframe\">\n",
       "  <thead>\n",
       "    <tr style=\"text-align: right;\">\n",
       "      <th></th>\n",
       "      <th>SWANID</th>\n",
       "      <th>AGE10</th>\n",
       "      <th>OSTEOPR10</th>\n",
       "      <th>BROKEBO10</th>\n",
       "      <th>BONES110</th>\n",
       "      <th>PAINTRF10</th>\n",
       "      <th>NERV4WK10</th>\n",
       "      <th>DEPRESS10</th>\n",
       "      <th>OVERHLT10</th>\n",
       "      <th>RACE</th>\n",
       "      <th>DEGREE</th>\n",
       "    </tr>\n",
       "  </thead>\n",
       "  <tbody>\n",
       "    <tr>\n",
       "      <th>0</th>\n",
       "      <td>10046</td>\n",
       "      <td>62</td>\n",
       "      <td>1</td>\n",
       "      <td>0</td>\n",
       "      <td>NaN</td>\n",
       "      <td>1</td>\n",
       "      <td>6</td>\n",
       "      <td>1</td>\n",
       "      <td>1</td>\n",
       "      <td>2</td>\n",
       "      <td>2</td>\n",
       "    </tr>\n",
       "    <tr>\n",
       "      <th>1</th>\n",
       "      <td>10056</td>\n",
       "      <td>61</td>\n",
       "      <td>1</td>\n",
       "      <td>0</td>\n",
       "      <td>NaN</td>\n",
       "      <td>1</td>\n",
       "      <td>6</td>\n",
       "      <td>1</td>\n",
       "      <td>2</td>\n",
       "      <td>4</td>\n",
       "      <td>3</td>\n",
       "    </tr>\n",
       "    <tr>\n",
       "      <th>2</th>\n",
       "      <td>10153</td>\n",
       "      <td>61</td>\n",
       "      <td>1</td>\n",
       "      <td>0</td>\n",
       "      <td>NaN</td>\n",
       "      <td>1</td>\n",
       "      <td>6</td>\n",
       "      <td>1</td>\n",
       "      <td>3</td>\n",
       "      <td>3</td>\n",
       "      <td>2</td>\n",
       "    </tr>\n",
       "    <tr>\n",
       "      <th>3</th>\n",
       "      <td>10196</td>\n",
       "      <td>56</td>\n",
       "      <td>1</td>\n",
       "      <td>0</td>\n",
       "      <td>NaN</td>\n",
       "      <td>1</td>\n",
       "      <td>4</td>\n",
       "      <td>1</td>\n",
       "      <td>3</td>\n",
       "      <td>2</td>\n",
       "      <td>5</td>\n",
       "    </tr>\n",
       "    <tr>\n",
       "      <th>4</th>\n",
       "      <td>10245</td>\n",
       "      <td>57</td>\n",
       "      <td>1</td>\n",
       "      <td>0</td>\n",
       "      <td>NaN</td>\n",
       "      <td>1</td>\n",
       "      <td>5</td>\n",
       "      <td>2</td>\n",
       "      <td>2</td>\n",
       "      <td>4</td>\n",
       "      <td>2</td>\n",
       "    </tr>\n",
       "    <tr>\n",
       "      <th>...</th>\n",
       "      <td>...</td>\n",
       "      <td>...</td>\n",
       "      <td>...</td>\n",
       "      <td>...</td>\n",
       "      <td>...</td>\n",
       "      <td>...</td>\n",
       "      <td>...</td>\n",
       "      <td>...</td>\n",
       "      <td>...</td>\n",
       "      <td>...</td>\n",
       "      <td>...</td>\n",
       "    </tr>\n",
       "    <tr>\n",
       "      <th>2240</th>\n",
       "      <td>99805</td>\n",
       "      <td>52</td>\n",
       "      <td>1</td>\n",
       "      <td>0</td>\n",
       "      <td>NaN</td>\n",
       "      <td>1</td>\n",
       "      <td>6</td>\n",
       "      <td>1</td>\n",
       "      <td>3</td>\n",
       "      <td>1</td>\n",
       "      <td>4</td>\n",
       "    </tr>\n",
       "    <tr>\n",
       "      <th>2241</th>\n",
       "      <td>99809</td>\n",
       "      <td>53</td>\n",
       "      <td>1</td>\n",
       "      <td>0</td>\n",
       "      <td>NaN</td>\n",
       "      <td>1</td>\n",
       "      <td>4</td>\n",
       "      <td>2</td>\n",
       "      <td>1</td>\n",
       "      <td>4</td>\n",
       "      <td>4</td>\n",
       "    </tr>\n",
       "    <tr>\n",
       "      <th>2242</th>\n",
       "      <td>99888</td>\n",
       "      <td>58</td>\n",
       "      <td>1</td>\n",
       "      <td>0</td>\n",
       "      <td>NaN</td>\n",
       "      <td>4</td>\n",
       "      <td>3</td>\n",
       "      <td>4</td>\n",
       "      <td>5</td>\n",
       "      <td>3</td>\n",
       "      <td>3</td>\n",
       "    </tr>\n",
       "    <tr>\n",
       "      <th>2243</th>\n",
       "      <td>99898</td>\n",
       "      <td>55</td>\n",
       "      <td>1</td>\n",
       "      <td>0</td>\n",
       "      <td>NaN</td>\n",
       "      <td>1</td>\n",
       "      <td>6</td>\n",
       "      <td>2</td>\n",
       "      <td>3</td>\n",
       "      <td>4</td>\n",
       "      <td>5</td>\n",
       "    </tr>\n",
       "    <tr>\n",
       "      <th>2244</th>\n",
       "      <td>99962</td>\n",
       "      <td>57</td>\n",
       "      <td>1</td>\n",
       "      <td>0</td>\n",
       "      <td>NaN</td>\n",
       "      <td>1</td>\n",
       "      <td>5</td>\n",
       "      <td>1</td>\n",
       "      <td>1</td>\n",
       "      <td>2</td>\n",
       "      <td>4</td>\n",
       "    </tr>\n",
       "  </tbody>\n",
       "</table>\n",
       "<p>2245 rows × 11 columns</p>\n",
       "</div>"
      ],
      "text/plain": [
       "      SWANID AGE10 OSTEOPR10 BROKEBO10 BONES110 PAINTRF10 NERV4WK10 DEPRESS10  \\\n",
       "0      10046    62         1         0      NaN         1         6         1   \n",
       "1      10056    61         1         0      NaN         1         6         1   \n",
       "2      10153    61         1         0      NaN         1         6         1   \n",
       "3      10196    56         1         0      NaN         1         4         1   \n",
       "4      10245    57         1         0      NaN         1         5         2   \n",
       "...      ...   ...       ...       ...      ...       ...       ...       ...   \n",
       "2240   99805    52         1         0      NaN         1         6         1   \n",
       "2241   99809    53         1         0      NaN         1         4         2   \n",
       "2242   99888    58         1         0      NaN         4         3         4   \n",
       "2243   99898    55         1         0      NaN         1         6         2   \n",
       "2244   99962    57         1         0      NaN         1         5         1   \n",
       "\n",
       "     OVERHLT10 RACE DEGREE  \n",
       "0            1    2      2  \n",
       "1            2    4      3  \n",
       "2            3    3      2  \n",
       "3            3    2      5  \n",
       "4            2    4      2  \n",
       "...        ...  ...    ...  \n",
       "2240         3    1      4  \n",
       "2241         1    4      4  \n",
       "2242         5    3      3  \n",
       "2243         3    4      5  \n",
       "2244         1    2      4  \n",
       "\n",
       "[2245 rows x 11 columns]"
      ]
     },
     "execution_count": 8,
     "metadata": {},
     "output_type": "execute_result"
    }
   ],
   "source": [
    "SWAN_analytic"
   ]
  },
  {
   "cell_type": "code",
   "execution_count": 9,
   "metadata": {},
   "outputs": [],
   "source": [
    "# Subset the columns from the NHANES data sets\n",
    "NHANES_demo_analytic = column_select(NHANES_demographics, ['SEQN', 'WTINT2YR', \n",
    "                                                          'RIDAGEYR', 'RIAGENDR',\n",
    "                                                          'RIDRETH1',\n",
    "                                                          'DMDEDUC2'])\n",
    "NHANES_osteo_analytic = column_select(NHANES_osteoporosis, ['SEQN', 'OSQ060',\n",
    "                                                           'OSQ010A', 'OSQ010B'])\n",
    "\n",
    "NHANES_health_analytic = column_select(NHANES_currenthealth, ['SEQN', 'HSQ493', 'HSQ496', 'HSD010'])\n",
    "\n",
    "NHANES_dep_analytic = column_select(NHANES_depression, ['SEQN', 'DPQ020'])"
   ]
  },
  {
   "cell_type": "code",
   "execution_count": 10,
   "metadata": {},
   "outputs": [],
   "source": [
    "# Create a function for NHANES joins, which rely on 'SEQN'\n",
    "def NHANES_join(df1, df2, method):\n",
    "    '''(dataframe, dataframe, string) -> dataframe\n",
    "    This function takes 2 dataframes from NHANES data and a merge method based on pd.merge and\n",
    "    creates a merged dataframe. This function assumes both dataframes include the SEQN variable used\n",
    "    as a unique identifier in NHANES.\n",
    "    '''\n",
    "    merged = df1.merge(df2, how = method, left_on = 'SEQN', right_on = 'SEQN')\n",
    "    \n",
    "    return merged"
   ]
  },
  {
   "cell_type": "code",
   "execution_count": 11,
   "metadata": {},
   "outputs": [],
   "source": [
    "# Use the NHANES-join function to sequentially join dataframes and create the full analytic dataset\n",
    "NHANES_demo_osteo = NHANES_join(NHANES_demo_analytic, NHANES_osteo_analytic, 'left')\n",
    "NHANES_do_health = NHANES_join(NHANES_demo_osteo, NHANES_health_analytic, 'left')\n",
    "NHANES_full = NHANES_join(NHANES_do_health, NHANES_dep_analytic, 'left')"
   ]
  },
  {
   "cell_type": "code",
   "execution_count": 12,
   "metadata": {},
   "outputs": [
    {
     "data": {
      "text/plain": [
       "<bound method NDFrame.head of           SEQN      WTINT2YR  RIDAGEYR  RIAGENDR  RIDRETH1  DMDEDUC2  OSQ060  \\\n",
       "0      41475.0  59356.356426      62.0       2.0       5.0       3.0     2.0   \n",
       "1      41476.0  35057.218405       6.0       2.0       5.0       NaN     NaN   \n",
       "2      41477.0   9935.266183      71.0       1.0       3.0       3.0     2.0   \n",
       "3      41478.0  12846.712058       1.0       2.0       3.0       NaN     NaN   \n",
       "4      41479.0   8727.797555      52.0       1.0       1.0       1.0     2.0   \n",
       "...        ...           ...       ...       ...       ...       ...     ...   \n",
       "10144  51619.0   5197.083889      61.0       1.0       1.0       1.0     2.0   \n",
       "10145  51620.0  27909.120820      50.0       2.0       3.0       2.0     2.0   \n",
       "10146  51621.0  11057.659484      17.0       1.0       2.0       NaN     NaN   \n",
       "10147  51622.0   9842.672903      60.0       2.0       4.0       1.0     2.0   \n",
       "10148  51623.0  24692.989537      72.0       1.0       3.0       1.0     2.0   \n",
       "\n",
       "       OSQ010A  OSQ010B        HSQ493        HSQ496  HSD010        DPQ020  \n",
       "0          2.0      2.0  7.000000e+00  1.000000e+01     3.0  5.397605e-79  \n",
       "1          NaN      NaN           NaN           NaN     NaN           NaN  \n",
       "2          2.0      2.0  5.397605e-79  5.397605e-79     3.0  5.397605e-79  \n",
       "3          NaN      NaN           NaN           NaN     NaN           NaN  \n",
       "4          2.0      2.0  5.397605e-79  5.397605e-79     4.0  5.397605e-79  \n",
       "...        ...      ...           ...           ...     ...           ...  \n",
       "10144      2.0      2.0  5.397605e-79  5.397605e-79     4.0  5.397605e-79  \n",
       "10145      2.0      2.0  5.397605e-79  7.000000e+00     2.0  5.397605e-79  \n",
       "10146      NaN      NaN  5.397605e-79  5.397605e-79     3.0           NaN  \n",
       "10147      2.0      2.0  5.397605e-79  5.397605e-79     2.0  5.397605e-79  \n",
       "10148      2.0      2.0  5.397605e-79  2.000000e+00     5.0  5.397605e-79  \n",
       "\n",
       "[10149 rows x 13 columns]>"
      ]
     },
     "execution_count": 12,
     "metadata": {},
     "output_type": "execute_result"
    }
   ],
   "source": [
    "# View the merged data set\n",
    "NHANES_full.head"
   ]
  },
  {
   "cell_type": "code",
   "execution_count": 13,
   "metadata": {},
   "outputs": [],
   "source": [
    "# To correct the data types of HSQ493, HSQ496, and DPQ020, '77' was chosen to fill NaN\n",
    "NHANES_full = NHANES_full.fillna(77)"
   ]
  },
  {
   "cell_type": "code",
   "execution_count": 14,
   "metadata": {},
   "outputs": [
    {
     "data": {
      "text/plain": [
       "<bound method NDFrame.head of         SEQN  RIDAGEYR  RIAGENDR  RIDRETH1  DMDEDUC2  OSQ060  OSQ010A  \\\n",
       "0      41475        62         2         5         3       2        2   \n",
       "1      41476         6         2         5        77      77       77   \n",
       "2      41477        71         1         3         3       2        2   \n",
       "3      41478         1         2         3        77      77       77   \n",
       "4      41479        52         1         1         1       2        2   \n",
       "...      ...       ...       ...       ...       ...     ...      ...   \n",
       "10144  51619        61         1         1         1       2        2   \n",
       "10145  51620        50         2         3         2       2        2   \n",
       "10146  51621        17         1         2        77      77       77   \n",
       "10147  51622        60         2         4         1       2        2   \n",
       "10148  51623        72         1         3         1       2        2   \n",
       "\n",
       "       OSQ010B  HSQ493  HSQ496  HSD010  DPQ020  \n",
       "0            2       7      10       3       0  \n",
       "1           77      77      77      77      77  \n",
       "2            2       0       0       3       0  \n",
       "3           77      77      77      77      77  \n",
       "4            2       0       0       4       0  \n",
       "...        ...     ...     ...     ...     ...  \n",
       "10144        2       0       0       4       0  \n",
       "10145        2       0       7       2       0  \n",
       "10146       77       0       0       3      77  \n",
       "10147        2       0       0       2       0  \n",
       "10148        2       0       2       5       0  \n",
       "\n",
       "[10149 rows x 12 columns]>"
      ]
     },
     "execution_count": 14,
     "metadata": {},
     "output_type": "execute_result"
    }
   ],
   "source": [
    "# All columns except weighting changed to integer type\n",
    "NHANES_analytic = NHANES_full[['SEQN', 'RIDAGEYR', 'RIAGENDR', 'RIDRETH1', 'DMDEDUC2', 'OSQ060',\n",
    "                            'OSQ010A', 'OSQ010B', 'HSQ493', 'HSQ496', 'HSD010', 'DPQ020']].astype('int64')\n",
    "\n",
    "NHANES_analytic.head"
   ]
  },
  {
   "cell_type": "code",
   "execution_count": 15,
   "metadata": {},
   "outputs": [],
   "source": [
    "# Replace missing values for the NHANES data set (77, 99)\n",
    "NHANES_analytic = NHANES_analytic.replace([77, 99, ' '], np.nan)"
   ]
  },
  {
   "cell_type": "code",
   "execution_count": 16,
   "metadata": {},
   "outputs": [
    {
     "data": {
      "text/plain": [
       "SEQN          int64\n",
       "RIDAGEYR    float64\n",
       "RIAGENDR      int64\n",
       "RIDRETH1      int64\n",
       "DMDEDUC2    float64\n",
       "OSQ060      float64\n",
       "OSQ010A     float64\n",
       "OSQ010B     float64\n",
       "HSQ493      float64\n",
       "HSQ496      float64\n",
       "HSD010      float64\n",
       "DPQ020      float64\n",
       "dtype: object"
      ]
     },
     "execution_count": 16,
     "metadata": {},
     "output_type": "execute_result"
    }
   ],
   "source": [
    "NHANES_analytic.dtypes"
   ]
  },
  {
   "cell_type": "code",
   "execution_count": 17,
   "metadata": {},
   "outputs": [
    {
     "data": {
      "text/plain": [
       "SEQN          int64\n",
       "RIDAGEYR    float64\n",
       "RIAGENDR      int64\n",
       "RIDRETH1      int64\n",
       "DMDEDUC2    float64\n",
       "OSQ060      float64\n",
       "OSQ010A     float64\n",
       "OSQ010B     float64\n",
       "HSQ493      float64\n",
       "HSQ496      float64\n",
       "HSD010      float64\n",
       "DPQ020      float64\n",
       "dtype: object"
      ]
     },
     "execution_count": 17,
     "metadata": {},
     "output_type": "execute_result"
    }
   ],
   "source": [
    "# To facilitate comparison betweeen SWAN and NHANES data, NHANES data limited to women age 51 - 63\n",
    "ageFilter = (NHANES_analytic['RIDAGEYR'] >= 51.0) & (NHANES_analytic['RIDAGEYR'] <= 63.0)\n",
    "genderFilter = NHANES_analytic['RIAGENDR'] == 2.0\n",
    "finalFilter = ageFilter & genderFilter\n",
    "\n",
    "NHANES_filtered = NHANES_analytic[finalFilter]\n",
    "NHANES_filtered.dtypes"
   ]
  },
  {
   "cell_type": "code",
   "execution_count": null,
   "metadata": {},
   "outputs": [],
   "source": []
  },
  {
   "cell_type": "code",
   "execution_count": 18,
   "metadata": {},
   "outputs": [
    {
     "data": {
      "text/plain": [
       "RIGHT FOOT                        4\n",
       "LEFT WRIST                        3\n",
       "LEFT RIBS                         3\n",
       "LEFT ELBOW                        3\n",
       "LEFT PINKY TOE                    3\n",
       "RIGHT ANKLE                       2\n",
       "RIGHT HIP                         1\n",
       "RIGHT SHOULDER                    1\n",
       "RIGHT THUMB                       1\n",
       "RIGHT 3RD TOE                     1\n",
       "RIGHT GREAT TOE                   1\n",
       "5TH METATARSEL IN RT FOOT         1\n",
       "RIGHT ANKLE - DOUBLE FRACTURE     1\n",
       "RIGHT ELBOW                       1\n",
       "RIBS BOTH SIDES                   1\n",
       "LEFT HAND NEAR WRIST              1\n",
       "LEFT ULNA                         1\n",
       "LT PINKY TOE, LT 5TH DIGIT        1\n",
       "LEFT METATARSAL BONE              1\n",
       "RIGHT FOOT ARCH BONE              1\n",
       "LEFT FOOT                         1\n",
       "LEFT BIG TOE                      1\n",
       "BABY TOE LT FOOT 5TH DIGIT        1\n",
       "BOTH FEET                         1\n",
       "LEFT TOE                          1\n",
       "BOTH WRISTS                       1\n",
       "LEFT 2ND TOE FROM THE BIG TOE.    1\n",
       "RIGHT FOURTH TOE                  1\n",
       "LEFT ANKLE                        1\n",
       "BIG TOE RT FOOT                   1\n",
       "LEFT HAND 1ST & 2ND FINGER        1\n",
       "NOSE                              1\n",
       "RIGHT FOOT, METATARSAL            1\n",
       "LEFT SMALL TOE                    1\n",
       "RIGHT BIG TOE                     1\n",
       "LEFT MIDDLE TOE                   1\n",
       "LEFT ULNA & RADIUS                1\n",
       "RIGHT TOE                         1\n",
       "RIGHT WRIST                       1\n",
       "Name: BONES110, dtype: int64"
      ]
     },
     "execution_count": 18,
     "metadata": {},
     "output_type": "execute_result"
    }
   ],
   "source": [
    "# Create variables in SWAN data for hip fracture and wrist fracture to harmonize with NHANES\n",
    "# View the unique values\n",
    "SWAN_analytic['BONES110'].value_counts()"
   ]
  },
  {
   "cell_type": "code",
   "execution_count": 19,
   "metadata": {},
   "outputs": [],
   "source": [
    "# Create a new column for wrist fracture - attempt set aside for another time, as data type is not compatible with\n",
    "# current approach and understanding\n",
    "# SWAN_analytic['WristFrac'] = [1 if (bone.lower == 'both wrists') else 0 for bone in SWAN_analytic['BONES110']]"
   ]
  },
  {
   "cell_type": "code",
   "execution_count": 20,
   "metadata": {},
   "outputs": [
    {
     "data": {
      "text/plain": [
       "0       NaN\n",
       "1       NaN\n",
       "2       NaN\n",
       "3       NaN\n",
       "4       NaN\n",
       "       ... \n",
       "2240    NaN\n",
       "2241    NaN\n",
       "2242    NaN\n",
       "2243    NaN\n",
       "2244    NaN\n",
       "Name: BONES110, Length: 2245, dtype: object"
      ]
     },
     "execution_count": 20,
     "metadata": {},
     "output_type": "execute_result"
    }
   ],
   "source": [
    "SWAN_analytic['BONES110']"
   ]
  },
  {
   "cell_type": "code",
   "execution_count": 21,
   "metadata": {},
   "outputs": [
    {
     "data": {
      "text/plain": [
       "RIGHT FOOT                        4\n",
       "LEFT WRIST                        3\n",
       "LEFT RIBS                         3\n",
       "LEFT ELBOW                        3\n",
       "LEFT PINKY TOE                    3\n",
       "RIGHT ANKLE                       2\n",
       "RIGHT HIP                         1\n",
       "RIGHT SHOULDER                    1\n",
       "RIGHT THUMB                       1\n",
       "RIGHT 3RD TOE                     1\n",
       "RIGHT GREAT TOE                   1\n",
       "5TH METATARSEL IN RT FOOT         1\n",
       "RIGHT ANKLE - DOUBLE FRACTURE     1\n",
       "RIGHT ELBOW                       1\n",
       "RIBS BOTH SIDES                   1\n",
       "LEFT HAND NEAR WRIST              1\n",
       "LEFT ULNA                         1\n",
       "LT PINKY TOE, LT 5TH DIGIT        1\n",
       "LEFT METATARSAL BONE              1\n",
       "RIGHT FOOT ARCH BONE              1\n",
       "LEFT FOOT                         1\n",
       "LEFT BIG TOE                      1\n",
       "BABY TOE LT FOOT 5TH DIGIT        1\n",
       "BOTH FEET                         1\n",
       "LEFT TOE                          1\n",
       "BOTH WRISTS                       1\n",
       "LEFT 2ND TOE FROM THE BIG TOE.    1\n",
       "RIGHT FOURTH TOE                  1\n",
       "LEFT ANKLE                        1\n",
       "BIG TOE RT FOOT                   1\n",
       "LEFT HAND 1ST & 2ND FINGER        1\n",
       "NOSE                              1\n",
       "RIGHT FOOT, METATARSAL            1\n",
       "LEFT SMALL TOE                    1\n",
       "RIGHT BIG TOE                     1\n",
       "LEFT MIDDLE TOE                   1\n",
       "LEFT ULNA & RADIUS                1\n",
       "RIGHT TOE                         1\n",
       "RIGHT WRIST                       1\n",
       "Name: BONES110, dtype: int64"
      ]
     },
     "execution_count": 21,
     "metadata": {},
     "output_type": "execute_result"
    }
   ],
   "source": [
    "SWAN_analytic['BONES110'].value_counts()"
   ]
  },
  {
   "cell_type": "markdown",
   "metadata": {},
   "source": [
    "### Recoding Data based on Codebook\n",
    "\n",
    "Variables were harmonized based on cross-examination of the available codebooks (detailed in `DeMarco_HDS5210Final_VariableFile.xlsx`). Variables were renamed and values recoded to facilitate comprehension based on the provided codebooks. "
   ]
  },
  {
   "cell_type": "code",
   "execution_count": 22,
   "metadata": {},
   "outputs": [
    {
     "data": {
      "text/plain": [
       "Index(['SWANID', 'AGE10', 'OSTEOPR10', 'BROKEBO10', 'BONES110', 'PAINTRF10',\n",
       "       'NERV4WK10', 'DEPRESS10', 'OVERHLT10', 'RACE', 'DEGREE'],\n",
       "      dtype='object')"
      ]
     },
     "execution_count": 22,
     "metadata": {},
     "output_type": "execute_result"
    }
   ],
   "source": [
    "# View the columns for SWAN data\n",
    "SWAN_analytic.columns"
   ]
  },
  {
   "cell_type": "code",
   "execution_count": 23,
   "metadata": {},
   "outputs": [],
   "source": [
    "# Rename variables in SWAN data to match the common definitions\n",
    "SWAN_analytic = SWAN_analytic.rename(columns = {'SWANID': 'ID', 'AGE10': 'Age', 'OSTEOPR10': 'OsteoDx', 'BROKEBO10': 'BrokeBone', 'BONES110':'FractureType', 'PAINTRF10':'Pain',\n",
    "       'NERV4WK10': 'Anxiety', 'DEPRESS10': 'Depress', 'OVERHLT10': 'OverallHealth', 'RACE': 'Race', 'DEGREE': 'Educ'})"
   ]
  },
  {
   "cell_type": "code",
   "execution_count": 24,
   "metadata": {},
   "outputs": [],
   "source": [
    "# Recode the overall health variable\n",
    "SWAN_analytic['OverallHealth'] = SWAN_analytic['OverallHealth'].map({'1': 'Excellent',\n",
    "                                    '2': 'Very Good',\n",
    "                                    '3': 'Good',\n",
    "                                    '4': 'Fair',\n",
    "                                    '5': 'Poor',\n",
    "                                    '-8': np.nan,\n",
    "                                    '-7': np.nan})"
   ]
  },
  {
   "cell_type": "code",
   "execution_count": 25,
   "metadata": {},
   "outputs": [
    {
     "data": {
      "text/plain": [
       "Very Good    798\n",
       "Good         744\n",
       "Fair         314\n",
       "Excellent    294\n",
       "Poor          46\n",
       "Name: OverallHealth, dtype: int64"
      ]
     },
     "execution_count": 25,
     "metadata": {},
     "output_type": "execute_result"
    }
   ],
   "source": [
    "SWAN_analytic['OverallHealth'].value_counts()"
   ]
  },
  {
   "cell_type": "code",
   "execution_count": 26,
   "metadata": {},
   "outputs": [],
   "source": [
    "# Recode the Race data\n",
    "SWAN_analytic.loc[SWAN_analytic['Race'] == '1', 'Race'] = 'Non-Hispanic Black'\n",
    "SWAN_analytic.loc[SWAN_analytic['Race'] == '2', 'Race'] = 'Other'\n",
    "SWAN_analytic.loc[SWAN_analytic['Race'] == '3', 'Race'] = 'Other'\n",
    "SWAN_analytic.loc[SWAN_analytic['Race'] == '4', 'Race'] = 'Non-Hispanic White'\n",
    "SWAN_analytic.loc[SWAN_analytic['Race'] == '5', 'Race'] = 'Hispanic'"
   ]
  },
  {
   "cell_type": "code",
   "execution_count": 27,
   "metadata": {},
   "outputs": [
    {
     "data": {
      "text/plain": [
       "Non-Hispanic White    1114\n",
       "Non-Hispanic Black     663\n",
       "Other                  468\n",
       "Name: Race, dtype: int64"
      ]
     },
     "execution_count": 27,
     "metadata": {},
     "output_type": "execute_result"
    }
   ],
   "source": [
    "SWAN_analytic['Race'].value_counts()"
   ]
  },
  {
   "cell_type": "code",
   "execution_count": 28,
   "metadata": {},
   "outputs": [],
   "source": [
    "# Recode Osteoporosis diagnosis variable\n",
    "SWAN_analytic.loc[SWAN_analytic['OsteoDx'] == 1, 'OsteoDx'] = 'No'\n",
    "SWAN_analytic.loc[SWAN_analytic['OsteoDx'] == \"1\", 'OsteoDx'] = 'No'\n",
    "SWAN_analytic.loc[SWAN_analytic['OsteoDx'] == 2, 'OsteoDx'] = 'Yes'\n",
    "SWAN_analytic.loc[SWAN_analytic['OsteoDx'] == '2', 'OsteoDx'] = 'Yes'"
   ]
  },
  {
   "cell_type": "code",
   "execution_count": 29,
   "metadata": {},
   "outputs": [
    {
     "data": {
      "text/plain": [
       "No     2067\n",
       "Yes     165\n",
       "Name: OsteoDx, dtype: int64"
      ]
     },
     "execution_count": 29,
     "metadata": {},
     "output_type": "execute_result"
    }
   ],
   "source": [
    "SWAN_analytic['OsteoDx'].value_counts()"
   ]
  },
  {
   "cell_type": "code",
   "execution_count": 30,
   "metadata": {},
   "outputs": [],
   "source": [
    "# Recode the deppressed variable\n",
    "SWAN_analytic.loc[SWAN_analytic['Depress'] == \"1\", 'Depress'] = 'None'\n",
    "SWAN_analytic.loc[SWAN_analytic['Depress'] == '2', 'Depress'] = 'Several Days'\n",
    "SWAN_analytic.loc[SWAN_analytic['Depress'] == '3', 'Depress'] = 'More than half the days'\n",
    "SWAN_analytic.loc[SWAN_analytic['Depress'] == '4', 'Depress'] = 'Nearly Every Day'"
   ]
  },
  {
   "cell_type": "code",
   "execution_count": 31,
   "metadata": {},
   "outputs": [
    {
     "data": {
      "text/plain": [
       "None                       1452\n",
       "Several Days                442\n",
       "More than half the days     144\n",
       "Nearly Every Day             52\n",
       "Name: Depress, dtype: int64"
      ]
     },
     "execution_count": 31,
     "metadata": {},
     "output_type": "execute_result"
    }
   ],
   "source": [
    "SWAN_analytic['Depress'].value_counts()"
   ]
  },
  {
   "cell_type": "code",
   "execution_count": 32,
   "metadata": {},
   "outputs": [],
   "source": [
    "# Recode the education variable\n",
    "SWAN_analytic.loc[SWAN_analytic['Educ'] == '1', 'Educ'] = 'Less than High School'\n",
    "SWAN_analytic.loc[SWAN_analytic['Educ'] == '2', 'Educ'] = 'High School Graduate'\n",
    "SWAN_analytic.loc[SWAN_analytic['Educ'] == '3', 'Educ'] = 'Some College'\n",
    "SWAN_analytic.loc[SWAN_analytic['Educ'] == '4', 'Educ'] = 'College Graduate and Above'\n",
    "SWAN_analytic.loc[SWAN_analytic['Educ'] == '5', 'Educ'] = 'College Graduate and Above'"
   ]
  },
  {
   "cell_type": "code",
   "execution_count": 33,
   "metadata": {},
   "outputs": [
    {
     "data": {
      "text/plain": [
       "College Graduate and Above    1077\n",
       "Some College                   729\n",
       "High School Graduate           348\n",
       "Less than High School           77\n",
       "Name: Educ, dtype: int64"
      ]
     },
     "execution_count": 33,
     "metadata": {},
     "output_type": "execute_result"
    }
   ],
   "source": [
    "SWAN_analytic['Educ'].value_counts()"
   ]
  },
  {
   "cell_type": "code",
   "execution_count": 34,
   "metadata": {},
   "outputs": [],
   "source": [
    "# Recode the pain variable\n",
    "SWAN_analytic.loc[SWAN_analytic['Pain'] == '1', 'Pain'] = 'Not at All'\n",
    "SWAN_analytic.loc[SWAN_analytic['Pain'] == '2', 'Pain'] = 'Slightly'\n",
    "SWAN_analytic.loc[SWAN_analytic['Pain'] == '3', 'Pain'] = 'Moderately'\n",
    "SWAN_analytic.loc[SWAN_analytic['Pain'] == '4', 'Pain'] = 'Quite a Bit'\n",
    "SWAN_analytic.loc[SWAN_analytic['Pain'] == '5', 'Pain'] = 'Extremely'"
   ]
  },
  {
   "cell_type": "code",
   "execution_count": 35,
   "metadata": {},
   "outputs": [
    {
     "data": {
      "text/plain": [
       "Not at All     1185\n",
       "Slightly        541\n",
       "Moderately      223\n",
       "Quite a Bit     115\n",
       "Extremely        25\n",
       "Name: Pain, dtype: int64"
      ]
     },
     "execution_count": 35,
     "metadata": {},
     "output_type": "execute_result"
    }
   ],
   "source": [
    "SWAN_analytic['Pain'].value_counts()"
   ]
  },
  {
   "cell_type": "code",
   "execution_count": 36,
   "metadata": {},
   "outputs": [],
   "source": [
    "# Recode the anxiety variable\n",
    "SWAN_analytic.loc[SWAN_analytic['Anxiety'] == '1', 'Anxiety'] = 'All of the Time'\n",
    "SWAN_analytic.loc[SWAN_analytic['Anxiety'] == '2', 'Anxiety'] = 'Most of the Time'\n",
    "SWAN_analytic.loc[SWAN_analytic['Anxiety'] == '3', 'Anxiety'] = 'A Good Bit of the Time'\n",
    "SWAN_analytic.loc[SWAN_analytic['Anxiety'] == '4', 'Anxiety'] = 'Some of the Time'\n",
    "SWAN_analytic.loc[SWAN_analytic['Anxiety'] == '5', 'Anxiety'] = 'A Little of the Time'\n",
    "SWAN_analytic.loc[SWAN_analytic['Anxiety'] == '6', 'Anxiety'] = 'None of the Time'"
   ]
  },
  {
   "cell_type": "code",
   "execution_count": 37,
   "metadata": {},
   "outputs": [
    {
     "data": {
      "text/plain": [
       "None of the Time          987\n",
       "A Little of the Time      724\n",
       "Some of the Time          253\n",
       "A Good Bit of the Time     75\n",
       "Most of the Time           40\n",
       "All of the Time            10\n",
       "Name: Anxiety, dtype: int64"
      ]
     },
     "execution_count": 37,
     "metadata": {},
     "output_type": "execute_result"
    }
   ],
   "source": [
    "SWAN_analytic['Anxiety'].value_counts()"
   ]
  },
  {
   "cell_type": "code",
   "execution_count": 38,
   "metadata": {},
   "outputs": [],
   "source": [
    "# Create broken bone composite variable in NHANES to harmonize with SWAN"
   ]
  },
  {
   "cell_type": "code",
   "execution_count": 39,
   "metadata": {},
   "outputs": [
    {
     "data": {
      "text/plain": [
       "Index(['SEQN', 'RIDAGEYR', 'RIAGENDR', 'RIDRETH1', 'DMDEDUC2', 'OSQ060',\n",
       "       'OSQ010A', 'OSQ010B', 'HSQ493', 'HSQ496', 'HSD010', 'DPQ020'],\n",
       "      dtype='object')"
      ]
     },
     "execution_count": 39,
     "metadata": {},
     "output_type": "execute_result"
    }
   ],
   "source": [
    "# View the columns in NHANES\n",
    "NHANES_filtered.columns"
   ]
  },
  {
   "cell_type": "code",
   "execution_count": 40,
   "metadata": {},
   "outputs": [],
   "source": [
    "# Rename the variables in NHANES data to match the common definitions\n",
    "NHANES_filtered = NHANES_filtered.rename(columns = {'SEQN': 'ID', 'RIDAGEYR': 'Age', 'OSQ060': 'OsteoDx', 'OSQ010A': 'HipFracture', 'OSQ010B': 'WristFracture', 'HSQ493':'Pain',\n",
    "       'HSQ496': 'Anxiety', 'DPQ020': 'Depress', 'HSD010': 'OverallHealth', 'RIDRETH1': 'Race', 'DMDEDUC2': 'Educ'})"
   ]
  },
  {
   "cell_type": "code",
   "execution_count": 41,
   "metadata": {},
   "outputs": [
    {
     "data": {
      "text/plain": [
       "3.0    241\n",
       "4.0    153\n",
       "2.0    120\n",
       "1.0     42\n",
       "5.0     35\n",
       "Name: OverallHealth, dtype: int64"
      ]
     },
     "execution_count": 41,
     "metadata": {},
     "output_type": "execute_result"
    }
   ],
   "source": [
    "NHANES_filtered['OverallHealth'].value_counts()"
   ]
  },
  {
   "cell_type": "code",
   "execution_count": 42,
   "metadata": {},
   "outputs": [],
   "source": [
    "NHANES_filtered.loc[NHANES_filtered['OverallHealth'] == 1.0, 'OverallHealth'] = 'Excellent'\n",
    "NHANES_filtered.loc[NHANES_filtered['OverallHealth'] == 2.0, 'OverallHealth'] = 'Very Good'\n",
    "NHANES_filtered.loc[NHANES_filtered['OverallHealth'] == 3.0, 'OverallHealth'] = 'Good'\n",
    "NHANES_filtered.loc[NHANES_filtered['OverallHealth'] == 4.0, 'OverallHealth'] = 'Fair'\n",
    "NHANES_filtered.loc[NHANES_filtered['OverallHealth'] == 5.0, 'OverallHealth'] = 'Poor'"
   ]
  },
  {
   "cell_type": "code",
   "execution_count": 43,
   "metadata": {},
   "outputs": [
    {
     "data": {
      "text/plain": [
       "Good         241\n",
       "Fair         153\n",
       "Very Good    120\n",
       "Excellent     42\n",
       "Poor          35\n",
       "Name: OverallHealth, dtype: int64"
      ]
     },
     "execution_count": 43,
     "metadata": {},
     "output_type": "execute_result"
    }
   ],
   "source": [
    "NHANES_filtered['OverallHealth'].value_counts()"
   ]
  },
  {
   "cell_type": "code",
   "execution_count": 44,
   "metadata": {},
   "outputs": [
    {
     "data": {
      "text/plain": [
       "3    254\n",
       "4    161\n",
       "1    123\n",
       "2     92\n",
       "5     29\n",
       "Name: Race, dtype: int64"
      ]
     },
     "execution_count": 44,
     "metadata": {},
     "output_type": "execute_result"
    }
   ],
   "source": [
    "NHANES_filtered['Race'].value_counts()"
   ]
  },
  {
   "cell_type": "code",
   "execution_count": 45,
   "metadata": {},
   "outputs": [],
   "source": [
    "# Recode the Race data\n",
    "NHANES_filtered.loc[NHANES_filtered['Race'] == 1, 'Race'] = 'Hispanic'\n",
    "NHANES_filtered.loc[NHANES_filtered['Race'] == 2, 'Race'] = 'Hispanic'\n",
    "NHANES_filtered.loc[NHANES_filtered['Race'] == 3, 'Race'] = 'Non-Hispanic White'\n",
    "NHANES_filtered.loc[NHANES_filtered['Race'] == 4, 'Race'] = 'Non-Hispanic Black'\n",
    "NHANES_filtered.loc[NHANES_filtered['Race'] == 5, 'Race'] = 'Other'"
   ]
  },
  {
   "cell_type": "code",
   "execution_count": 46,
   "metadata": {},
   "outputs": [
    {
     "data": {
      "text/plain": [
       "Non-Hispanic White    254\n",
       "Hispanic              215\n",
       "Non-Hispanic Black    161\n",
       "Other                  29\n",
       "Name: Race, dtype: int64"
      ]
     },
     "execution_count": 46,
     "metadata": {},
     "output_type": "execute_result"
    }
   ],
   "source": [
    "NHANES_filtered['Race'].value_counts()"
   ]
  },
  {
   "cell_type": "code",
   "execution_count": 47,
   "metadata": {},
   "outputs": [],
   "source": [
    "NHANES_filtered.loc[NHANES_filtered['OsteoDx'] == 1, 'OsteoDx'] = 'Yes'\n",
    "NHANES_filtered.loc[NHANES_filtered['OsteoDx'] == 2, 'OsteoDx'] = 'No'\n",
    "NHANES_filtered.loc[NHANES_filtered['OsteoDx'] == 9, 'OsteoDx'] = np.nan"
   ]
  },
  {
   "cell_type": "code",
   "execution_count": 48,
   "metadata": {},
   "outputs": [
    {
     "data": {
      "text/plain": [
       "No     568\n",
       "Yes     89\n",
       "Name: OsteoDx, dtype: int64"
      ]
     },
     "execution_count": 48,
     "metadata": {},
     "output_type": "execute_result"
    }
   ],
   "source": [
    "NHANES_filtered['OsteoDx'].value_counts()"
   ]
  },
  {
   "cell_type": "code",
   "execution_count": 49,
   "metadata": {},
   "outputs": [],
   "source": [
    "# Recode the deppressed variable\n",
    "NHANES_filtered.loc[NHANES_filtered['Depress'] == 0, 'Depress'] = 'None'\n",
    "NHANES_filtered.loc[NHANES_filtered['Depress'] == 1, 'Depress'] = 'Several Days'\n",
    "NHANES_filtered.loc[NHANES_filtered['Depress'] == 2, 'Depress'] = 'More than half the days'\n",
    "NHANES_filtered.loc[NHANES_filtered['Depress'] == 3, 'Depress'] = 'Nearly Every Day'\n",
    "NHANES_filtered.loc[NHANES_filtered['Depress'] == 7, 'Depress'] = np.nan\n",
    "NHANES_filtered.loc[NHANES_filtered['Depress'] == 9, 'Depress'] = np.nan"
   ]
  },
  {
   "cell_type": "code",
   "execution_count": 50,
   "metadata": {},
   "outputs": [
    {
     "data": {
      "text/plain": [
       "None                       402\n",
       "Several Days               122\n",
       "Nearly Every Day            38\n",
       "More than half the days     26\n",
       "Name: Depress, dtype: int64"
      ]
     },
     "execution_count": 50,
     "metadata": {},
     "output_type": "execute_result"
    }
   ],
   "source": [
    "NHANES_filtered['Depress'].value_counts()"
   ]
  },
  {
   "cell_type": "code",
   "execution_count": 51,
   "metadata": {},
   "outputs": [],
   "source": [
    "# Recode the education variable\n",
    "NHANES_filtered.loc[NHANES_filtered['Educ'] == 1, 'Educ'] = 'Less than High School'\n",
    "NHANES_filtered.loc[NHANES_filtered['Educ'] == 2, 'Educ'] = 'Less than High School'\n",
    "NHANES_filtered.loc[NHANES_filtered['Educ'] == 3, 'Educ'] = 'High School Graduate'\n",
    "NHANES_filtered.loc[NHANES_filtered['Educ'] == 4, 'Educ'] = 'Some College'\n",
    "NHANES_filtered.loc[NHANES_filtered['Educ'] == 5, 'Educ'] = 'College Graduate and Above'\n",
    "NHANES_filtered.loc[NHANES_filtered['Educ'] == 7, 'Educ'] = np.nan\n",
    "NHANES_filtered.loc[NHANES_filtered['Educ'] == 9, 'Educ'] = np.nan"
   ]
  },
  {
   "cell_type": "code",
   "execution_count": 52,
   "metadata": {},
   "outputs": [
    {
     "data": {
      "text/plain": [
       "Less than High School         199\n",
       "Some College                  173\n",
       "High School Graduate          161\n",
       "College Graduate and Above    126\n",
       "Name: Educ, dtype: int64"
      ]
     },
     "execution_count": 52,
     "metadata": {},
     "output_type": "execute_result"
    }
   ],
   "source": [
    "NHANES_filtered['Educ'].value_counts()"
   ]
  },
  {
   "cell_type": "code",
   "execution_count": 53,
   "metadata": {},
   "outputs": [],
   "source": [
    "# Create a new varaible for the recoded pain data\n",
    "NHANES_filtered['Pain2'] = np.nan"
   ]
  },
  {
   "cell_type": "code",
   "execution_count": 54,
   "metadata": {},
   "outputs": [],
   "source": [
    "# Recode the pain variable\n",
    "NHANES_filtered.loc[(NHANES_filtered['Pain'] >= 0)&(NHANES_filtered['Pain'] < 6), 'Pain2'] = 'Not at All'\n",
    "NHANES_filtered.loc[(NHANES_filtered['Pain'] >= 6)&(NHANES_filtered['Pain'] < 12), 'Pain2'] = 'Slightly'\n",
    "NHANES_filtered.loc[(NHANES_filtered['Pain'] >= 12)&(NHANES_filtered['Pain'] < 18), 'Pain2'] = 'Moderately'\n",
    "NHANES_filtered.loc[(NHANES_filtered['Pain'] >= 18)&(NHANES_filtered['Pain'] < 24), 'Pain2'] = 'Quite a Bit'\n",
    "NHANES_filtered.loc[(NHANES_filtered['Pain'] >= 24)&(NHANES_filtered['Pain'] <= 30), 'Pain2'] = 'Extremely'"
   ]
  },
  {
   "cell_type": "code",
   "execution_count": 55,
   "metadata": {},
   "outputs": [
    {
     "data": {
      "text/plain": [
       "Not at All     464\n",
       "Extremely       61\n",
       "Slightly        39\n",
       "Moderately      14\n",
       "Quite a Bit     12\n",
       "Name: Pain2, dtype: int64"
      ]
     },
     "execution_count": 55,
     "metadata": {},
     "output_type": "execute_result"
    }
   ],
   "source": [
    "NHANES_filtered['Pain2'].value_counts()"
   ]
  },
  {
   "cell_type": "code",
   "execution_count": 56,
   "metadata": {},
   "outputs": [],
   "source": [
    "# Create a new varaible for the recoded pain data\n",
    "NHANES_filtered['Anxiety2'] = np.nan"
   ]
  },
  {
   "cell_type": "code",
   "execution_count": 57,
   "metadata": {},
   "outputs": [],
   "source": [
    "# Recode the anxiety variable\n",
    "NHANES_filtered.loc[(NHANES_filtered['Anxiety'] <= 30) & (NHANES_filtered['Anxiety'] >=25), 'Anxiety2'] = 'All of the Time'\n",
    "NHANES_filtered.loc[(NHANES_filtered['Anxiety'] < 25) & (NHANES_filtered['Anxiety'] >=20), 'Anxiety2'] = 'Most of the Time'\n",
    "NHANES_filtered.loc[(NHANES_filtered['Anxiety'] <20) & (NHANES_filtered['Anxiety'] >=15), 'Anxiety2'] = 'A Good Bit of the Time'\n",
    "NHANES_filtered.loc[(NHANES_filtered['Anxiety'] < 15) & (NHANES_filtered['Anxiety'] >=10), 'Anxiety2'] = 'Some of the Time'\n",
    "NHANES_filtered.loc[(NHANES_filtered['Anxiety'] <10) & (NHANES_filtered['Anxiety'] >=5), 'Anxiety2'] = 'A Little of the Time'\n",
    "NHANES_filtered.loc[(NHANES_filtered['Anxiety'] < 5) & (NHANES_filtered['Anxiety'] >=0), 'Anxiety2'] = 'None of the Time'"
   ]
  },
  {
   "cell_type": "code",
   "execution_count": 58,
   "metadata": {},
   "outputs": [
    {
     "data": {
      "text/plain": [
       "None of the Time          359\n",
       "A Little of the Time       92\n",
       "All of the Time            79\n",
       "Some of the Time           29\n",
       "A Good Bit of the Time     21\n",
       "Most of the Time           10\n",
       "Name: Anxiety2, dtype: int64"
      ]
     },
     "execution_count": 58,
     "metadata": {},
     "output_type": "execute_result"
    }
   ],
   "source": [
    "NHANES_filtered['Anxiety2'].value_counts()"
   ]
  },
  {
   "cell_type": "code",
   "execution_count": 59,
   "metadata": {},
   "outputs": [],
   "source": [
    "# Drop the raw gender, anxiety and pain columns\n",
    "NHANES_filtered = NHANES_filtered.drop(columns = ['Anxiety', 'Pain', 'RIAGENDR'])\n",
    "# Rename the recoded anxiety and pain columns in NHANES \n",
    "NHANES_filtered = NHANES_filtered.rename(columns = {'Anxiety2': 'Anxiety', 'Pain2': 'Pain'})"
   ]
  },
  {
   "cell_type": "code",
   "execution_count": 60,
   "metadata": {},
   "outputs": [],
   "source": [
    "# Concatenate the NHANES and SWAN datasets, using the source identifier as a key and resetting the index\n",
    "compositeData = pd.concat([SWAN_analytic, NHANES_filtered], axis = 0, keys = ['SWAN', 'NHANES'], names = ['source']).reset_index(level = 'source')"
   ]
  },
  {
   "cell_type": "code",
   "execution_count": 61,
   "metadata": {},
   "outputs": [
    {
     "data": {
      "text/html": [
       "<div>\n",
       "<style scoped>\n",
       "    .dataframe tbody tr th:only-of-type {\n",
       "        vertical-align: middle;\n",
       "    }\n",
       "\n",
       "    .dataframe tbody tr th {\n",
       "        vertical-align: top;\n",
       "    }\n",
       "\n",
       "    .dataframe thead th {\n",
       "        text-align: right;\n",
       "    }\n",
       "</style>\n",
       "<table border=\"1\" class=\"dataframe\">\n",
       "  <thead>\n",
       "    <tr style=\"text-align: right;\">\n",
       "      <th></th>\n",
       "      <th>source</th>\n",
       "      <th>ID</th>\n",
       "      <th>Age</th>\n",
       "      <th>OsteoDx</th>\n",
       "      <th>BrokeBone</th>\n",
       "      <th>FractureType</th>\n",
       "      <th>Pain</th>\n",
       "      <th>Anxiety</th>\n",
       "      <th>Depress</th>\n",
       "      <th>OverallHealth</th>\n",
       "      <th>Race</th>\n",
       "      <th>Educ</th>\n",
       "      <th>HipFracture</th>\n",
       "      <th>WristFracture</th>\n",
       "    </tr>\n",
       "  </thead>\n",
       "  <tbody>\n",
       "    <tr>\n",
       "      <th>0</th>\n",
       "      <td>SWAN</td>\n",
       "      <td>10046</td>\n",
       "      <td>62</td>\n",
       "      <td>No</td>\n",
       "      <td>0</td>\n",
       "      <td>NaN</td>\n",
       "      <td>Not at All</td>\n",
       "      <td>None of the Time</td>\n",
       "      <td>None</td>\n",
       "      <td>Excellent</td>\n",
       "      <td>Other</td>\n",
       "      <td>High School Graduate</td>\n",
       "      <td>NaN</td>\n",
       "      <td>NaN</td>\n",
       "    </tr>\n",
       "    <tr>\n",
       "      <th>1</th>\n",
       "      <td>SWAN</td>\n",
       "      <td>10056</td>\n",
       "      <td>61</td>\n",
       "      <td>No</td>\n",
       "      <td>0</td>\n",
       "      <td>NaN</td>\n",
       "      <td>Not at All</td>\n",
       "      <td>None of the Time</td>\n",
       "      <td>None</td>\n",
       "      <td>Very Good</td>\n",
       "      <td>Non-Hispanic White</td>\n",
       "      <td>Some College</td>\n",
       "      <td>NaN</td>\n",
       "      <td>NaN</td>\n",
       "    </tr>\n",
       "    <tr>\n",
       "      <th>2</th>\n",
       "      <td>SWAN</td>\n",
       "      <td>10153</td>\n",
       "      <td>61</td>\n",
       "      <td>No</td>\n",
       "      <td>0</td>\n",
       "      <td>NaN</td>\n",
       "      <td>Not at All</td>\n",
       "      <td>None of the Time</td>\n",
       "      <td>None</td>\n",
       "      <td>Good</td>\n",
       "      <td>Other</td>\n",
       "      <td>High School Graduate</td>\n",
       "      <td>NaN</td>\n",
       "      <td>NaN</td>\n",
       "    </tr>\n",
       "    <tr>\n",
       "      <th>3</th>\n",
       "      <td>SWAN</td>\n",
       "      <td>10196</td>\n",
       "      <td>56</td>\n",
       "      <td>No</td>\n",
       "      <td>0</td>\n",
       "      <td>NaN</td>\n",
       "      <td>Not at All</td>\n",
       "      <td>Some of the Time</td>\n",
       "      <td>None</td>\n",
       "      <td>Good</td>\n",
       "      <td>Other</td>\n",
       "      <td>College Graduate and Above</td>\n",
       "      <td>NaN</td>\n",
       "      <td>NaN</td>\n",
       "    </tr>\n",
       "    <tr>\n",
       "      <th>4</th>\n",
       "      <td>SWAN</td>\n",
       "      <td>10245</td>\n",
       "      <td>57</td>\n",
       "      <td>No</td>\n",
       "      <td>0</td>\n",
       "      <td>NaN</td>\n",
       "      <td>Not at All</td>\n",
       "      <td>A Little of the Time</td>\n",
       "      <td>Several Days</td>\n",
       "      <td>Very Good</td>\n",
       "      <td>Non-Hispanic White</td>\n",
       "      <td>High School Graduate</td>\n",
       "      <td>NaN</td>\n",
       "      <td>NaN</td>\n",
       "    </tr>\n",
       "    <tr>\n",
       "      <th>...</th>\n",
       "      <td>...</td>\n",
       "      <td>...</td>\n",
       "      <td>...</td>\n",
       "      <td>...</td>\n",
       "      <td>...</td>\n",
       "      <td>...</td>\n",
       "      <td>...</td>\n",
       "      <td>...</td>\n",
       "      <td>...</td>\n",
       "      <td>...</td>\n",
       "      <td>...</td>\n",
       "      <td>...</td>\n",
       "      <td>...</td>\n",
       "      <td>...</td>\n",
       "    </tr>\n",
       "    <tr>\n",
       "      <th>10121</th>\n",
       "      <td>NHANES</td>\n",
       "      <td>51596</td>\n",
       "      <td>52</td>\n",
       "      <td>No</td>\n",
       "      <td>NaN</td>\n",
       "      <td>NaN</td>\n",
       "      <td>Not at All</td>\n",
       "      <td>A Little of the Time</td>\n",
       "      <td>None</td>\n",
       "      <td>Fair</td>\n",
       "      <td>Hispanic</td>\n",
       "      <td>Less than High School</td>\n",
       "      <td>2.0</td>\n",
       "      <td>2.0</td>\n",
       "    </tr>\n",
       "    <tr>\n",
       "      <th>10129</th>\n",
       "      <td>NHANES</td>\n",
       "      <td>51604</td>\n",
       "      <td>53</td>\n",
       "      <td>No</td>\n",
       "      <td>NaN</td>\n",
       "      <td>NaN</td>\n",
       "      <td>Not at All</td>\n",
       "      <td>None of the Time</td>\n",
       "      <td>None</td>\n",
       "      <td>Very Good</td>\n",
       "      <td>Non-Hispanic White</td>\n",
       "      <td>College Graduate and Above</td>\n",
       "      <td>2.0</td>\n",
       "      <td>1.0</td>\n",
       "    </tr>\n",
       "    <tr>\n",
       "      <th>10136</th>\n",
       "      <td>NHANES</td>\n",
       "      <td>51611</td>\n",
       "      <td>55</td>\n",
       "      <td>No</td>\n",
       "      <td>NaN</td>\n",
       "      <td>NaN</td>\n",
       "      <td>Not at All</td>\n",
       "      <td>None of the Time</td>\n",
       "      <td>None</td>\n",
       "      <td>Good</td>\n",
       "      <td>Non-Hispanic White</td>\n",
       "      <td>Some College</td>\n",
       "      <td>2.0</td>\n",
       "      <td>2.0</td>\n",
       "    </tr>\n",
       "    <tr>\n",
       "      <th>10140</th>\n",
       "      <td>NHANES</td>\n",
       "      <td>51615</td>\n",
       "      <td>61</td>\n",
       "      <td>Yes</td>\n",
       "      <td>NaN</td>\n",
       "      <td>NaN</td>\n",
       "      <td>NaN</td>\n",
       "      <td>NaN</td>\n",
       "      <td>NaN</td>\n",
       "      <td>NaN</td>\n",
       "      <td>Hispanic</td>\n",
       "      <td>Less than High School</td>\n",
       "      <td>2.0</td>\n",
       "      <td>2.0</td>\n",
       "    </tr>\n",
       "    <tr>\n",
       "      <th>10147</th>\n",
       "      <td>NHANES</td>\n",
       "      <td>51622</td>\n",
       "      <td>60</td>\n",
       "      <td>No</td>\n",
       "      <td>NaN</td>\n",
       "      <td>NaN</td>\n",
       "      <td>Not at All</td>\n",
       "      <td>None of the Time</td>\n",
       "      <td>None</td>\n",
       "      <td>Very Good</td>\n",
       "      <td>Non-Hispanic Black</td>\n",
       "      <td>Less than High School</td>\n",
       "      <td>2.0</td>\n",
       "      <td>2.0</td>\n",
       "    </tr>\n",
       "  </tbody>\n",
       "</table>\n",
       "<p>2904 rows × 14 columns</p>\n",
       "</div>"
      ],
      "text/plain": [
       "       source     ID Age OsteoDx BrokeBone FractureType        Pain  \\\n",
       "0        SWAN  10046  62      No         0          NaN  Not at All   \n",
       "1        SWAN  10056  61      No         0          NaN  Not at All   \n",
       "2        SWAN  10153  61      No         0          NaN  Not at All   \n",
       "3        SWAN  10196  56      No         0          NaN  Not at All   \n",
       "4        SWAN  10245  57      No         0          NaN  Not at All   \n",
       "...       ...    ...  ..     ...       ...          ...         ...   \n",
       "10121  NHANES  51596  52      No       NaN          NaN  Not at All   \n",
       "10129  NHANES  51604  53      No       NaN          NaN  Not at All   \n",
       "10136  NHANES  51611  55      No       NaN          NaN  Not at All   \n",
       "10140  NHANES  51615  61     Yes       NaN          NaN         NaN   \n",
       "10147  NHANES  51622  60      No       NaN          NaN  Not at All   \n",
       "\n",
       "                    Anxiety       Depress OverallHealth                Race  \\\n",
       "0          None of the Time          None     Excellent               Other   \n",
       "1          None of the Time          None     Very Good  Non-Hispanic White   \n",
       "2          None of the Time          None          Good               Other   \n",
       "3          Some of the Time          None          Good               Other   \n",
       "4      A Little of the Time  Several Days     Very Good  Non-Hispanic White   \n",
       "...                     ...           ...           ...                 ...   \n",
       "10121  A Little of the Time          None          Fair            Hispanic   \n",
       "10129      None of the Time          None     Very Good  Non-Hispanic White   \n",
       "10136      None of the Time          None          Good  Non-Hispanic White   \n",
       "10140                   NaN           NaN           NaN            Hispanic   \n",
       "10147      None of the Time          None     Very Good  Non-Hispanic Black   \n",
       "\n",
       "                             Educ  HipFracture  WristFracture  \n",
       "0            High School Graduate          NaN            NaN  \n",
       "1                    Some College          NaN            NaN  \n",
       "2            High School Graduate          NaN            NaN  \n",
       "3      College Graduate and Above          NaN            NaN  \n",
       "4            High School Graduate          NaN            NaN  \n",
       "...                           ...          ...            ...  \n",
       "10121       Less than High School          2.0            2.0  \n",
       "10129  College Graduate and Above          2.0            1.0  \n",
       "10136                Some College          2.0            2.0  \n",
       "10140       Less than High School          2.0            2.0  \n",
       "10147       Less than High School          2.0            2.0  \n",
       "\n",
       "[2904 rows x 14 columns]"
      ]
     },
     "execution_count": 61,
     "metadata": {},
     "output_type": "execute_result"
    }
   ],
   "source": [
    "# Check the composite analytic data set\n",
    "compositeData"
   ]
  },
  {
   "cell_type": "code",
   "execution_count": 62,
   "metadata": {},
   "outputs": [],
   "source": [
    "# Create an ordered categorical data type for specific variables\n",
    "# Depression - ordered from none to nearly every day\n",
    "dep_type = CategoricalDtype(categories=['None', 'Several Days', 'More than half the days', 'Nearly Every Day'], ordered=True)\n",
    "health_type = CategoricalDtype(categories=['Excellent' , 'Very Good', 'Good', 'Fair', 'Poor'], ordered=True)\n",
    "educ_type = CategoricalDtype(categories=['Less than High School', 'High School Graduate', 'Some College', 'College Graduate and Above'], ordered = True)\n",
    "pain_type = CategoricalDtype(categories= ['Not at All', 'Slightly', 'Moderately', 'Quite a Bit', 'Extremely'], ordered = True)\n",
    "anx_type = CategoricalDtype(categories = ['None of the Time', 'A Little of the Time', 'Some of the Time', 'A Good Bit of the Time', 'Most of the Time','All of the Time'], ordered = True)"
   ]
  },
  {
   "cell_type": "code",
   "execution_count": 63,
   "metadata": {},
   "outputs": [],
   "source": [
    "# Convert the necessary categorical data types\n",
    "compositeData['Depress'] = compositeData['Depress'].astype(dep_type)\n",
    "compositeData['OverallHealth'] = compositeData['OverallHealth'].astype(health_type)\n",
    "compositeData['Educ'] = compositeData['Educ'].astype(educ_type)\n",
    "compositeData['Pain'] = compositeData['Pain'].astype(pain_type)\n",
    "compositeData['Anxiety'] = compositeData['Anxiety'].astype(anx_type)"
   ]
  },
  {
   "cell_type": "code",
   "execution_count": 64,
   "metadata": {},
   "outputs": [
    {
     "data": {
      "text/plain": [
       "None                       1854\n",
       "Several Days                564\n",
       "More than half the days     170\n",
       "Nearly Every Day             90\n",
       "Name: Depress, dtype: int64"
      ]
     },
     "execution_count": 64,
     "metadata": {},
     "output_type": "execute_result"
    }
   ],
   "source": [
    "compositeData['Depress'].value_counts()"
   ]
  },
  {
   "cell_type": "code",
   "execution_count": 65,
   "metadata": {},
   "outputs": [],
   "source": [
    "# Ensure age is numeric\n",
    "compositeData['Age'] = compositeData['Age'].astype(float)"
   ]
  },
  {
   "cell_type": "code",
   "execution_count": 66,
   "metadata": {},
   "outputs": [
    {
     "data": {
      "text/plain": [
       "source             object\n",
       "ID                  int64\n",
       "Age               float64\n",
       "OsteoDx            object\n",
       "BrokeBone          object\n",
       "FractureType       object\n",
       "Pain             category\n",
       "Anxiety          category\n",
       "Depress          category\n",
       "OverallHealth    category\n",
       "Race               object\n",
       "Educ             category\n",
       "HipFracture       float64\n",
       "WristFracture     float64\n",
       "dtype: object"
      ]
     },
     "execution_count": 66,
     "metadata": {},
     "output_type": "execute_result"
    }
   ],
   "source": [
    "compositeData.dtypes"
   ]
  },
  {
   "cell_type": "markdown",
   "metadata": {},
   "source": [
    "### Summary of Data Cleaning\n",
    "The `compositeData` is limited to women between the ages of 51 and 63 (inclusive) for comparison between the two data sets. It now has a variable for the source of the data (SWAN vs. NHANES) as well as the variables identified previously. The data for broken bones could not be readily harmonized and analysis will not conducted for this project. Other variables have been recoded appropriately"
   ]
  },
  {
   "cell_type": "markdown",
   "metadata": {},
   "source": [
    "## Data Analysis"
   ]
  },
  {
   "cell_type": "markdown",
   "metadata": {},
   "source": [
    "This project aims to examine the chosen variables in two data sets. The mean age will be examined by source and osteoporosis diagnosis status. To examine frequency of the variables chosen, cross-tabulations will be created for the following variables:\n",
    "* Osteoporosis Diagnosis\n",
    "* Overall Health Status\n",
    "* Depression Status\n",
    "* Anxiety\n",
    "* Pain interference with daily life\n",
    "* Race\n",
    "* Education\n",
    "\n",
    "All cross-tabulated data is normalized by data source to facilitated comparison of the distributions. These cross-tabulations will be stored in a dictionary with the key as the variable of interest and the value as the data frame of cross-tabulated data."
   ]
  },
  {
   "cell_type": "code",
   "execution_count": 67,
   "metadata": {},
   "outputs": [],
   "source": [
    "# Examine the mean age by source (NHANES vs SWAN) and osteoporosis diagnosis\n",
    "agePivot = pd.pivot_table(data = compositeData, values = 'Age', columns = ['source', 'OsteoDx'], \n",
    "                             aggfunc = np.mean)"
   ]
  },
  {
   "cell_type": "code",
   "execution_count": 68,
   "metadata": {},
   "outputs": [
    {
     "data": {
      "text/html": [
       "<div>\n",
       "<style scoped>\n",
       "    .dataframe tbody tr th:only-of-type {\n",
       "        vertical-align: middle;\n",
       "    }\n",
       "\n",
       "    .dataframe tbody tr th {\n",
       "        vertical-align: top;\n",
       "    }\n",
       "\n",
       "    .dataframe thead tr th {\n",
       "        text-align: left;\n",
       "    }\n",
       "</style>\n",
       "<table border=\"1\" class=\"dataframe\">\n",
       "  <thead>\n",
       "    <tr>\n",
       "      <th>source</th>\n",
       "      <th colspan=\"2\" halign=\"left\">NHANES</th>\n",
       "      <th colspan=\"2\" halign=\"left\">SWAN</th>\n",
       "    </tr>\n",
       "    <tr>\n",
       "      <th>OsteoDx</th>\n",
       "      <th>No</th>\n",
       "      <th>Yes</th>\n",
       "      <th>No</th>\n",
       "      <th>Yes</th>\n",
       "    </tr>\n",
       "  </thead>\n",
       "  <tbody>\n",
       "    <tr>\n",
       "      <th>Age</th>\n",
       "      <td>57.197183</td>\n",
       "      <td>58.539326</td>\n",
       "      <td>55.907596</td>\n",
       "      <td>56.818182</td>\n",
       "    </tr>\n",
       "  </tbody>\n",
       "</table>\n",
       "</div>"
      ],
      "text/plain": [
       "source      NHANES                  SWAN           \n",
       "OsteoDx         No        Yes         No        Yes\n",
       "Age      57.197183  58.539326  55.907596  56.818182"
      ]
     },
     "execution_count": 68,
     "metadata": {},
     "output_type": "execute_result"
    }
   ],
   "source": [
    "agePivot"
   ]
  },
  {
   "cell_type": "code",
   "execution_count": 88,
   "metadata": {},
   "outputs": [],
   "source": [
    "# Create a list of the variables of interest to explore\n",
    "variablesList = ['OsteoDx', 'OverallHealth', 'Depress', 'Anxiety', 'Pain', 'Race', 'Educ']\n",
    "\n",
    "# Create an empty dictionary for the cross-tab tables\n",
    "CrossTablesDict = {}\n",
    "\n",
    "# Create crosstab tables and append to a list of tables\n",
    "for variable in variablesList:\n",
    "    # Name the table after the variable called\n",
    "    tableName = '{}Cross'.format(variable) \n",
    "    # Create Cross tabulations to aggregate and examine data by source for individual variables, normalizing for comparison\n",
    "    table = pd.crosstab(compositeData[variable], compositeData['source'], normalize = 'columns')\n",
    "    CrossTablesDict[tableName] = table"
   ]
  },
  {
   "cell_type": "code",
   "execution_count": 89,
   "metadata": {},
   "outputs": [
    {
     "data": {
      "text/plain": [
       "{'OsteoDxCross': source     NHANES      SWAN\n",
       " OsteoDx                    \n",
       " No       0.864536  0.926075\n",
       " Yes      0.135464  0.073925,\n",
       " 'OverallHealthCross': source           NHANES      SWAN\n",
       " OverallHealth                    \n",
       " Excellent      0.071066  0.133880\n",
       " Very Good      0.203046  0.363388\n",
       " Good           0.407783  0.338798\n",
       " Fair           0.258883  0.142987\n",
       " Poor           0.059222  0.020947,\n",
       " 'DepressCross': source                     NHANES      SWAN\n",
       " Depress                                    \n",
       " None                     0.683673  0.694737\n",
       " Several Days             0.207483  0.211483\n",
       " More than half the days  0.044218  0.068900\n",
       " Nearly Every Day         0.064626  0.024880,\n",
       " 'AnxietyCross': source                    NHANES      SWAN\n",
       " Anxiety                                   \n",
       " None of the Time        0.608475  0.472475\n",
       " A Little of the Time    0.155932  0.346577\n",
       " Some of the Time        0.049153  0.121111\n",
       " A Good Bit of the Time  0.035593  0.035902\n",
       " Most of the Time        0.016949  0.019148\n",
       " All of the Time         0.133898  0.004787,\n",
       " 'PainCross': source         NHANES      SWAN\n",
       " Pain                           \n",
       " Not at All   0.786441  0.567257\n",
       " Slightly     0.066102  0.258976\n",
       " Moderately   0.023729  0.106750\n",
       " Quite a Bit  0.020339  0.055050\n",
       " Extremely    0.103390  0.011967,\n",
       " 'RaceCross': source                NHANES      SWAN\n",
       " Race                                  \n",
       " Hispanic            0.326252  0.000000\n",
       " Non-Hispanic Black  0.244310  0.295323\n",
       " Non-Hispanic White  0.385432  0.496214\n",
       " Other               0.044006  0.208463,\n",
       " 'EducCross': source                        NHANES      SWAN\n",
       " Educ                                          \n",
       " Less than High School       0.301973  0.034514\n",
       " High School Graduate        0.244310  0.155984\n",
       " Some College                0.262519  0.326759\n",
       " College Graduate and Above  0.191199  0.482743}"
      ]
     },
     "execution_count": 89,
     "metadata": {},
     "output_type": "execute_result"
    }
   ],
   "source": [
    "# Check the dictionary for proper creation\n",
    "CrossTablesDict"
   ]
  },
  {
   "cell_type": "code",
   "execution_count": 94,
   "metadata": {},
   "outputs": [
    {
     "name": "stdout",
     "output_type": "stream",
     "text": [
      "OsteoDxCross\n",
      "source     NHANES      SWAN\n",
      "OsteoDx                    \n",
      "No       0.864536  0.926075\n",
      "Yes      0.135464  0.073925\n",
      "\n",
      "OverallHealthCross\n",
      "source           NHANES      SWAN\n",
      "OverallHealth                    \n",
      "Excellent      0.071066  0.133880\n",
      "Very Good      0.203046  0.363388\n",
      "Good           0.407783  0.338798\n",
      "Fair           0.258883  0.142987\n",
      "Poor           0.059222  0.020947\n",
      "\n",
      "DepressCross\n",
      "source                     NHANES      SWAN\n",
      "Depress                                    \n",
      "None                     0.683673  0.694737\n",
      "Several Days             0.207483  0.211483\n",
      "More than half the days  0.044218  0.068900\n",
      "Nearly Every Day         0.064626  0.024880\n",
      "\n",
      "AnxietyCross\n",
      "source                    NHANES      SWAN\n",
      "Anxiety                                   \n",
      "None of the Time        0.608475  0.472475\n",
      "A Little of the Time    0.155932  0.346577\n",
      "Some of the Time        0.049153  0.121111\n",
      "A Good Bit of the Time  0.035593  0.035902\n",
      "Most of the Time        0.016949  0.019148\n",
      "All of the Time         0.133898  0.004787\n",
      "\n",
      "PainCross\n",
      "source         NHANES      SWAN\n",
      "Pain                           \n",
      "Not at All   0.786441  0.567257\n",
      "Slightly     0.066102  0.258976\n",
      "Moderately   0.023729  0.106750\n",
      "Quite a Bit  0.020339  0.055050\n",
      "Extremely    0.103390  0.011967\n",
      "\n",
      "RaceCross\n",
      "source                NHANES      SWAN\n",
      "Race                                  \n",
      "Hispanic            0.326252  0.000000\n",
      "Non-Hispanic Black  0.244310  0.295323\n",
      "Non-Hispanic White  0.385432  0.496214\n",
      "Other               0.044006  0.208463\n",
      "\n",
      "EducCross\n",
      "source                        NHANES      SWAN\n",
      "Educ                                          \n",
      "Less than High School       0.301973  0.034514\n",
      "High School Graduate        0.244310  0.155984\n",
      "Some College                0.262519  0.326759\n",
      "College Graduate and Above  0.191199  0.482743\n",
      "\n"
     ]
    }
   ],
   "source": [
    "# Neatly print the results for examination prior to plotting\n",
    "for key in CrossTablesDict:\n",
    "    print(key)\n",
    "    print(CrossTablesDict[key])\n",
    "    print()"
   ]
  },
  {
   "cell_type": "markdown",
   "metadata": {},
   "source": [
    "### Summary of Data Analysis\n",
    "The SWAN participants have a younger mean age than the NHANES participants. All, however, are confined to a range of 51-63 and the mean ages are within 3 years. Thus, the ages are similar between the groups. \n",
    "\n",
    "Cross tabulated data was created for the variables as described above. There appears to be variation in most of the distributions, which can be better appreciated using visualization."
   ]
  },
  {
   "cell_type": "markdown",
   "metadata": {},
   "source": [
    "## Data Visualization and Discussion\n",
    "\n",
    "The aggregated data created above will be plotted for visual comparison. "
   ]
  },
  {
   "cell_type": "code",
   "execution_count": 78,
   "metadata": {},
   "outputs": [
    {
     "data": {
      "text/plain": [
       "<matplotlib.axes._subplots.AxesSubplot at 0x7f1a4da31ac8>"
      ]
     },
     "execution_count": 78,
     "metadata": {},
     "output_type": "execute_result"
    },
    {
     "data": {
      "image/png": "[encoded data removed]",
      "text/plain": [
       "<Figure size 432x288 with 1 Axes>"
      ]
     },
     "metadata": {
      "needs_background": "light"
     },
     "output_type": "display_data"
    }
   ],
   "source": [
    "# Plot the mean age by source and osteoporosis diagnosis\n",
    "agePivot.plot.bar(title = \"Mean Age by Data Source and Osteoporosis Diagnosis\",\n",
    "                 table = True,\n",
    "                 ylabel = 'Age',\n",
    "                 use_index = False)"
   ]
  },
  {
   "cell_type": "code",
   "execution_count": 96,
   "metadata": {},
   "outputs": [
    {
     "data": {
      "image/png": "[encoded data removed]",
      "text/plain": [
       "<Figure size 432x288 with 1 Axes>"
      ]
     },
     "metadata": {
      "needs_background": "light"
     },
     "output_type": "display_data"
    },
    {
     "data": {
      "image/png": "[encoded data removed]",
      "text/plain": [
       "<Figure size 432x288 with 1 Axes>"
      ]
     },
     "metadata": {
      "needs_background": "light"
     },
     "output_type": "display_data"
    },
    {
     "data": {
      "image/png": "[encoded data removed]",
      "text/plain": [
       "<Figure size 432x288 with 1 Axes>"
      ]
     },
     "metadata": {
      "needs_background": "light"
     },
     "output_type": "display_data"
    },
    {
     "data": {
      "image/png": "[encoded data removed]",
      "text/plain": [
       "<Figure size 432x288 with 1 Axes>"
      ]
     },
     "metadata": {
      "needs_background": "light"
     },
     "output_type": "display_data"
    },
    {
     "data": {
      "image/png": "[encoded data removed]",
      "text/plain": [
       "<Figure size 432x288 with 1 Axes>"
      ]
     },
     "metadata": {
      "needs_background": "light"
     },
     "output_type": "display_data"
    },
    {
     "data": {
      "image/png": "[encoded data removed]",
      "text/plain": [
       "<Figure size 432x288 with 1 Axes>"
      ]
     },
     "metadata": {
      "needs_background": "light"
     },
     "output_type": "display_data"
    },
    {
     "data": {
      "image/png": "[encoded data removed]",
      "text/plain": [
       "<Figure size 432x288 with 1 Axes>"
      ]
     },
     "metadata": {
      "needs_background": "light"
     },
     "output_type": "display_data"
    }
   ],
   "source": [
    "for key in CrossTablesDict:\n",
    "    data = CrossTablesDict[key]\n",
    "    data.plot.bar(title = key)"
   ]
  },
  {
   "cell_type": "markdown",
   "metadata": {},
   "source": [
    "### Summary of Findings\n",
    "Plots of the cross-tabulated data demonstrate variations between the SWAN and NHANES data. This is expected due to differences in sampling method and study design. Comments on each variable are provided below. \n",
    "\n",
    "#### Age\n",
    "Mean age appears comparable between the two data sets. Examination of the standard deviation, range, and distribution would be needed to determine similarity. Regardless, all data has been constrained to ages 51-63, so the similar mean is expected.\n",
    "\n",
    "#### Osteoporosis Diagnosis\n",
    "There are more NHANES participants reporting an osteoporosis diagnosis compared to SWAN participants. This may in part be due to the wording of the question used - as SWAN participants are followed longitudinally, the participants are asked with each visit if they are newly diagnosed with osteoporosis. Thus, a more representative comparison would require merging all the available years of data for this question, as some of the participants without a new diagnosis of osteoporosis might have reported a diagnosis in previous years. \n",
    "\n",
    "#### Overall Health\n",
    "The distribution of overall health is relatively similar. More NHANES participants tend to report worse health while more SWAN participants report better health. \n",
    "\n",
    "#### Depression\n",
    "Days with low mood (proxy for depression) are similar among the data sources. \n",
    "\n",
    "#### Anxiety\n",
    "SWAN participants tend to cluster in the middle for this measure, with more NHANES participants reporting all or none anxiety. This could be due to the difference in data collection - NHANES participants reported the number of days in a month when they felt anxious, which was converted to the categorical scale used by SWAN. This conversion was done by dividing the days evenly into the provided categories, which may not accurately reflect what NHANES participants would have chosen when presented with categorical options. \n",
    "\n",
    "#### Pain\n",
    "SWAN participants tend to cluster in the middle for this measure, with more NHANES participants reporting all or none anxiety. This could be due to the difference in data collection - NHANES participants reported the number of days in a month when pain interfered with their desired activities, which was converted to the categorical scale used by SWAN. This conversion was done by dividing the days evenly into the provided categories, which may not accurately reflect what NHANES participants would have chosen when presented with categorical options. \n",
    "\n",
    "#### Race\n",
    "NHANES is on the whole more representative and diverse than SWAN. This is in part, however, due to sampling and data recoding - SWAN reported more granular detail on Asian ethnicity compared to NHANES, which included those of Asian ethnicity in the \"Other\" category. This is also likely reflective of the sampling strategy and use of unweighted NHANES data. NHANES is designed to be nationally representative when weighted while SWAN sampled a selection of locations and neither claims nor attempts national distribution or representation. \n",
    "\n",
    "#### Education\n",
    "SWAN participants were in general more highly educated than NHANES participants. This could be due to differences in sampling. "
   ]
  },
  {
   "cell_type": "code",
   "execution_count": null,
   "metadata": {},
   "outputs": [],
   "source": []
  },
  {
   "cell_type": "code",
   "execution_count": null,
   "metadata": {},
   "outputs": [],
   "source": []
  },
  {
   "cell_type": "markdown",
   "metadata": {},
   "source": [
    "### References\n",
    "Centers for Disease Control and Prevention (CDC). National Center for Health Statistics (NCHS). National Health and Nutrition Examination Survey Data. Hyattsville, MD: U.S. Department of Health and Human Services, Centers for Disease Control and Prevention, 2007-2008, https://wwwn.cdc.gov/nchs/nhanes/continuousnhanes/default.aspx?BeginYear=2007.\n",
    "\n",
    "Sutton-Tyrrell, Kim, Selzer, Faith, Sowers, MaryFran, Finkelstein, Joel, Powell, Lynda, Gold, Ellen, … Brooks, Maria Mori. Study of Women’s Health Across the Nation (SWAN), 2006-2008: Visit 10 Dataset. Ann Arbor, MI: Inter-university Consortium for Political and Social Research [distributor], 2018-11-15. https://doi.org/10.3886/ICPSR32961.v2"
   ]
  },
  {
   "cell_type": "markdown",
   "metadata": {},
   "source": [
    "#### Github Submission\n",
    "Code adapated from homework assignments."
   ]
  },
  {
   "cell_type": "code",
   "execution_count": 80,
   "metadata": {},
   "outputs": [
    {
     "name": "stdin",
     "output_type": "stream",
     "text": [
      "\n",
      "Are you ready to submit your work?\n",
      "1. Click the Save icon (or do Ctrl-S / Cmd-S)\n",
      "2. Type \"yes\" or \"no\" below\n",
      "3. Press Enter\n",
      "\n",
      " yes\n"
     ]
    },
    {
     "name": "stdout",
     "output_type": "stream",
     "text": [
      "Already up to date.\n",
      "[main bb9fd44] Submitting final project programming assignment\n",
      " 2 files changed, 1381 insertions(+), 318 deletions(-)\n",
      "Counting objects: 6, done.\n",
      "Delta compression using up to 2 threads.\n",
      "Compressing objects: 100% (5/5), done.\n",
      "Writing objects: 100% (6/6), 98.48 KiB | 6.15 MiB/s, done.\n",
      "Total 6 (delta 2), reused 0 (delta 0)\n",
      "remote: Resolving deltas: 100% (2/2), completed with 2 local objects.\u001b[K\n",
      "To github.com:ecdmdphd/hds5210-2022.git\n",
      "   157b813..bb9fd44  main -> main\n"
     ]
    }
   ],
   "source": [
    "a=input('''\n",
    "Are you ready to submit your work?\n",
    "1. Click the Save icon (or do Ctrl-S / Cmd-S)\n",
    "2. Type \"yes\" or \"no\" below\n",
    "3. Press Enter\n",
    "\n",
    "''')\n",
    "\n",
    "if a=='yes':\n",
    "    !git pull\n",
    "    !git add Final_DeMarco.ipynb\n",
    "    !git commit -a -m \"Submitting final project programming assignment\"\n",
    "    !git push\n",
    "else:\n",
    "    print('''\n",
    "    \n",
    "OK. We can wait.\n",
    "''')"
   ]
  },
  {
   "cell_type": "code",
   "execution_count": null,
   "metadata": {},
   "outputs": [],
   "source": []
  }
 ],
 "metadata": {
  "kernelspec": {
   "display_name": "Python 3",
   "language": "python",
   "name": "python3"
  },
  "language_info": {
   "codemirror_mode": {
    "name": "ipython",
    "version": 3
   },
   "file_extension": ".py",
   "mimetype": "text/x-python",
   "name": "python",
   "nbconvert_exporter": "python",
   "pygments_lexer": "ipython3",
   "version": "3.6.7"
  }
 },
 "nbformat": 4,
 "nbformat_minor": 4
}
