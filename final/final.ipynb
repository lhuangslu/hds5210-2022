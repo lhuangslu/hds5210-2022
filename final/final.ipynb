{
 "cells": [
  {
   "cell_type": "markdown",
   "metadata": {},
   "source": [
    "# Final project"
   ]
  },
  {
   "cell_type": "markdown",
   "metadata": {},
   "source": [
    "**Data sources**"
   ]
  },
  {
   "cell_type": "markdown",
   "metadata": {},
   "source": [
    "Child Victims by Age<br>\n",
    "https://healthdata.gov/dataset/Child-Victims-by-Age/xn3e-yyaj\n",
    "\n",
    "US population by age and by state<br>\n",
    "https://www.kff.org/other/state-indicator/distribution-by-age/?dataView=1&currentTimeframe=0&sortModel=%7B%22colId%22:%22Location%22,%22sort%22:%22asc%22%7D\n",
    "\n",
    "Property level of children and all people<br>\n",
    "https://data.ers.usda.gov/reports.aspx?ID=17826\n",
    "\n",
    "Alcohol use by state<br>\n",
    "https://www.cdc.gov/alcohol/data-stats.htm\n",
    "\n",
    "Mental health by state<br>\n",
    "https://mhanational.org/issues/2022/ranking-states\n",
    "\n",
    "2020 presidential election results<br>\n",
    "https://www.270towin.com/states/"
   ]
  },
  {
   "cell_type": "markdown",
   "metadata": {},
   "source": [
    "## **1. Which states has the highest or lowest child abuse rate?**"
   ]
  },
  {
   "cell_type": "markdown",
   "metadata": {},
   "source": [
    "**Observations from code below:**<br> \n",
    "\n",
    "Kentucky reported the highest child abuse rate. <br> \n",
    "Pennsylvania reported the lowest child abuse rate.<br> \n",
    "\n",
    "Top five states with the highest child abuse rate in descending order: <br> \n",
    "\n",
    "Kentucky (highest)<br> \n",
    "West Virginia<br> \n",
    "Massachuesttes<br> \n",
    "Maine<br> \n",
    "Alaska <br> \n",
    "\n",
    "Five states with the lowest child abuse rate in ascending order: <br> \n",
    "\n",
    "Pennsylvania (lowest)<br> \n",
    "North Carolina<br> \n",
    "Washington<br> \n",
    "New Jersey<br> \n",
    "Virginia <br> \n",
    "</div>"
   ]
  },
  {
   "cell_type": "markdown",
   "metadata": {},
   "source": [
    "**Load the child abuse dataset (csv)**"
   ]
  },
  {
   "cell_type": "code",
   "execution_count": 1,
   "metadata": {},
   "outputs": [
    {
     "data": {
      "text/html": [
       "<div>\n",
       "<style scoped>\n",
       "    .dataframe tbody tr th:only-of-type {\n",
       "        vertical-align: middle;\n",
       "    }\n",
       "\n",
       "    .dataframe tbody tr th {\n",
       "        vertical-align: top;\n",
       "    }\n",
       "\n",
       "    .dataframe thead th {\n",
       "        text-align: right;\n",
       "    }\n",
       "</style>\n",
       "<table border=\"1\" class=\"dataframe\">\n",
       "  <thead>\n",
       "    <tr style=\"text-align: right;\">\n",
       "      <th></th>\n",
       "      <th>State</th>\n",
       "      <th>&lt;1</th>\n",
       "      <th>1</th>\n",
       "      <th>2</th>\n",
       "      <th>3</th>\n",
       "      <th>4</th>\n",
       "      <th>5</th>\n",
       "      <th>6</th>\n",
       "      <th>7</th>\n",
       "      <th>8</th>\n",
       "      <th>...</th>\n",
       "      <th>8 Rate per 1,000 Children</th>\n",
       "      <th>9 Rate per 1,000 Children</th>\n",
       "      <th>10 Rate per 1,000 Children</th>\n",
       "      <th>11 Rate per 1,000 Children</th>\n",
       "      <th>12 Rate per 1,000 Children</th>\n",
       "      <th>13 Rate per 1,000 Children</th>\n",
       "      <th>14 Rate per 1,000 Children</th>\n",
       "      <th>15 Rate per 1,000 Children</th>\n",
       "      <th>16 Rate per 1,000 Children</th>\n",
       "      <th>17 Rate per 1,000 Children</th>\n",
       "    </tr>\n",
       "  </thead>\n",
       "  <tbody>\n",
       "    <tr>\n",
       "      <th>0</th>\n",
       "      <td>Alabama</td>\n",
       "      <td>1945</td>\n",
       "      <td>761</td>\n",
       "      <td>714</td>\n",
       "      <td>731</td>\n",
       "      <td>668</td>\n",
       "      <td>621</td>\n",
       "      <td>578</td>\n",
       "      <td>567</td>\n",
       "      <td>544</td>\n",
       "      <td>...</td>\n",
       "      <td>9.1</td>\n",
       "      <td>9.2</td>\n",
       "      <td>9.0</td>\n",
       "      <td>7.9</td>\n",
       "      <td>7.8</td>\n",
       "      <td>9.1</td>\n",
       "      <td>10.2</td>\n",
       "      <td>9.2</td>\n",
       "      <td>6.5</td>\n",
       "      <td>4.2</td>\n",
       "    </tr>\n",
       "    <tr>\n",
       "      <th>1</th>\n",
       "      <td>Alaska</td>\n",
       "      <td>416</td>\n",
       "      <td>221</td>\n",
       "      <td>232</td>\n",
       "      <td>193</td>\n",
       "      <td>205</td>\n",
       "      <td>194</td>\n",
       "      <td>175</td>\n",
       "      <td>166</td>\n",
       "      <td>168</td>\n",
       "      <td>...</td>\n",
       "      <td>16.1</td>\n",
       "      <td>15.4</td>\n",
       "      <td>16.1</td>\n",
       "      <td>15.7</td>\n",
       "      <td>13.2</td>\n",
       "      <td>13.6</td>\n",
       "      <td>11.0</td>\n",
       "      <td>9.3</td>\n",
       "      <td>9.8</td>\n",
       "      <td>6.2</td>\n",
       "    </tr>\n",
       "    <tr>\n",
       "      <th>2</th>\n",
       "      <td>Arizona</td>\n",
       "      <td>3380</td>\n",
       "      <td>830</td>\n",
       "      <td>836</td>\n",
       "      <td>738</td>\n",
       "      <td>655</td>\n",
       "      <td>650</td>\n",
       "      <td>564</td>\n",
       "      <td>570</td>\n",
       "      <td>572</td>\n",
       "      <td>...</td>\n",
       "      <td>6.3</td>\n",
       "      <td>5.9</td>\n",
       "      <td>5.3</td>\n",
       "      <td>4.8</td>\n",
       "      <td>5.3</td>\n",
       "      <td>5.0</td>\n",
       "      <td>4.6</td>\n",
       "      <td>4.5</td>\n",
       "      <td>4.1</td>\n",
       "      <td>3.2</td>\n",
       "    </tr>\n",
       "    <tr>\n",
       "      <th>3</th>\n",
       "      <td>Arkansas</td>\n",
       "      <td>1814</td>\n",
       "      <td>524</td>\n",
       "      <td>528</td>\n",
       "      <td>487</td>\n",
       "      <td>459</td>\n",
       "      <td>425</td>\n",
       "      <td>381</td>\n",
       "      <td>397</td>\n",
       "      <td>356</td>\n",
       "      <td>...</td>\n",
       "      <td>9.2</td>\n",
       "      <td>8.2</td>\n",
       "      <td>9.7</td>\n",
       "      <td>8.3</td>\n",
       "      <td>8.0</td>\n",
       "      <td>8.7</td>\n",
       "      <td>9.4</td>\n",
       "      <td>9.1</td>\n",
       "      <td>7.6</td>\n",
       "      <td>5.8</td>\n",
       "    </tr>\n",
       "    <tr>\n",
       "      <th>4</th>\n",
       "      <td>California</td>\n",
       "      <td>10134</td>\n",
       "      <td>4221</td>\n",
       "      <td>3931</td>\n",
       "      <td>3796</td>\n",
       "      <td>3601</td>\n",
       "      <td>3653</td>\n",
       "      <td>3356</td>\n",
       "      <td>3449</td>\n",
       "      <td>3155</td>\n",
       "      <td>...</td>\n",
       "      <td>6.3</td>\n",
       "      <td>6.5</td>\n",
       "      <td>6.3</td>\n",
       "      <td>6.1</td>\n",
       "      <td>5.9</td>\n",
       "      <td>5.6</td>\n",
       "      <td>5.3</td>\n",
       "      <td>5.2</td>\n",
       "      <td>4.7</td>\n",
       "      <td>3.7</td>\n",
       "    </tr>\n",
       "  </tbody>\n",
       "</table>\n",
       "<p>5 rows × 39 columns</p>\n",
       "</div>"
      ],
      "text/plain": [
       "        State     <1     1     2     3     4     5     6     7     8  ...  \\\n",
       "0     Alabama   1945   761   714   731   668   621   578   567   544  ...   \n",
       "1      Alaska    416   221   232   193   205   194   175   166   168  ...   \n",
       "2     Arizona   3380   830   836   738   655   650   564   570   572  ...   \n",
       "3    Arkansas   1814   524   528   487   459   425   381   397   356  ...   \n",
       "4  California  10134  4221  3931  3796  3601  3653  3356  3449  3155  ...   \n",
       "\n",
       "   8 Rate per 1,000 Children  9 Rate per 1,000 Children  \\\n",
       "0                        9.1                        9.2   \n",
       "1                       16.1                       15.4   \n",
       "2                        6.3                        5.9   \n",
       "3                        9.2                        8.2   \n",
       "4                        6.3                        6.5   \n",
       "\n",
       "   10 Rate per 1,000 Children  11 Rate per 1,000 Children  \\\n",
       "0                         9.0                         7.9   \n",
       "1                        16.1                        15.7   \n",
       "2                         5.3                         4.8   \n",
       "3                         9.7                         8.3   \n",
       "4                         6.3                         6.1   \n",
       "\n",
       "   12 Rate per 1,000 Children  13 Rate per 1,000 Children  \\\n",
       "0                         7.8                         9.1   \n",
       "1                        13.2                        13.6   \n",
       "2                         5.3                         5.0   \n",
       "3                         8.0                         8.7   \n",
       "4                         5.9                         5.6   \n",
       "\n",
       "   14 Rate per 1,000 Children  15 Rate per 1,000 Children  \\\n",
       "0                        10.2                         9.2   \n",
       "1                        11.0                         9.3   \n",
       "2                         4.6                         4.5   \n",
       "3                         9.4                         9.1   \n",
       "4                         5.3                         5.2   \n",
       "\n",
       "   16 Rate per 1,000 Children  17 Rate per 1,000 Children  \n",
       "0                         6.5                         4.2  \n",
       "1                         9.8                         6.2  \n",
       "2                         4.1                         3.2  \n",
       "3                         7.6                         5.8  \n",
       "4                         4.7                         3.7  \n",
       "\n",
       "[5 rows x 39 columns]"
      ]
     },
     "execution_count": 1,
     "metadata": {},
     "output_type": "execute_result"
    }
   ],
   "source": [
    "import pandas as pd\n",
    "import matplotlib.pyplot as plt\n",
    "\n",
    "abuse=pd.read_csv(\"Child_Victims_by_Age.csv\")  # reading csv file\n",
    "abuse.head()  "
   ]
  },
  {
   "cell_type": "code",
   "execution_count": 2,
   "metadata": {},
   "outputs": [
    {
     "data": {
      "text/plain": [
       "(54, 39)"
      ]
     },
     "execution_count": 2,
     "metadata": {},
     "output_type": "execute_result"
    }
   ],
   "source": [
    "abuse.shape"
   ]
  },
  {
   "cell_type": "markdown",
   "metadata": {},
   "source": [
    "**Load the US population dataset**"
   ]
  },
  {
   "cell_type": "code",
   "execution_count": 3,
   "metadata": {},
   "outputs": [
    {
     "data": {
      "text/html": [
       "<div>\n",
       "<style scoped>\n",
       "    .dataframe tbody tr th:only-of-type {\n",
       "        vertical-align: middle;\n",
       "    }\n",
       "\n",
       "    .dataframe tbody tr th {\n",
       "        vertical-align: top;\n",
       "    }\n",
       "\n",
       "    .dataframe thead th {\n",
       "        text-align: right;\n",
       "    }\n",
       "</style>\n",
       "<table border=\"1\" class=\"dataframe\">\n",
       "  <thead>\n",
       "    <tr style=\"text-align: right;\">\n",
       "      <th></th>\n",
       "      <th>Location</th>\n",
       "      <th>Children 0-18</th>\n",
       "      <th>Adults 19-25</th>\n",
       "      <th>Adults 26-34</th>\n",
       "      <th>Adults 35-54</th>\n",
       "      <th>Adults 55-64</th>\n",
       "      <th>65+</th>\n",
       "      <th>Total</th>\n",
       "      <th>Footnotes</th>\n",
       "    </tr>\n",
       "  </thead>\n",
       "  <tbody>\n",
       "    <tr>\n",
       "      <th>0</th>\n",
       "      <td>United States</td>\n",
       "      <td>75887400.0</td>\n",
       "      <td>27366000.0</td>\n",
       "      <td>39656400.0</td>\n",
       "      <td>83093900.0</td>\n",
       "      <td>42413200.0</td>\n",
       "      <td>54758900.0</td>\n",
       "      <td>323175700.0</td>\n",
       "      <td>1.0</td>\n",
       "    </tr>\n",
       "    <tr>\n",
       "      <th>1</th>\n",
       "      <td>Alabama</td>\n",
       "      <td>1157600.0</td>\n",
       "      <td>426600.0</td>\n",
       "      <td>552500.0</td>\n",
       "      <td>1229000.0</td>\n",
       "      <td>669700.0</td>\n",
       "      <td>865500.0</td>\n",
       "      <td>4900800.0</td>\n",
       "      <td>NaN</td>\n",
       "    </tr>\n",
       "    <tr>\n",
       "      <th>2</th>\n",
       "      <td>Alaska</td>\n",
       "      <td>184200.0</td>\n",
       "      <td>59200.0</td>\n",
       "      <td>92100.0</td>\n",
       "      <td>180200.0</td>\n",
       "      <td>87200.0</td>\n",
       "      <td>95800.0</td>\n",
       "      <td>698700.0</td>\n",
       "      <td>NaN</td>\n",
       "    </tr>\n",
       "    <tr>\n",
       "      <th>3</th>\n",
       "      <td>Arizona</td>\n",
       "      <td>1674800.0</td>\n",
       "      <td>625700.0</td>\n",
       "      <td>875200.0</td>\n",
       "      <td>1737900.0</td>\n",
       "      <td>869500.0</td>\n",
       "      <td>1324300.0</td>\n",
       "      <td>7107300.0</td>\n",
       "      <td>NaN</td>\n",
       "    </tr>\n",
       "    <tr>\n",
       "      <th>4</th>\n",
       "      <td>Arkansas</td>\n",
       "      <td>722700.0</td>\n",
       "      <td>256500.0</td>\n",
       "      <td>336700.0</td>\n",
       "      <td>725900.0</td>\n",
       "      <td>382800.0</td>\n",
       "      <td>511700.0</td>\n",
       "      <td>2936400.0</td>\n",
       "      <td>NaN</td>\n",
       "    </tr>\n",
       "  </tbody>\n",
       "</table>\n",
       "</div>"
      ],
      "text/plain": [
       "        Location  Children 0-18  Adults 19-25  Adults 26-34  Adults 35-54  \\\n",
       "0  United States     75887400.0    27366000.0    39656400.0    83093900.0   \n",
       "1        Alabama      1157600.0      426600.0      552500.0     1229000.0   \n",
       "2         Alaska       184200.0       59200.0       92100.0      180200.0   \n",
       "3        Arizona      1674800.0      625700.0      875200.0     1737900.0   \n",
       "4       Arkansas       722700.0      256500.0      336700.0      725900.0   \n",
       "\n",
       "   Adults 55-64         65+        Total  Footnotes  \n",
       "0    42413200.0  54758900.0  323175700.0        1.0  \n",
       "1      669700.0    865500.0    4900800.0        NaN  \n",
       "2       87200.0     95800.0     698700.0        NaN  \n",
       "3      869500.0   1324300.0    7107300.0        NaN  \n",
       "4      382800.0    511700.0    2936400.0        NaN  "
      ]
     },
     "execution_count": 3,
     "metadata": {},
     "output_type": "execute_result"
    }
   ],
   "source": [
    "population=pd.read_csv(\"raw_data.csv\", skiprows=2)\n",
    "population.head()"
   ]
  },
  {
   "cell_type": "code",
   "execution_count": 4,
   "metadata": {},
   "outputs": [
    {
     "data": {
      "text/plain": [
       "(63, 9)"
      ]
     },
     "execution_count": 4,
     "metadata": {},
     "output_type": "execute_result"
    }
   ],
   "source": [
    "population.shape"
   ]
  },
  {
   "cell_type": "code",
   "execution_count": 5,
   "metadata": {},
   "outputs": [
    {
     "data": {
      "text/html": [
       "<div>\n",
       "<style scoped>\n",
       "    .dataframe tbody tr th:only-of-type {\n",
       "        vertical-align: middle;\n",
       "    }\n",
       "\n",
       "    .dataframe tbody tr th {\n",
       "        vertical-align: top;\n",
       "    }\n",
       "\n",
       "    .dataframe thead th {\n",
       "        text-align: right;\n",
       "    }\n",
       "</style>\n",
       "<table border=\"1\" class=\"dataframe\">\n",
       "  <thead>\n",
       "    <tr style=\"text-align: right;\">\n",
       "      <th></th>\n",
       "      <th>State</th>\n",
       "      <th>&lt;1</th>\n",
       "      <th>1</th>\n",
       "      <th>2</th>\n",
       "      <th>3</th>\n",
       "      <th>4</th>\n",
       "      <th>5</th>\n",
       "      <th>6</th>\n",
       "      <th>7</th>\n",
       "      <th>8</th>\n",
       "      <th>...</th>\n",
       "      <th>16 Rate per 1,000 Children</th>\n",
       "      <th>17 Rate per 1,000 Children</th>\n",
       "      <th>Children 0-18</th>\n",
       "      <th>Adults 19-25</th>\n",
       "      <th>Adults 26-34</th>\n",
       "      <th>Adults 35-54</th>\n",
       "      <th>Adults 55-64</th>\n",
       "      <th>65+</th>\n",
       "      <th>Total</th>\n",
       "      <th>Footnotes</th>\n",
       "    </tr>\n",
       "  </thead>\n",
       "  <tbody>\n",
       "    <tr>\n",
       "      <th>0</th>\n",
       "      <td>Alabama</td>\n",
       "      <td>1945</td>\n",
       "      <td>761</td>\n",
       "      <td>714</td>\n",
       "      <td>731</td>\n",
       "      <td>668</td>\n",
       "      <td>621</td>\n",
       "      <td>578</td>\n",
       "      <td>567</td>\n",
       "      <td>544</td>\n",
       "      <td>...</td>\n",
       "      <td>6.5</td>\n",
       "      <td>4.2</td>\n",
       "      <td>1157600.0</td>\n",
       "      <td>426600.0</td>\n",
       "      <td>552500.0</td>\n",
       "      <td>1229000.0</td>\n",
       "      <td>669700.0</td>\n",
       "      <td>865500.0</td>\n",
       "      <td>4900800.0</td>\n",
       "      <td>NaN</td>\n",
       "    </tr>\n",
       "    <tr>\n",
       "      <th>1</th>\n",
       "      <td>Alaska</td>\n",
       "      <td>416</td>\n",
       "      <td>221</td>\n",
       "      <td>232</td>\n",
       "      <td>193</td>\n",
       "      <td>205</td>\n",
       "      <td>194</td>\n",
       "      <td>175</td>\n",
       "      <td>166</td>\n",
       "      <td>168</td>\n",
       "      <td>...</td>\n",
       "      <td>9.8</td>\n",
       "      <td>6.2</td>\n",
       "      <td>184200.0</td>\n",
       "      <td>59200.0</td>\n",
       "      <td>92100.0</td>\n",
       "      <td>180200.0</td>\n",
       "      <td>87200.0</td>\n",
       "      <td>95800.0</td>\n",
       "      <td>698700.0</td>\n",
       "      <td>NaN</td>\n",
       "    </tr>\n",
       "    <tr>\n",
       "      <th>2</th>\n",
       "      <td>Arizona</td>\n",
       "      <td>3380</td>\n",
       "      <td>830</td>\n",
       "      <td>836</td>\n",
       "      <td>738</td>\n",
       "      <td>655</td>\n",
       "      <td>650</td>\n",
       "      <td>564</td>\n",
       "      <td>570</td>\n",
       "      <td>572</td>\n",
       "      <td>...</td>\n",
       "      <td>4.1</td>\n",
       "      <td>3.2</td>\n",
       "      <td>1674800.0</td>\n",
       "      <td>625700.0</td>\n",
       "      <td>875200.0</td>\n",
       "      <td>1737900.0</td>\n",
       "      <td>869500.0</td>\n",
       "      <td>1324300.0</td>\n",
       "      <td>7107300.0</td>\n",
       "      <td>NaN</td>\n",
       "    </tr>\n",
       "    <tr>\n",
       "      <th>3</th>\n",
       "      <td>Arkansas</td>\n",
       "      <td>1814</td>\n",
       "      <td>524</td>\n",
       "      <td>528</td>\n",
       "      <td>487</td>\n",
       "      <td>459</td>\n",
       "      <td>425</td>\n",
       "      <td>381</td>\n",
       "      <td>397</td>\n",
       "      <td>356</td>\n",
       "      <td>...</td>\n",
       "      <td>7.6</td>\n",
       "      <td>5.8</td>\n",
       "      <td>722700.0</td>\n",
       "      <td>256500.0</td>\n",
       "      <td>336700.0</td>\n",
       "      <td>725900.0</td>\n",
       "      <td>382800.0</td>\n",
       "      <td>511700.0</td>\n",
       "      <td>2936400.0</td>\n",
       "      <td>NaN</td>\n",
       "    </tr>\n",
       "    <tr>\n",
       "      <th>4</th>\n",
       "      <td>California</td>\n",
       "      <td>10134</td>\n",
       "      <td>4221</td>\n",
       "      <td>3931</td>\n",
       "      <td>3796</td>\n",
       "      <td>3601</td>\n",
       "      <td>3653</td>\n",
       "      <td>3356</td>\n",
       "      <td>3449</td>\n",
       "      <td>3155</td>\n",
       "      <td>...</td>\n",
       "      <td>4.7</td>\n",
       "      <td>3.7</td>\n",
       "      <td>9073100.0</td>\n",
       "      <td>3356200.0</td>\n",
       "      <td>5136800.0</td>\n",
       "      <td>10201100.0</td>\n",
       "      <td>4735800.0</td>\n",
       "      <td>5876100.0</td>\n",
       "      <td>38379200.0</td>\n",
       "      <td>NaN</td>\n",
       "    </tr>\n",
       "  </tbody>\n",
       "</table>\n",
       "<p>5 rows × 47 columns</p>\n",
       "</div>"
      ],
      "text/plain": [
       "        State     <1     1     2     3     4     5     6     7     8  ...  \\\n",
       "0     Alabama   1945   761   714   731   668   621   578   567   544  ...   \n",
       "1      Alaska    416   221   232   193   205   194   175   166   168  ...   \n",
       "2     Arizona   3380   830   836   738   655   650   564   570   572  ...   \n",
       "3    Arkansas   1814   524   528   487   459   425   381   397   356  ...   \n",
       "4  California  10134  4221  3931  3796  3601  3653  3356  3449  3155  ...   \n",
       "\n",
       "   16 Rate per 1,000 Children  17 Rate per 1,000 Children  Children 0-18  \\\n",
       "0                         6.5                         4.2      1157600.0   \n",
       "1                         9.8                         6.2       184200.0   \n",
       "2                         4.1                         3.2      1674800.0   \n",
       "3                         7.6                         5.8       722700.0   \n",
       "4                         4.7                         3.7      9073100.0   \n",
       "\n",
       "   Adults 19-25  Adults 26-34  Adults 35-54  Adults 55-64        65+  \\\n",
       "0      426600.0      552500.0     1229000.0      669700.0   865500.0   \n",
       "1       59200.0       92100.0      180200.0       87200.0    95800.0   \n",
       "2      625700.0      875200.0     1737900.0      869500.0  1324300.0   \n",
       "3      256500.0      336700.0      725900.0      382800.0   511700.0   \n",
       "4     3356200.0     5136800.0    10201100.0     4735800.0  5876100.0   \n",
       "\n",
       "        Total  Footnotes  \n",
       "0   4900800.0        NaN  \n",
       "1    698700.0        NaN  \n",
       "2   7107300.0        NaN  \n",
       "3   2936400.0        NaN  \n",
       "4  38379200.0        NaN  \n",
       "\n",
       "[5 rows x 47 columns]"
      ]
     },
     "execution_count": 5,
     "metadata": {},
     "output_type": "execute_result"
    }
   ],
   "source": [
    "# Merge the abuse data with the population data\n",
    "\n",
    "df1=abuse.merge(population, how=\"left\", left_on=\"State\", right_on='Location')\n",
    "del df1['Location']\n",
    "\n",
    "df1.head()"
   ]
  },
  {
   "cell_type": "code",
   "execution_count": 6,
   "metadata": {},
   "outputs": [
    {
     "data": {
      "text/plain": [
       "(54, 47)"
      ]
     },
     "execution_count": 6,
     "metadata": {},
     "output_type": "execute_result"
    }
   ],
   "source": [
    "df1.shape"
   ]
  },
  {
   "cell_type": "code",
   "execution_count": 7,
   "metadata": {},
   "outputs": [],
   "source": [
    "# Retain rows of the state level only, remove the national level data\n",
    "\n",
    "filter = (df1[\"State\"]==\"National\") | (df1[\"State\"]==\"Reporting States\")  # remove the national and reporting state rows\n",
    "df1=df1.loc[~filter, ]"
   ]
  },
  {
   "cell_type": "code",
   "execution_count": 8,
   "metadata": {},
   "outputs": [
    {
     "data": {
      "text/plain": [
       "(52, 47)"
      ]
     },
     "execution_count": 8,
     "metadata": {},
     "output_type": "execute_result"
    }
   ],
   "source": [
    "df1.shape  "
   ]
  },
  {
   "cell_type": "code",
   "execution_count": 9,
   "metadata": {},
   "outputs": [],
   "source": [
    "# Calulate the rate of child abuse of each state using the \"Total Victim\" which sums all child age groups. \n",
    "\n",
    "df1[\"Total Rate per 1,000 Children\"] = round(df1[' Total Victims']/df1['Children 0-18']*1000, 3)"
   ]
  },
  {
   "cell_type": "code",
   "execution_count": 10,
   "metadata": {},
   "outputs": [
    {
     "data": {
      "text/plain": [
       "17    Kentucky\n",
       "Name: State, dtype: object"
      ]
     },
     "execution_count": 10,
     "metadata": {},
     "output_type": "execute_result"
    }
   ],
   "source": [
    "# Find the state with the higest child abuse rate\n",
    "\n",
    "df1['State'][df1[\"Total Rate per 1,000 Children\"]==df1[\"Total Rate per 1,000 Children\"].max()]"
   ]
  },
  {
   "cell_type": "code",
   "execution_count": 11,
   "metadata": {},
   "outputs": [],
   "source": [
    "# Kentucky has the highest child abuse rate. "
   ]
  },
  {
   "cell_type": "code",
   "execution_count": 12,
   "metadata": {},
   "outputs": [
    {
     "data": {
      "text/plain": [
       "17         Kentucky\n",
       "49    West Virginia\n",
       "21    Massachusetts\n",
       "19            Maine\n",
       "1            Alaska\n",
       "Name: State, dtype: object"
      ]
     },
     "execution_count": 12,
     "metadata": {},
     "output_type": "execute_result"
    }
   ],
   "source": [
    "# Find the top five states with the highest child abuse rate\n",
    "\n",
    "df1['State'][df1[\"Total Rate per 1,000 Children\"].sort_values(ascending=False).index[:5]]"
   ]
  },
  {
   "cell_type": "code",
   "execution_count": 13,
   "metadata": {},
   "outputs": [],
   "source": [
    "# Top five states with the highest child abuse rate in descending order: \n",
    "\n",
    "# Kentucky (highest)\n",
    "# West Virginia\n",
    "# Massachuesttes\n",
    "# Maine\n",
    "# Alaska "
   ]
  },
  {
   "cell_type": "code",
   "execution_count": 14,
   "metadata": {},
   "outputs": [
    {
     "data": {
      "text/plain": [
       "38    Pennsylvania\n",
       "Name: State, dtype: object"
      ]
     },
     "execution_count": 14,
     "metadata": {},
     "output_type": "execute_result"
    }
   ],
   "source": [
    "# Find the state with the lowest child abuse rate\n",
    "\n",
    "df1['State'][df1[\"Total Rate per 1,000 Children\"]==df1[\"Total Rate per 1,000 Children\"].min()]"
   ]
  },
  {
   "cell_type": "code",
   "execution_count": 15,
   "metadata": {},
   "outputs": [],
   "source": [
    "# Pennsylvania has the lowest child abuse rate. "
   ]
  },
  {
   "cell_type": "code",
   "execution_count": 16,
   "metadata": {},
   "outputs": [
    {
     "data": {
      "text/plain": [
       "38      Pennsylvania\n",
       "33    North Carolina\n",
       "48        Washington\n",
       "30        New Jersey\n",
       "47          Virginia\n",
       "Name: State, dtype: object"
      ]
     },
     "execution_count": 16,
     "metadata": {},
     "output_type": "execute_result"
    }
   ],
   "source": [
    "# Find the five states with the lowest child abuse rate.\n",
    "\n",
    "df1['State'][df1[\"Total Rate per 1,000 Children\"].sort_values(ascending=True).index[:5]]"
   ]
  },
  {
   "cell_type": "code",
   "execution_count": 17,
   "metadata": {},
   "outputs": [],
   "source": [
    "# states with the lowest child abuse rate in ascending order: \n",
    "\n",
    "# Pennsylvania (lowest)\n",
    "# North Carolina\n",
    "# Washington\n",
    "# New Jersey\n",
    "# Virginia "
   ]
  },
  {
   "cell_type": "code",
   "execution_count": 18,
   "metadata": {},
   "outputs": [
    {
     "data": {
      "text/plain": [
       "Text(0.5, 1.0, 'Histogram of Child Abuse of 52 States/Regions')"
      ]
     },
     "execution_count": 18,
     "metadata": {},
     "output_type": "execute_result"
    },
    {
     "data": {
      "image/png": "[encoded data removed]",
      "text/plain": [
       "<Figure size 432x288 with 1 Axes>"
      ]
     },
     "metadata": {
      "needs_background": "light"
     },
     "output_type": "display_data"
    }
   ],
   "source": [
    "# Plot a histogram of the rate of child abuse for all states\n",
    "\n",
    "df1[\"Total Rate per 1,000 Children\"].hist(bins=10)\n",
    "plt.xlabel('Rate of Child Victims (per 1000 childen)')\n",
    "plt.ylabel('Counts')\n",
    "plt.title('Histogram of Child Abuse of 52 States/Regions')"
   ]
  },
  {
   "cell_type": "code",
   "execution_count": 19,
   "metadata": {},
   "outputs": [],
   "source": [
    "# Histogram seems to show a bimodal distribution.  "
   ]
  },
  {
   "cell_type": "code",
   "execution_count": null,
   "metadata": {},
   "outputs": [],
   "source": []
  },
  {
   "cell_type": "code",
   "execution_count": null,
   "metadata": {},
   "outputs": [],
   "source": []
  },
  {
   "cell_type": "markdown",
   "metadata": {},
   "source": [
    "## **2. At which age were the abuse cases reported the most?** ##"
   ]
  },
  {
   "cell_type": "markdown",
   "metadata": {},
   "source": [
    "**Observations from code below:**<br>\n",
    "\n",
    "Cases of child abuse were reported significantly more among children \n",
    "less than 1 year old than any other ages.  The older the children get, the few abuse cases were reported."
   ]
  },
  {
   "cell_type": "code",
   "execution_count": 20,
   "metadata": {},
   "outputs": [],
   "source": [
    "#  Transpose the dataset, so that the age is the index\n",
    "\n",
    "dft=df1.set_index('State').T"
   ]
  },
  {
   "cell_type": "code",
   "execution_count": 21,
   "metadata": {},
   "outputs": [
    {
     "data": {
      "text/html": [
       "<div>\n",
       "<style scoped>\n",
       "    .dataframe tbody tr th:only-of-type {\n",
       "        vertical-align: middle;\n",
       "    }\n",
       "\n",
       "    .dataframe tbody tr th {\n",
       "        vertical-align: top;\n",
       "    }\n",
       "\n",
       "    .dataframe thead th {\n",
       "        text-align: right;\n",
       "    }\n",
       "</style>\n",
       "<table border=\"1\" class=\"dataframe\">\n",
       "  <thead>\n",
       "    <tr style=\"text-align: right;\">\n",
       "      <th>State</th>\n",
       "      <th>Alabama</th>\n",
       "      <th>Alaska</th>\n",
       "      <th>Arizona</th>\n",
       "      <th>Arkansas</th>\n",
       "      <th>California</th>\n",
       "      <th>Colorado</th>\n",
       "      <th>Connecticut</th>\n",
       "      <th>Delaware</th>\n",
       "      <th>District of Columbia</th>\n",
       "      <th>Florida</th>\n",
       "      <th>...</th>\n",
       "      <th>South Dakota</th>\n",
       "      <th>Tennessee</th>\n",
       "      <th>Texas</th>\n",
       "      <th>Utah</th>\n",
       "      <th>Vermont</th>\n",
       "      <th>Virginia</th>\n",
       "      <th>Washington</th>\n",
       "      <th>West Virginia</th>\n",
       "      <th>Wisconsin</th>\n",
       "      <th>Wyoming</th>\n",
       "    </tr>\n",
       "  </thead>\n",
       "  <tbody>\n",
       "    <tr>\n",
       "      <th>&lt;1</th>\n",
       "      <td>1945.0</td>\n",
       "      <td>416.0</td>\n",
       "      <td>3380.0</td>\n",
       "      <td>1814.0</td>\n",
       "      <td>10134.0</td>\n",
       "      <td>1773.0</td>\n",
       "      <td>1062.0</td>\n",
       "      <td>126.0</td>\n",
       "      <td>206.0</td>\n",
       "      <td>5126.0</td>\n",
       "      <td>...</td>\n",
       "      <td>255.0</td>\n",
       "      <td>2221.0</td>\n",
       "      <td>11614.0</td>\n",
       "      <td>1209.0</td>\n",
       "      <td>60.0</td>\n",
       "      <td>749.0</td>\n",
       "      <td>399.0</td>\n",
       "      <td>1321.0</td>\n",
       "      <td>537.0</td>\n",
       "      <td>145.0</td>\n",
       "    </tr>\n",
       "    <tr>\n",
       "      <th>1</th>\n",
       "      <td>761.0</td>\n",
       "      <td>221.0</td>\n",
       "      <td>830.0</td>\n",
       "      <td>524.0</td>\n",
       "      <td>4221.0</td>\n",
       "      <td>801.0</td>\n",
       "      <td>547.0</td>\n",
       "      <td>95.0</td>\n",
       "      <td>95.0</td>\n",
       "      <td>2493.0</td>\n",
       "      <td>...</td>\n",
       "      <td>141.0</td>\n",
       "      <td>782.0</td>\n",
       "      <td>5471.0</td>\n",
       "      <td>551.0</td>\n",
       "      <td>54.0</td>\n",
       "      <td>441.0</td>\n",
       "      <td>314.0</td>\n",
       "      <td>401.0</td>\n",
       "      <td>314.0</td>\n",
       "      <td>84.0</td>\n",
       "    </tr>\n",
       "    <tr>\n",
       "      <th>2</th>\n",
       "      <td>714.0</td>\n",
       "      <td>232.0</td>\n",
       "      <td>836.0</td>\n",
       "      <td>528.0</td>\n",
       "      <td>3931.0</td>\n",
       "      <td>781.0</td>\n",
       "      <td>471.0</td>\n",
       "      <td>68.0</td>\n",
       "      <td>87.0</td>\n",
       "      <td>2378.0</td>\n",
       "      <td>...</td>\n",
       "      <td>125.0</td>\n",
       "      <td>521.0</td>\n",
       "      <td>5195.0</td>\n",
       "      <td>601.0</td>\n",
       "      <td>55.0</td>\n",
       "      <td>438.0</td>\n",
       "      <td>322.0</td>\n",
       "      <td>412.0</td>\n",
       "      <td>308.0</td>\n",
       "      <td>77.0</td>\n",
       "    </tr>\n",
       "    <tr>\n",
       "      <th>3</th>\n",
       "      <td>731.0</td>\n",
       "      <td>193.0</td>\n",
       "      <td>738.0</td>\n",
       "      <td>487.0</td>\n",
       "      <td>3796.0</td>\n",
       "      <td>719.0</td>\n",
       "      <td>420.0</td>\n",
       "      <td>69.0</td>\n",
       "      <td>126.0</td>\n",
       "      <td>2310.0</td>\n",
       "      <td>...</td>\n",
       "      <td>96.0</td>\n",
       "      <td>508.0</td>\n",
       "      <td>4839.0</td>\n",
       "      <td>522.0</td>\n",
       "      <td>61.0</td>\n",
       "      <td>408.0</td>\n",
       "      <td>289.0</td>\n",
       "      <td>354.0</td>\n",
       "      <td>277.0</td>\n",
       "      <td>75.0</td>\n",
       "    </tr>\n",
       "    <tr>\n",
       "      <th>4</th>\n",
       "      <td>668.0</td>\n",
       "      <td>205.0</td>\n",
       "      <td>655.0</td>\n",
       "      <td>459.0</td>\n",
       "      <td>3601.0</td>\n",
       "      <td>751.0</td>\n",
       "      <td>421.0</td>\n",
       "      <td>65.0</td>\n",
       "      <td>107.0</td>\n",
       "      <td>2037.0</td>\n",
       "      <td>...</td>\n",
       "      <td>109.0</td>\n",
       "      <td>488.0</td>\n",
       "      <td>4604.0</td>\n",
       "      <td>545.0</td>\n",
       "      <td>49.0</td>\n",
       "      <td>376.0</td>\n",
       "      <td>265.0</td>\n",
       "      <td>392.0</td>\n",
       "      <td>288.0</td>\n",
       "      <td>71.0</td>\n",
       "    </tr>\n",
       "  </tbody>\n",
       "</table>\n",
       "<p>5 rows × 52 columns</p>\n",
       "</div>"
      ],
      "text/plain": [
       "State  Alabama  Alaska  Arizona  Arkansas  California  Colorado  Connecticut  \\\n",
       "<1      1945.0   416.0   3380.0    1814.0     10134.0    1773.0       1062.0   \n",
       "1        761.0   221.0    830.0     524.0      4221.0     801.0        547.0   \n",
       "2        714.0   232.0    836.0     528.0      3931.0     781.0        471.0   \n",
       "3        731.0   193.0    738.0     487.0      3796.0     719.0        420.0   \n",
       "4        668.0   205.0    655.0     459.0      3601.0     751.0        421.0   \n",
       "\n",
       "State  Delaware  District of Columbia  Florida  ...  South Dakota  Tennessee  \\\n",
       "<1        126.0                 206.0   5126.0  ...         255.0     2221.0   \n",
       "1          95.0                  95.0   2493.0  ...         141.0      782.0   \n",
       "2          68.0                  87.0   2378.0  ...         125.0      521.0   \n",
       "3          69.0                 126.0   2310.0  ...          96.0      508.0   \n",
       "4          65.0                 107.0   2037.0  ...         109.0      488.0   \n",
       "\n",
       "State    Texas    Utah  Vermont  Virginia  Washington  West Virginia  \\\n",
       "<1     11614.0  1209.0     60.0     749.0       399.0         1321.0   \n",
       "1       5471.0   551.0     54.0     441.0       314.0          401.0   \n",
       "2       5195.0   601.0     55.0     438.0       322.0          412.0   \n",
       "3       4839.0   522.0     61.0     408.0       289.0          354.0   \n",
       "4       4604.0   545.0     49.0     376.0       265.0          392.0   \n",
       "\n",
       "State  Wisconsin  Wyoming  \n",
       "<1         537.0    145.0  \n",
       "1          314.0     84.0  \n",
       "2          308.0     77.0  \n",
       "3          277.0     75.0  \n",
       "4          288.0     71.0  \n",
       "\n",
       "[5 rows x 52 columns]"
      ]
     },
     "execution_count": 21,
     "metadata": {},
     "output_type": "execute_result"
    }
   ],
   "source": [
    "dft.head()"
   ]
  },
  {
   "cell_type": "code",
   "execution_count": 22,
   "metadata": {},
   "outputs": [
    {
     "data": {
      "text/html": [
       "<div>\n",
       "<style scoped>\n",
       "    .dataframe tbody tr th:only-of-type {\n",
       "        vertical-align: middle;\n",
       "    }\n",
       "\n",
       "    .dataframe tbody tr th {\n",
       "        vertical-align: top;\n",
       "    }\n",
       "\n",
       "    .dataframe thead th {\n",
       "        text-align: right;\n",
       "    }\n",
       "</style>\n",
       "<table border=\"1\" class=\"dataframe\">\n",
       "  <thead>\n",
       "    <tr style=\"text-align: right;\">\n",
       "      <th></th>\n",
       "      <th>total cases</th>\n",
       "    </tr>\n",
       "  </thead>\n",
       "  <tbody>\n",
       "    <tr>\n",
       "      <th>&lt;1</th>\n",
       "      <td>97879.0</td>\n",
       "    </tr>\n",
       "    <tr>\n",
       "      <th>1</th>\n",
       "      <td>44411.0</td>\n",
       "    </tr>\n",
       "    <tr>\n",
       "      <th>2</th>\n",
       "      <td>42073.0</td>\n",
       "    </tr>\n",
       "    <tr>\n",
       "      <th>3</th>\n",
       "      <td>40307.0</td>\n",
       "    </tr>\n",
       "    <tr>\n",
       "      <th>4</th>\n",
       "      <td>38708.0</td>\n",
       "    </tr>\n",
       "    <tr>\n",
       "      <th>5</th>\n",
       "      <td>37858.0</td>\n",
       "    </tr>\n",
       "    <tr>\n",
       "      <th>6</th>\n",
       "      <td>36303.0</td>\n",
       "    </tr>\n",
       "    <tr>\n",
       "      <th>7</th>\n",
       "      <td>34576.0</td>\n",
       "    </tr>\n",
       "    <tr>\n",
       "      <th>8</th>\n",
       "      <td>33015.0</td>\n",
       "    </tr>\n",
       "    <tr>\n",
       "      <th>9</th>\n",
       "      <td>32890.0</td>\n",
       "    </tr>\n",
       "    <tr>\n",
       "      <th>10</th>\n",
       "      <td>32193.0</td>\n",
       "    </tr>\n",
       "    <tr>\n",
       "      <th>11</th>\n",
       "      <td>31016.0</td>\n",
       "    </tr>\n",
       "    <tr>\n",
       "      <th>12</th>\n",
       "      <td>30545.0</td>\n",
       "    </tr>\n",
       "    <tr>\n",
       "      <th>13</th>\n",
       "      <td>28831.0</td>\n",
       "    </tr>\n",
       "    <tr>\n",
       "      <th>14</th>\n",
       "      <td>27807.0</td>\n",
       "    </tr>\n",
       "    <tr>\n",
       "      <th>15</th>\n",
       "      <td>26827.0</td>\n",
       "    </tr>\n",
       "    <tr>\n",
       "      <th>16</th>\n",
       "      <td>22878.0</td>\n",
       "    </tr>\n",
       "    <tr>\n",
       "      <th>17</th>\n",
       "      <td>15537.0</td>\n",
       "    </tr>\n",
       "  </tbody>\n",
       "</table>\n",
       "</div>"
      ],
      "text/plain": [
       "    total cases\n",
       "<1      97879.0\n",
       "1       44411.0\n",
       "2       42073.0\n",
       "3       40307.0\n",
       "4       38708.0\n",
       "5       37858.0\n",
       "6       36303.0\n",
       "7       34576.0\n",
       "8       33015.0\n",
       "9       32890.0\n",
       "10      32193.0\n",
       "11      31016.0\n",
       "12      30545.0\n",
       "13      28831.0\n",
       "14      27807.0\n",
       "15      26827.0\n",
       "16      22878.0\n",
       "17      15537.0"
      ]
     },
     "execution_count": 22,
     "metadata": {},
     "output_type": "execute_result"
    }
   ],
   "source": [
    "# Calculate the total number of child abuse cases by age (summing cases in all states for specific ages)\n",
    "\n",
    "df_age=pd.DataFrame(dft.sum(axis=1)[:18].sort_values(ascending=False))\n",
    "df_age.columns=[\"total cases\"]\n",
    "\n",
    "df_age"
   ]
  },
  {
   "cell_type": "code",
   "execution_count": 23,
   "metadata": {},
   "outputs": [
    {
     "data": {
      "text/plain": [
       "Text(0.5, 1.0, 'Abuse cases by age')"
      ]
     },
     "execution_count": 23,
     "metadata": {},
     "output_type": "execute_result"
    },
    {
     "data": {
      "image/png": "[encoded data removed]",
      "text/plain": [
       "<Figure size 432x288 with 1 Axes>"
      ]
     },
     "metadata": {
      "needs_background": "light"
     },
     "output_type": "display_data"
    }
   ],
   "source": [
    "# Plot a bar graph showing any trend between age and total number of child abuse cases\n",
    "\n",
    "df_age.plot.bar()\n",
    "plt.xlabel(\"Age\")\n",
    "plt.ylabel(\"Total abuse cases reported\")\n",
    "plt.title(\"Abuse cases by age\")"
   ]
  },
  {
   "cell_type": "markdown",
   "metadata": {},
   "source": [
    "**Observations:**<br>\n",
    "\n",
    "Cases of child abuse were reported significantly more among children \n",
    "less than 1 year old than any other ages.  The older the children get, \n",
    "the few abuse cases were reported."
   ]
  },
  {
   "cell_type": "code",
   "execution_count": null,
   "metadata": {},
   "outputs": [],
   "source": []
  },
  {
   "cell_type": "code",
   "execution_count": null,
   "metadata": {},
   "outputs": [],
   "source": []
  },
  {
   "cell_type": "markdown",
   "metadata": {},
   "source": [
    "## **3. How binge drinking prevalence, poverty and mental health are associated with child abuse?** ##"
   ]
  },
  {
   "cell_type": "markdown",
   "metadata": {},
   "source": [
    "**Observations from code below:**<br>\n",
    "\n",
    "Based on the regression lines, the rate of child abuse seems to be weakly correlated with children poverty and all poverty.\n",
    "\n",
    "Although I didn't observe a correlation between child abuse and drinking prevalence or mental illness in this analysis, a comparison of child abuse rate between family with mental illness and without, and between family with alcohol addiction and without, could better elucidate a trend.\n"
   ]
  },
  {
   "cell_type": "code",
   "execution_count": 24,
   "metadata": {},
   "outputs": [],
   "source": [
    "drinking=pd.read_excel(\"Binge drinking.xlsx\")  # loading binge drinking excel file"
   ]
  },
  {
   "cell_type": "code",
   "execution_count": 25,
   "metadata": {},
   "outputs": [
    {
     "data": {
      "text/html": [
       "<div>\n",
       "<style scoped>\n",
       "    .dataframe tbody tr th:only-of-type {\n",
       "        vertical-align: middle;\n",
       "    }\n",
       "\n",
       "    .dataframe tbody tr th {\n",
       "        vertical-align: top;\n",
       "    }\n",
       "\n",
       "    .dataframe thead th {\n",
       "        text-align: right;\n",
       "    }\n",
       "</style>\n",
       "<table border=\"1\" class=\"dataframe\">\n",
       "  <thead>\n",
       "    <tr style=\"text-align: right;\">\n",
       "      <th></th>\n",
       "      <th>State</th>\n",
       "      <th>Binge drinking prevalence†, % (95% CI)</th>\n",
       "    </tr>\n",
       "  </thead>\n",
       "  <tbody>\n",
       "    <tr>\n",
       "      <th>0</th>\n",
       "      <td>Alabama</td>\n",
       "      <td>13.7 (12.3-15.3)</td>\n",
       "    </tr>\n",
       "    <tr>\n",
       "      <th>1</th>\n",
       "      <td>Alaska</td>\n",
       "      <td>17.7 (16.1-19.5)</td>\n",
       "    </tr>\n",
       "    <tr>\n",
       "      <th>2</th>\n",
       "      <td>Arizona</td>\n",
       "      <td>17.2 (16.0-18.4)</td>\n",
       "    </tr>\n",
       "    <tr>\n",
       "      <th>3</th>\n",
       "      <td>Arkansas</td>\n",
       "      <td>13.9 (12.3-15.7)</td>\n",
       "    </tr>\n",
       "    <tr>\n",
       "      <th>4</th>\n",
       "      <td>California</td>\n",
       "      <td>15.5 (14.3-16.8)</td>\n",
       "    </tr>\n",
       "  </tbody>\n",
       "</table>\n",
       "</div>"
      ],
      "text/plain": [
       "        State Binge drinking prevalence†, % (95% CI)\n",
       "0     Alabama                       13.7 (12.3-15.3)\n",
       "1      Alaska                       17.7 (16.1-19.5)\n",
       "2     Arizona                       17.2 (16.0-18.4)\n",
       "3    Arkansas                       13.9 (12.3-15.7)\n",
       "4  California                       15.5 (14.3-16.8)"
      ]
     },
     "execution_count": 25,
     "metadata": {},
     "output_type": "execute_result"
    }
   ],
   "source": [
    "drinking.head()"
   ]
  },
  {
   "cell_type": "code",
   "execution_count": 26,
   "metadata": {},
   "outputs": [
    {
     "data": {
      "text/plain": [
       "State                                     object\n",
       "Binge drinking prevalence†, % (95% CI)    object\n",
       "dtype: object"
      ]
     },
     "execution_count": 26,
     "metadata": {},
     "output_type": "execute_result"
    }
   ],
   "source": [
    "drinking.dtypes"
   ]
  },
  {
   "cell_type": "code",
   "execution_count": 27,
   "metadata": {},
   "outputs": [],
   "source": [
    "# Create a function that converts string to float\n",
    " \n",
    "def get_prevalence(string):\n",
    "    \"\"\"(string)->float\n",
    "    \n",
    "    The input of the function is a string, and the function keeps \n",
    "    the first 4 characters and converts to a float. \n",
    "    The function returns the float.  \n",
    "    \n",
    "    >>> get_prevalence(drinking['Binge drinking prevalence†, % (95% CI)'][0])\n",
    "    13.7\n",
    "    \n",
    "    \"\"\"\n",
    "    \n",
    "    return float(string[:4])"
   ]
  },
  {
   "cell_type": "code",
   "execution_count": 28,
   "metadata": {},
   "outputs": [
    {
     "name": "stdout",
     "output_type": "stream",
     "text": [
      "Finding tests in NoName\n",
      "Trying:\n",
      "    get_prevalence(drinking['Binge drinking prevalence†, % (95% CI)'][0])\n",
      "Expecting:\n",
      "    13.7\n",
      "ok\n"
     ]
    }
   ],
   "source": [
    "import doctest\n",
    "doctest.run_docstring_examples(get_prevalence, globals(), verbose=True)"
   ]
  },
  {
   "cell_type": "code",
   "execution_count": 29,
   "metadata": {},
   "outputs": [
    {
     "data": {
      "text/plain": [
       "13.7"
      ]
     },
     "execution_count": 29,
     "metadata": {},
     "output_type": "execute_result"
    }
   ],
   "source": [
    "get_prevalence(drinking['Binge drinking prevalence†, % (95% CI)'][0])"
   ]
  },
  {
   "cell_type": "code",
   "execution_count": 30,
   "metadata": {},
   "outputs": [],
   "source": [
    "# Convert string to float for drinking dataset, more specifically, \n",
    "# all binge drinking prevalences (in str format) to float, \n",
    "# and store in a new column \"drinking_prevalence_%\".\n",
    "\n",
    "drinking[\"drinking_pevalence_%\"]=drinking['Binge drinking prevalence†, % (95% CI)'].apply(get_prevalence)"
   ]
  },
  {
   "cell_type": "code",
   "execution_count": 31,
   "metadata": {},
   "outputs": [
    {
     "data": {
      "text/html": [
       "<div>\n",
       "<style scoped>\n",
       "    .dataframe tbody tr th:only-of-type {\n",
       "        vertical-align: middle;\n",
       "    }\n",
       "\n",
       "    .dataframe tbody tr th {\n",
       "        vertical-align: top;\n",
       "    }\n",
       "\n",
       "    .dataframe thead th {\n",
       "        text-align: right;\n",
       "    }\n",
       "</style>\n",
       "<table border=\"1\" class=\"dataframe\">\n",
       "  <thead>\n",
       "    <tr style=\"text-align: right;\">\n",
       "      <th></th>\n",
       "      <th>State</th>\n",
       "      <th>Binge drinking prevalence†, % (95% CI)</th>\n",
       "      <th>drinking_pevalence_%</th>\n",
       "    </tr>\n",
       "  </thead>\n",
       "  <tbody>\n",
       "    <tr>\n",
       "      <th>0</th>\n",
       "      <td>Alabama</td>\n",
       "      <td>13.7 (12.3-15.3)</td>\n",
       "      <td>13.7</td>\n",
       "    </tr>\n",
       "    <tr>\n",
       "      <th>1</th>\n",
       "      <td>Alaska</td>\n",
       "      <td>17.7 (16.1-19.5)</td>\n",
       "      <td>17.7</td>\n",
       "    </tr>\n",
       "    <tr>\n",
       "      <th>2</th>\n",
       "      <td>Arizona</td>\n",
       "      <td>17.2 (16.0-18.4)</td>\n",
       "      <td>17.2</td>\n",
       "    </tr>\n",
       "    <tr>\n",
       "      <th>3</th>\n",
       "      <td>Arkansas</td>\n",
       "      <td>13.9 (12.3-15.7)</td>\n",
       "      <td>13.9</td>\n",
       "    </tr>\n",
       "    <tr>\n",
       "      <th>4</th>\n",
       "      <td>California</td>\n",
       "      <td>15.5 (14.3-16.8)</td>\n",
       "      <td>15.5</td>\n",
       "    </tr>\n",
       "  </tbody>\n",
       "</table>\n",
       "</div>"
      ],
      "text/plain": [
       "        State Binge drinking prevalence†, % (95% CI)  drinking_pevalence_%\n",
       "0     Alabama                       13.7 (12.3-15.3)                  13.7\n",
       "1      Alaska                       17.7 (16.1-19.5)                  17.7\n",
       "2     Arizona                       17.2 (16.0-18.4)                  17.2\n",
       "3    Arkansas                       13.9 (12.3-15.7)                  13.9\n",
       "4  California                       15.5 (14.3-16.8)                  15.5"
      ]
     },
     "execution_count": 31,
     "metadata": {},
     "output_type": "execute_result"
    }
   ],
   "source": [
    "drinking.head()"
   ]
  },
  {
   "cell_type": "code",
   "execution_count": 32,
   "metadata": {},
   "outputs": [],
   "source": [
    "# Merge drinking dataset with child abuse dataset\n",
    "\n",
    "df2a=drinking.merge(df1, how=\"left\", left_on=\"State\", right_on=\"State\")"
   ]
  },
  {
   "cell_type": "code",
   "execution_count": 33,
   "metadata": {},
   "outputs": [],
   "source": [
    "# Keep the columns that I need for analysis, discard the rest\n",
    "\n",
    "df2=df2a[[\"State\", \"drinking_pevalence_%\", \"Total Rate per 1,000 Children\"]]"
   ]
  },
  {
   "cell_type": "code",
   "execution_count": 34,
   "metadata": {},
   "outputs": [
    {
     "data": {
      "text/html": [
       "<div>\n",
       "<style scoped>\n",
       "    .dataframe tbody tr th:only-of-type {\n",
       "        vertical-align: middle;\n",
       "    }\n",
       "\n",
       "    .dataframe tbody tr th {\n",
       "        vertical-align: top;\n",
       "    }\n",
       "\n",
       "    .dataframe thead th {\n",
       "        text-align: right;\n",
       "    }\n",
       "</style>\n",
       "<table border=\"1\" class=\"dataframe\">\n",
       "  <thead>\n",
       "    <tr style=\"text-align: right;\">\n",
       "      <th></th>\n",
       "      <th>State</th>\n",
       "      <th>drinking_pevalence_%</th>\n",
       "      <th>Total Rate per 1,000 Children</th>\n",
       "    </tr>\n",
       "  </thead>\n",
       "  <tbody>\n",
       "    <tr>\n",
       "      <th>0</th>\n",
       "      <td>Alabama</td>\n",
       "      <td>13.7</td>\n",
       "      <td>10.087</td>\n",
       "    </tr>\n",
       "    <tr>\n",
       "      <th>1</th>\n",
       "      <td>Alaska</td>\n",
       "      <td>17.7</td>\n",
       "      <td>16.607</td>\n",
       "    </tr>\n",
       "    <tr>\n",
       "      <th>2</th>\n",
       "      <td>Arizona</td>\n",
       "      <td>17.2</td>\n",
       "      <td>7.671</td>\n",
       "    </tr>\n",
       "    <tr>\n",
       "      <th>3</th>\n",
       "      <td>Arkansas</td>\n",
       "      <td>13.9</td>\n",
       "      <td>11.654</td>\n",
       "    </tr>\n",
       "    <tr>\n",
       "      <th>4</th>\n",
       "      <td>California</td>\n",
       "      <td>15.5</td>\n",
       "      <td>7.066</td>\n",
       "    </tr>\n",
       "  </tbody>\n",
       "</table>\n",
       "</div>"
      ],
      "text/plain": [
       "        State  drinking_pevalence_%  Total Rate per 1,000 Children\n",
       "0     Alabama                  13.7                         10.087\n",
       "1      Alaska                  17.7                         16.607\n",
       "2     Arizona                  17.2                          7.671\n",
       "3    Arkansas                  13.9                         11.654\n",
       "4  California                  15.5                          7.066"
      ]
     },
     "execution_count": 34,
     "metadata": {},
     "output_type": "execute_result"
    }
   ],
   "source": [
    "df2.head()"
   ]
  },
  {
   "cell_type": "code",
   "execution_count": 35,
   "metadata": {},
   "outputs": [],
   "source": [
    "# loading poverty dataset\n",
    "\n",
    "poverty=pd.read_excel(\"poverty.xlsx\", header=[0,1])  "
   ]
  },
  {
   "cell_type": "code",
   "execution_count": 36,
   "metadata": {},
   "outputs": [
    {
     "data": {
      "text/plain": [
       "MultiIndex([(                          'Unnamed: 0_level_0',        'Name'),\n",
       "            (        'All people in poverty (2020), 90% CI',     'Percent'),\n",
       "            (        'All people in poverty (2020), 90% CI', 'Lower Bound'),\n",
       "            (        'All people in poverty (2020), 90% CI', 'Upper Bound'),\n",
       "            ('Children ages 0-17 in poverty (2020), 90% CI',     'Percent'),\n",
       "            ('Children ages 0-17 in poverty (2020), 90% CI', 'Lower Bound'),\n",
       "            ('Children ages 0-17 in poverty (2020), 90% CI', 'Upper Bound')],\n",
       "           )"
      ]
     },
     "execution_count": 36,
     "metadata": {},
     "output_type": "execute_result"
    }
   ],
   "source": [
    "poverty.columns"
   ]
  },
  {
   "cell_type": "code",
   "execution_count": 37,
   "metadata": {},
   "outputs": [
    {
     "data": {
      "text/html": [
       "<div>\n",
       "<style scoped>\n",
       "    .dataframe tbody tr th:only-of-type {\n",
       "        vertical-align: middle;\n",
       "    }\n",
       "\n",
       "    .dataframe tbody tr th {\n",
       "        vertical-align: top;\n",
       "    }\n",
       "\n",
       "    .dataframe thead tr th {\n",
       "        text-align: left;\n",
       "    }\n",
       "</style>\n",
       "<table border=\"1\" class=\"dataframe\">\n",
       "  <thead>\n",
       "    <tr>\n",
       "      <th></th>\n",
       "      <th>Unnamed: 0_level_0</th>\n",
       "      <th colspan=\"3\" halign=\"left\">All people in poverty (2020), 90% CI</th>\n",
       "      <th colspan=\"3\" halign=\"left\">Children ages 0-17 in poverty (2020), 90% CI</th>\n",
       "    </tr>\n",
       "    <tr>\n",
       "      <th></th>\n",
       "      <th>Name</th>\n",
       "      <th>Percent</th>\n",
       "      <th>Lower Bound</th>\n",
       "      <th>Upper Bound</th>\n",
       "      <th>Percent</th>\n",
       "      <th>Lower Bound</th>\n",
       "      <th>Upper Bound</th>\n",
       "    </tr>\n",
       "  </thead>\n",
       "  <tbody>\n",
       "    <tr>\n",
       "      <th>0</th>\n",
       "      <td>Alabama</td>\n",
       "      <td>14.9</td>\n",
       "      <td>14.5</td>\n",
       "      <td>15.3</td>\n",
       "      <td>20.9</td>\n",
       "      <td>20.0</td>\n",
       "      <td>21.8</td>\n",
       "    </tr>\n",
       "    <tr>\n",
       "      <th>1</th>\n",
       "      <td>Alaska</td>\n",
       "      <td>9.6</td>\n",
       "      <td>9.1</td>\n",
       "      <td>10.1</td>\n",
       "      <td>12.3</td>\n",
       "      <td>11.3</td>\n",
       "      <td>13.3</td>\n",
       "    </tr>\n",
       "    <tr>\n",
       "      <th>2</th>\n",
       "      <td>Arizona</td>\n",
       "      <td>12.8</td>\n",
       "      <td>12.4</td>\n",
       "      <td>13.2</td>\n",
       "      <td>17.6</td>\n",
       "      <td>16.7</td>\n",
       "      <td>18.5</td>\n",
       "    </tr>\n",
       "    <tr>\n",
       "      <th>3</th>\n",
       "      <td>Arkansas</td>\n",
       "      <td>15.2</td>\n",
       "      <td>14.7</td>\n",
       "      <td>15.7</td>\n",
       "      <td>20.8</td>\n",
       "      <td>19.8</td>\n",
       "      <td>21.8</td>\n",
       "    </tr>\n",
       "    <tr>\n",
       "      <th>4</th>\n",
       "      <td>California</td>\n",
       "      <td>11.5</td>\n",
       "      <td>11.3</td>\n",
       "      <td>11.7</td>\n",
       "      <td>14.6</td>\n",
       "      <td>14.2</td>\n",
       "      <td>15.0</td>\n",
       "    </tr>\n",
       "  </tbody>\n",
       "</table>\n",
       "</div>"
      ],
      "text/plain": [
       "  Unnamed: 0_level_0 All people in poverty (2020), 90% CI              \\\n",
       "                Name                              Percent Lower Bound   \n",
       "0            Alabama                                 14.9        14.5   \n",
       "1             Alaska                                  9.6         9.1   \n",
       "2            Arizona                                 12.8        12.4   \n",
       "3           Arkansas                                 15.2        14.7   \n",
       "4         California                                 11.5        11.3   \n",
       "\n",
       "              Children ages 0-17 in poverty (2020), 90% CI              \\\n",
       "  Upper Bound                                      Percent Lower Bound   \n",
       "0        15.3                                         20.9        20.0   \n",
       "1        10.1                                         12.3        11.3   \n",
       "2        13.2                                         17.6        16.7   \n",
       "3        15.7                                         20.8        19.8   \n",
       "4        11.7                                         14.6        14.2   \n",
       "\n",
       "               \n",
       "  Upper Bound  \n",
       "0        21.8  \n",
       "1        13.3  \n",
       "2        18.5  \n",
       "3        21.8  \n",
       "4        15.0  "
      ]
     },
     "execution_count": 37,
     "metadata": {},
     "output_type": "execute_result"
    }
   ],
   "source": [
    "poverty.head()"
   ]
  },
  {
   "cell_type": "code",
   "execution_count": 38,
   "metadata": {},
   "outputs": [],
   "source": [
    "# Rename the columns\n",
    "\n",
    "poverty.columns=[\"State\", \"all_poverty_percent\", \"all_upper bound\", 'all_lower bound', \n",
    "                \"children_poverty_percent\", \"children_upper bound\", 'children_lower bound']"
   ]
  },
  {
   "cell_type": "code",
   "execution_count": 39,
   "metadata": {},
   "outputs": [
    {
     "data": {
      "text/html": [
       "<div>\n",
       "<style scoped>\n",
       "    .dataframe tbody tr th:only-of-type {\n",
       "        vertical-align: middle;\n",
       "    }\n",
       "\n",
       "    .dataframe tbody tr th {\n",
       "        vertical-align: top;\n",
       "    }\n",
       "\n",
       "    .dataframe thead th {\n",
       "        text-align: right;\n",
       "    }\n",
       "</style>\n",
       "<table border=\"1\" class=\"dataframe\">\n",
       "  <thead>\n",
       "    <tr style=\"text-align: right;\">\n",
       "      <th></th>\n",
       "      <th>State</th>\n",
       "      <th>all_poverty_percent</th>\n",
       "      <th>all_upper bound</th>\n",
       "      <th>all_lower bound</th>\n",
       "      <th>children_poverty_percent</th>\n",
       "      <th>children_upper bound</th>\n",
       "      <th>children_lower bound</th>\n",
       "    </tr>\n",
       "  </thead>\n",
       "  <tbody>\n",
       "    <tr>\n",
       "      <th>0</th>\n",
       "      <td>Alabama</td>\n",
       "      <td>14.9</td>\n",
       "      <td>14.5</td>\n",
       "      <td>15.3</td>\n",
       "      <td>20.9</td>\n",
       "      <td>20.0</td>\n",
       "      <td>21.8</td>\n",
       "    </tr>\n",
       "    <tr>\n",
       "      <th>1</th>\n",
       "      <td>Alaska</td>\n",
       "      <td>9.6</td>\n",
       "      <td>9.1</td>\n",
       "      <td>10.1</td>\n",
       "      <td>12.3</td>\n",
       "      <td>11.3</td>\n",
       "      <td>13.3</td>\n",
       "    </tr>\n",
       "    <tr>\n",
       "      <th>2</th>\n",
       "      <td>Arizona</td>\n",
       "      <td>12.8</td>\n",
       "      <td>12.4</td>\n",
       "      <td>13.2</td>\n",
       "      <td>17.6</td>\n",
       "      <td>16.7</td>\n",
       "      <td>18.5</td>\n",
       "    </tr>\n",
       "    <tr>\n",
       "      <th>3</th>\n",
       "      <td>Arkansas</td>\n",
       "      <td>15.2</td>\n",
       "      <td>14.7</td>\n",
       "      <td>15.7</td>\n",
       "      <td>20.8</td>\n",
       "      <td>19.8</td>\n",
       "      <td>21.8</td>\n",
       "    </tr>\n",
       "    <tr>\n",
       "      <th>4</th>\n",
       "      <td>California</td>\n",
       "      <td>11.5</td>\n",
       "      <td>11.3</td>\n",
       "      <td>11.7</td>\n",
       "      <td>14.6</td>\n",
       "      <td>14.2</td>\n",
       "      <td>15.0</td>\n",
       "    </tr>\n",
       "  </tbody>\n",
       "</table>\n",
       "</div>"
      ],
      "text/plain": [
       "        State  all_poverty_percent  all_upper bound  all_lower bound  \\\n",
       "0     Alabama                 14.9             14.5             15.3   \n",
       "1      Alaska                  9.6              9.1             10.1   \n",
       "2     Arizona                 12.8             12.4             13.2   \n",
       "3    Arkansas                 15.2             14.7             15.7   \n",
       "4  California                 11.5             11.3             11.7   \n",
       "\n",
       "   children_poverty_percent  children_upper bound  children_lower bound  \n",
       "0                      20.9                  20.0                  21.8  \n",
       "1                      12.3                  11.3                  13.3  \n",
       "2                      17.6                  16.7                  18.5  \n",
       "3                      20.8                  19.8                  21.8  \n",
       "4                      14.6                  14.2                  15.0  "
      ]
     },
     "execution_count": 39,
     "metadata": {},
     "output_type": "execute_result"
    }
   ],
   "source": [
    "poverty.head()"
   ]
  },
  {
   "cell_type": "code",
   "execution_count": 40,
   "metadata": {},
   "outputs": [],
   "source": [
    "# Keep the columns that I need for analysis, discard the rest\n",
    "\n",
    "poverty=poverty[[\"State\", \"all_poverty_percent\", \"children_poverty_percent\"]]"
   ]
  },
  {
   "cell_type": "code",
   "execution_count": 41,
   "metadata": {},
   "outputs": [],
   "source": [
    "# Merge poverty dataset with drinking dataset and child abuse dataset\n",
    "\n",
    "df3=df2.merge(poverty, how=\"left\", on=\"State\")"
   ]
  },
  {
   "cell_type": "code",
   "execution_count": 42,
   "metadata": {},
   "outputs": [
    {
     "data": {
      "text/html": [
       "<div>\n",
       "<style scoped>\n",
       "    .dataframe tbody tr th:only-of-type {\n",
       "        vertical-align: middle;\n",
       "    }\n",
       "\n",
       "    .dataframe tbody tr th {\n",
       "        vertical-align: top;\n",
       "    }\n",
       "\n",
       "    .dataframe thead th {\n",
       "        text-align: right;\n",
       "    }\n",
       "</style>\n",
       "<table border=\"1\" class=\"dataframe\">\n",
       "  <thead>\n",
       "    <tr style=\"text-align: right;\">\n",
       "      <th></th>\n",
       "      <th>State</th>\n",
       "      <th>drinking_pevalence_%</th>\n",
       "      <th>Total Rate per 1,000 Children</th>\n",
       "      <th>all_poverty_percent</th>\n",
       "      <th>children_poverty_percent</th>\n",
       "    </tr>\n",
       "  </thead>\n",
       "  <tbody>\n",
       "    <tr>\n",
       "      <th>0</th>\n",
       "      <td>Alabama</td>\n",
       "      <td>13.7</td>\n",
       "      <td>10.087</td>\n",
       "      <td>14.9</td>\n",
       "      <td>20.9</td>\n",
       "    </tr>\n",
       "    <tr>\n",
       "      <th>1</th>\n",
       "      <td>Alaska</td>\n",
       "      <td>17.7</td>\n",
       "      <td>16.607</td>\n",
       "      <td>9.6</td>\n",
       "      <td>12.3</td>\n",
       "    </tr>\n",
       "    <tr>\n",
       "      <th>2</th>\n",
       "      <td>Arizona</td>\n",
       "      <td>17.2</td>\n",
       "      <td>7.671</td>\n",
       "      <td>12.8</td>\n",
       "      <td>17.6</td>\n",
       "    </tr>\n",
       "    <tr>\n",
       "      <th>3</th>\n",
       "      <td>Arkansas</td>\n",
       "      <td>13.9</td>\n",
       "      <td>11.654</td>\n",
       "      <td>15.2</td>\n",
       "      <td>20.8</td>\n",
       "    </tr>\n",
       "    <tr>\n",
       "      <th>4</th>\n",
       "      <td>California</td>\n",
       "      <td>15.5</td>\n",
       "      <td>7.066</td>\n",
       "      <td>11.5</td>\n",
       "      <td>14.6</td>\n",
       "    </tr>\n",
       "  </tbody>\n",
       "</table>\n",
       "</div>"
      ],
      "text/plain": [
       "        State  drinking_pevalence_%  Total Rate per 1,000 Children  \\\n",
       "0     Alabama                  13.7                         10.087   \n",
       "1      Alaska                  17.7                         16.607   \n",
       "2     Arizona                  17.2                          7.671   \n",
       "3    Arkansas                  13.9                         11.654   \n",
       "4  California                  15.5                          7.066   \n",
       "\n",
       "   all_poverty_percent  children_poverty_percent  \n",
       "0                 14.9                      20.9  \n",
       "1                  9.6                      12.3  \n",
       "2                 12.8                      17.6  \n",
       "3                 15.2                      20.8  \n",
       "4                 11.5                      14.6  "
      ]
     },
     "execution_count": 42,
     "metadata": {},
     "output_type": "execute_result"
    }
   ],
   "source": [
    "df3.head()"
   ]
  },
  {
   "cell_type": "markdown",
   "metadata": {},
   "source": [
    "Load mental illness dataset"
   ]
  },
  {
   "cell_type": "code",
   "execution_count": 43,
   "metadata": {},
   "outputs": [],
   "source": [
    "mental=pd.read_excel(\"mental_health_ranking.xlsx\")"
   ]
  },
  {
   "cell_type": "code",
   "execution_count": 44,
   "metadata": {},
   "outputs": [
    {
     "data": {
      "text/html": [
       "<div>\n",
       "<style scoped>\n",
       "    .dataframe tbody tr th:only-of-type {\n",
       "        vertical-align: middle;\n",
       "    }\n",
       "\n",
       "    .dataframe tbody tr th {\n",
       "        vertical-align: top;\n",
       "    }\n",
       "\n",
       "    .dataframe thead th {\n",
       "        text-align: right;\n",
       "    }\n",
       "</style>\n",
       "<table border=\"1\" class=\"dataframe\">\n",
       "  <thead>\n",
       "    <tr style=\"text-align: right;\">\n",
       "      <th></th>\n",
       "      <th>State</th>\n",
       "      <th>MH Rank</th>\n",
       "    </tr>\n",
       "  </thead>\n",
       "  <tbody>\n",
       "    <tr>\n",
       "      <th>0</th>\n",
       "      <td>New Jersey</td>\n",
       "      <td>1</td>\n",
       "    </tr>\n",
       "    <tr>\n",
       "      <th>1</th>\n",
       "      <td>Wisconsin</td>\n",
       "      <td>2</td>\n",
       "    </tr>\n",
       "    <tr>\n",
       "      <th>2</th>\n",
       "      <td>Massachusetts</td>\n",
       "      <td>3</td>\n",
       "    </tr>\n",
       "    <tr>\n",
       "      <th>3</th>\n",
       "      <td>Connecticut</td>\n",
       "      <td>4</td>\n",
       "    </tr>\n",
       "    <tr>\n",
       "      <th>4</th>\n",
       "      <td>New York</td>\n",
       "      <td>5</td>\n",
       "    </tr>\n",
       "  </tbody>\n",
       "</table>\n",
       "</div>"
      ],
      "text/plain": [
       "           State  MH Rank\n",
       "0     New Jersey        1\n",
       "1      Wisconsin        2\n",
       "2  Massachusetts        3\n",
       "3    Connecticut        4\n",
       "4       New York        5"
      ]
     },
     "execution_count": 44,
     "metadata": {},
     "output_type": "execute_result"
    }
   ],
   "source": [
    "mental.head()  \n",
    "\n",
    "# Low rank means low prevalence of mental illness"
   ]
  },
  {
   "cell_type": "code",
   "execution_count": 45,
   "metadata": {},
   "outputs": [],
   "source": [
    "# Merge mental illness dataset with poverty, drinking, and child abuse dataset\n",
    "\n",
    "df4=df3.merge(mental, how=\"left\", on=\"State\")"
   ]
  },
  {
   "cell_type": "code",
   "execution_count": 46,
   "metadata": {},
   "outputs": [
    {
     "data": {
      "text/html": [
       "<div>\n",
       "<style scoped>\n",
       "    .dataframe tbody tr th:only-of-type {\n",
       "        vertical-align: middle;\n",
       "    }\n",
       "\n",
       "    .dataframe tbody tr th {\n",
       "        vertical-align: top;\n",
       "    }\n",
       "\n",
       "    .dataframe thead th {\n",
       "        text-align: right;\n",
       "    }\n",
       "</style>\n",
       "<table border=\"1\" class=\"dataframe\">\n",
       "  <thead>\n",
       "    <tr style=\"text-align: right;\">\n",
       "      <th></th>\n",
       "      <th>State</th>\n",
       "      <th>drinking_pevalence_%</th>\n",
       "      <th>Total Rate per 1,000 Children</th>\n",
       "      <th>all_poverty_percent</th>\n",
       "      <th>children_poverty_percent</th>\n",
       "      <th>MH Rank</th>\n",
       "    </tr>\n",
       "  </thead>\n",
       "  <tbody>\n",
       "    <tr>\n",
       "      <th>0</th>\n",
       "      <td>Alabama</td>\n",
       "      <td>13.7</td>\n",
       "      <td>10.087</td>\n",
       "      <td>14.9</td>\n",
       "      <td>20.9</td>\n",
       "      <td>47</td>\n",
       "    </tr>\n",
       "    <tr>\n",
       "      <th>1</th>\n",
       "      <td>Alaska</td>\n",
       "      <td>17.7</td>\n",
       "      <td>16.607</td>\n",
       "      <td>9.6</td>\n",
       "      <td>12.3</td>\n",
       "      <td>46</td>\n",
       "    </tr>\n",
       "    <tr>\n",
       "      <th>2</th>\n",
       "      <td>Arizona</td>\n",
       "      <td>17.2</td>\n",
       "      <td>7.671</td>\n",
       "      <td>12.8</td>\n",
       "      <td>17.6</td>\n",
       "      <td>35</td>\n",
       "    </tr>\n",
       "    <tr>\n",
       "      <th>3</th>\n",
       "      <td>Arkansas</td>\n",
       "      <td>13.9</td>\n",
       "      <td>11.654</td>\n",
       "      <td>15.2</td>\n",
       "      <td>20.8</td>\n",
       "      <td>16</td>\n",
       "    </tr>\n",
       "    <tr>\n",
       "      <th>4</th>\n",
       "      <td>California</td>\n",
       "      <td>15.5</td>\n",
       "      <td>7.066</td>\n",
       "      <td>11.5</td>\n",
       "      <td>14.6</td>\n",
       "      <td>28</td>\n",
       "    </tr>\n",
       "  </tbody>\n",
       "</table>\n",
       "</div>"
      ],
      "text/plain": [
       "        State  drinking_pevalence_%  Total Rate per 1,000 Children  \\\n",
       "0     Alabama                  13.7                         10.087   \n",
       "1      Alaska                  17.7                         16.607   \n",
       "2     Arizona                  17.2                          7.671   \n",
       "3    Arkansas                  13.9                         11.654   \n",
       "4  California                  15.5                          7.066   \n",
       "\n",
       "   all_poverty_percent  children_poverty_percent  MH Rank  \n",
       "0                 14.9                      20.9       47  \n",
       "1                  9.6                      12.3       46  \n",
       "2                 12.8                      17.6       35  \n",
       "3                 15.2                      20.8       16  \n",
       "4                 11.5                      14.6       28  "
      ]
     },
     "execution_count": 46,
     "metadata": {},
     "output_type": "execute_result"
    }
   ],
   "source": [
    "df4.head()"
   ]
  },
  {
   "cell_type": "code",
   "execution_count": 47,
   "metadata": {},
   "outputs": [
    {
     "data": {
      "text/plain": [
       "<seaborn.axisgrid.PairGrid at 0x7f21622475c0>"
      ]
     },
     "execution_count": 47,
     "metadata": {},
     "output_type": "execute_result"
    },
    {
     "data": {
      "image/png": "[encoded data removed]",
      "text/plain": [
       "<Figure size 900x900 with 30 Axes>"
      ]
     },
     "metadata": {
      "needs_background": "light"
     },
     "output_type": "display_data"
    }
   ],
   "source": [
    "# Explore any correlation among variables in df4\n",
    "\n",
    "import seaborn as sns\n",
    "\n",
    "sns.pairplot(df4, kind=\"reg\")"
   ]
  },
  {
   "cell_type": "markdown",
   "metadata": {},
   "source": [
    "**Observations from code above:**<br>\n",
    "\n",
    "Based on the regression lines, the rate of child abuse seem to be weakly correlated with children poverty and all poverty.<br>\n",
    "\n",
    "Although I didn't observe a correlation between child abuse and drinking prevalence or mental illness in this analysis, a comparison of child abuse rate between family with mental illness and without, and between family with alcohol addiction and without, could better elucidate a trend.  "
   ]
  },
  {
   "cell_type": "code",
   "execution_count": null,
   "metadata": {},
   "outputs": [],
   "source": []
  },
  {
   "cell_type": "code",
   "execution_count": null,
   "metadata": {},
   "outputs": [],
   "source": []
  },
  {
   "cell_type": "markdown",
   "metadata": {},
   "source": [
    "## **4. Any difference in the rate of child abuse between blue and red states?** ##"
   ]
  },
  {
   "cell_type": "markdown",
   "metadata": {},
   "source": [
    "**Observation from code below:**<br>\n",
    "\n",
    "The average rate of child abuse in republican states was 11.5% higher than in democratic states."
   ]
  },
  {
   "cell_type": "code",
   "execution_count": 48,
   "metadata": {},
   "outputs": [],
   "source": [
    "# load election dataset\n",
    "\n",
    "election=pd.read_excel(\"election 2020.xlsx\")  "
   ]
  },
  {
   "cell_type": "code",
   "execution_count": 49,
   "metadata": {},
   "outputs": [
    {
     "data": {
      "text/html": [
       "<div>\n",
       "<style scoped>\n",
       "    .dataframe tbody tr th:only-of-type {\n",
       "        vertical-align: middle;\n",
       "    }\n",
       "\n",
       "    .dataframe tbody tr th {\n",
       "        vertical-align: top;\n",
       "    }\n",
       "\n",
       "    .dataframe thead th {\n",
       "        text-align: right;\n",
       "    }\n",
       "</style>\n",
       "<table border=\"1\" class=\"dataframe\">\n",
       "  <thead>\n",
       "    <tr style=\"text-align: right;\">\n",
       "      <th></th>\n",
       "      <th>State</th>\n",
       "      <th>Party</th>\n",
       "    </tr>\n",
       "  </thead>\n",
       "  <tbody>\n",
       "    <tr>\n",
       "      <th>0</th>\n",
       "      <td>Alabama</td>\n",
       "      <td>R</td>\n",
       "    </tr>\n",
       "    <tr>\n",
       "      <th>1</th>\n",
       "      <td>Alaska</td>\n",
       "      <td>R</td>\n",
       "    </tr>\n",
       "    <tr>\n",
       "      <th>2</th>\n",
       "      <td>Arizona</td>\n",
       "      <td>D</td>\n",
       "    </tr>\n",
       "    <tr>\n",
       "      <th>3</th>\n",
       "      <td>Arkansas</td>\n",
       "      <td>R</td>\n",
       "    </tr>\n",
       "    <tr>\n",
       "      <th>4</th>\n",
       "      <td>California</td>\n",
       "      <td>D</td>\n",
       "    </tr>\n",
       "  </tbody>\n",
       "</table>\n",
       "</div>"
      ],
      "text/plain": [
       "        State Party\n",
       "0     Alabama     R\n",
       "1      Alaska     R\n",
       "2     Arizona     D\n",
       "3    Arkansas     R\n",
       "4  California     D"
      ]
     },
     "execution_count": 49,
     "metadata": {},
     "output_type": "execute_result"
    }
   ],
   "source": [
    "election.head()"
   ]
  },
  {
   "cell_type": "code",
   "execution_count": 50,
   "metadata": {},
   "outputs": [],
   "source": [
    "# Merge election dataset with child abuse dataset\n",
    "\n",
    "df5=election.merge(df2a, how=\"left\", on=\"State\")"
   ]
  },
  {
   "cell_type": "code",
   "execution_count": 51,
   "metadata": {},
   "outputs": [],
   "source": [
    "# Keep the columns that I need, and discard the rest\n",
    "\n",
    "df5=df5[[\"State\",\"Party\",\" Total Victims\", 'Children 0-18']]"
   ]
  },
  {
   "cell_type": "code",
   "execution_count": 52,
   "metadata": {},
   "outputs": [
    {
     "data": {
      "text/html": [
       "<div>\n",
       "<style scoped>\n",
       "    .dataframe tbody tr th:only-of-type {\n",
       "        vertical-align: middle;\n",
       "    }\n",
       "\n",
       "    .dataframe tbody tr th {\n",
       "        vertical-align: top;\n",
       "    }\n",
       "\n",
       "    .dataframe thead th {\n",
       "        text-align: right;\n",
       "    }\n",
       "</style>\n",
       "<table border=\"1\" class=\"dataframe\">\n",
       "  <thead>\n",
       "    <tr style=\"text-align: right;\">\n",
       "      <th></th>\n",
       "      <th>State</th>\n",
       "      <th>Party</th>\n",
       "      <th>Total Victims</th>\n",
       "      <th>Children 0-18</th>\n",
       "    </tr>\n",
       "  </thead>\n",
       "  <tbody>\n",
       "    <tr>\n",
       "      <th>0</th>\n",
       "      <td>Alabama</td>\n",
       "      <td>R</td>\n",
       "      <td>11677</td>\n",
       "      <td>1157600.0</td>\n",
       "    </tr>\n",
       "    <tr>\n",
       "      <th>1</th>\n",
       "      <td>Alaska</td>\n",
       "      <td>R</td>\n",
       "      <td>3059</td>\n",
       "      <td>184200.0</td>\n",
       "    </tr>\n",
       "    <tr>\n",
       "      <th>2</th>\n",
       "      <td>Arizona</td>\n",
       "      <td>D</td>\n",
       "      <td>12847</td>\n",
       "      <td>1674800.0</td>\n",
       "    </tr>\n",
       "    <tr>\n",
       "      <th>3</th>\n",
       "      <td>Arkansas</td>\n",
       "      <td>R</td>\n",
       "      <td>8422</td>\n",
       "      <td>722700.0</td>\n",
       "    </tr>\n",
       "    <tr>\n",
       "      <th>4</th>\n",
       "      <td>California</td>\n",
       "      <td>D</td>\n",
       "      <td>64115</td>\n",
       "      <td>9073100.0</td>\n",
       "    </tr>\n",
       "  </tbody>\n",
       "</table>\n",
       "</div>"
      ],
      "text/plain": [
       "        State Party   Total Victims  Children 0-18\n",
       "0     Alabama     R           11677      1157600.0\n",
       "1      Alaska     R            3059       184200.0\n",
       "2     Arizona     D           12847      1674800.0\n",
       "3    Arkansas     R            8422       722700.0\n",
       "4  California     D           64115      9073100.0"
      ]
     },
     "execution_count": 52,
     "metadata": {},
     "output_type": "execute_result"
    }
   ],
   "source": [
    "df5.head()"
   ]
  },
  {
   "cell_type": "code",
   "execution_count": 53,
   "metadata": {},
   "outputs": [],
   "source": [
    "# Aggregate or groupby by Party and calculate the sum of Total Victims and \n",
    "# the sum of children population\n",
    "\n",
    "summary=df5.groupby('Party').sum()"
   ]
  },
  {
   "cell_type": "code",
   "execution_count": 54,
   "metadata": {},
   "outputs": [
    {
     "data": {
      "text/html": [
       "<div>\n",
       "<style scoped>\n",
       "    .dataframe tbody tr th:only-of-type {\n",
       "        vertical-align: middle;\n",
       "    }\n",
       "\n",
       "    .dataframe tbody tr th {\n",
       "        vertical-align: top;\n",
       "    }\n",
       "\n",
       "    .dataframe thead th {\n",
       "        text-align: right;\n",
       "    }\n",
       "</style>\n",
       "<table border=\"1\" class=\"dataframe\">\n",
       "  <thead>\n",
       "    <tr style=\"text-align: right;\">\n",
       "      <th></th>\n",
       "      <th>Total Victims</th>\n",
       "      <th>Children 0-18</th>\n",
       "    </tr>\n",
       "    <tr>\n",
       "      <th>Party</th>\n",
       "      <th></th>\n",
       "      <th></th>\n",
       "    </tr>\n",
       "  </thead>\n",
       "  <tbody>\n",
       "    <tr>\n",
       "      <th>D</th>\n",
       "      <td>347145</td>\n",
       "      <td>42477100.0</td>\n",
       "    </tr>\n",
       "    <tr>\n",
       "      <th>R</th>\n",
       "      <td>304360</td>\n",
       "      <td>33410500.0</td>\n",
       "    </tr>\n",
       "  </tbody>\n",
       "</table>\n",
       "</div>"
      ],
      "text/plain": [
       "        Total Victims  Children 0-18\n",
       "Party                               \n",
       "D              347145     42477100.0\n",
       "R              304360     33410500.0"
      ]
     },
     "execution_count": 54,
     "metadata": {},
     "output_type": "execute_result"
    }
   ],
   "source": [
    "summary"
   ]
  },
  {
   "cell_type": "code",
   "execution_count": 55,
   "metadata": {},
   "outputs": [],
   "source": [
    "# Calculate the average child abuse rate in democratic states and republican states\n",
    "\n",
    "summary[\"child abuse rate per 1000\"]=summary[\" Total Victims\"]/summary['Children 0-18']*1000"
   ]
  },
  {
   "cell_type": "code",
   "execution_count": 56,
   "metadata": {},
   "outputs": [],
   "source": [
    "summary.reset_index(inplace=True)"
   ]
  },
  {
   "cell_type": "code",
   "execution_count": 57,
   "metadata": {},
   "outputs": [
    {
     "data": {
      "text/html": [
       "<div>\n",
       "<style scoped>\n",
       "    .dataframe tbody tr th:only-of-type {\n",
       "        vertical-align: middle;\n",
       "    }\n",
       "\n",
       "    .dataframe tbody tr th {\n",
       "        vertical-align: top;\n",
       "    }\n",
       "\n",
       "    .dataframe thead th {\n",
       "        text-align: right;\n",
       "    }\n",
       "</style>\n",
       "<table border=\"1\" class=\"dataframe\">\n",
       "  <thead>\n",
       "    <tr style=\"text-align: right;\">\n",
       "      <th></th>\n",
       "      <th>Party</th>\n",
       "      <th>Total Victims</th>\n",
       "      <th>Children 0-18</th>\n",
       "      <th>child abuse rate per 1000</th>\n",
       "    </tr>\n",
       "  </thead>\n",
       "  <tbody>\n",
       "    <tr>\n",
       "      <th>0</th>\n",
       "      <td>D</td>\n",
       "      <td>347145</td>\n",
       "      <td>42477100.0</td>\n",
       "      <td>8.172521</td>\n",
       "    </tr>\n",
       "    <tr>\n",
       "      <th>1</th>\n",
       "      <td>R</td>\n",
       "      <td>304360</td>\n",
       "      <td>33410500.0</td>\n",
       "      <td>9.109711</td>\n",
       "    </tr>\n",
       "  </tbody>\n",
       "</table>\n",
       "</div>"
      ],
      "text/plain": [
       "  Party   Total Victims  Children 0-18  child abuse rate per 1000\n",
       "0     D          347145     42477100.0                   8.172521\n",
       "1     R          304360     33410500.0                   9.109711"
      ]
     },
     "execution_count": 57,
     "metadata": {},
     "output_type": "execute_result"
    }
   ],
   "source": [
    "summary"
   ]
  },
  {
   "cell_type": "code",
   "execution_count": 58,
   "metadata": {},
   "outputs": [
    {
     "data": {
      "text/plain": [
       "Text(0, 0.5, 'Abuse rate per 1000 children')"
      ]
     },
     "execution_count": 58,
     "metadata": {},
     "output_type": "execute_result"
    },
    {
     "data": {
      "image/png": "[encoded data removed]",
      "text/plain": [
       "<Figure size 432x288 with 1 Axes>"
      ]
     },
     "metadata": {
      "needs_background": "light"
     },
     "output_type": "display_data"
    }
   ],
   "source": [
    "summary[[\"Party\", \"child abuse rate per 1000\"]].set_index(\"Party\").T.plot.bar()\n",
    "plt.title(\"Child Abuse Rate in Democratic and Republic States\")\n",
    "plt.ylabel(\"Abuse rate per 1000 children\")"
   ]
  },
  {
   "cell_type": "code",
   "execution_count": 59,
   "metadata": {},
   "outputs": [
    {
     "data": {
      "text/plain": [
       "9.109711018991035"
      ]
     },
     "execution_count": 59,
     "metadata": {},
     "output_type": "execute_result"
    }
   ],
   "source": [
    "R_rate=summary[summary[\"Party\"]==\"R\"][\"child abuse rate per 1000\"].values[0]\n",
    "R_rate"
   ]
  },
  {
   "cell_type": "code",
   "execution_count": 60,
   "metadata": {},
   "outputs": [
    {
     "data": {
      "text/plain": [
       "8.172521193772644"
      ]
     },
     "execution_count": 60,
     "metadata": {},
     "output_type": "execute_result"
    }
   ],
   "source": [
    "D_rate=summary[summary[\"Party\"]==\"D\"][\"child abuse rate per 1000\"].values[0]\n",
    "D_rate"
   ]
  },
  {
   "cell_type": "code",
   "execution_count": 61,
   "metadata": {},
   "outputs": [
    {
     "data": {
      "text/plain": [
       "0.115"
      ]
     },
     "execution_count": 61,
     "metadata": {},
     "output_type": "execute_result"
    }
   ],
   "source": [
    "# Calculate the % difference in child abuse rate between D and R states.\n",
    "\n",
    "difference=(R_rate/D_rate-1)\n",
    "round(difference,3)"
   ]
  },
  {
   "cell_type": "markdown",
   "metadata": {},
   "source": [
    "**Observation:**<br>\n",
    "\n",
    "The average rate of child abuse in republican states was 11.5% higher than in democratic states."
   ]
  },
  {
   "cell_type": "code",
   "execution_count": null,
   "metadata": {},
   "outputs": [],
   "source": []
  },
  {
   "cell_type": "code",
   "execution_count": null,
   "metadata": {},
   "outputs": [],
   "source": []
  },
  {
   "cell_type": "markdown",
   "metadata": {},
   "source": [
    "## **5. Any other difference observed between the blue and red states using the above datasets?** ##"
   ]
  },
  {
   "cell_type": "markdown",
   "metadata": {},
   "source": [
    "**Observations from code below:**\n",
    "\n",
    "There is no significant difference (~1%) in binge drinking prevalence between the democratic and republican states.\n",
    "\n",
    "Republican states show worse poverty conditions than democratic state: 18.1% and 19.9% higher in all poverty rate and children poverty rate than democratic states, respectively.\n",
    "\n",
    "Republican states show worse mental health conditions than democratic state: 36.1% higher in mental illness ranking than democratic states. Note: lower the MH rank is, the better mental health of the people in the state.\n"
   ]
  },
  {
   "cell_type": "code",
   "execution_count": 62,
   "metadata": {},
   "outputs": [],
   "source": [
    "# Merge the election dataset with drinking, poverty and mental health datasets\n",
    "\n",
    "summary2=election.merge(df4, how=\"left\", on=\"State\")"
   ]
  },
  {
   "cell_type": "code",
   "execution_count": 63,
   "metadata": {},
   "outputs": [
    {
     "data": {
      "text/plain": [
       "Index(['State', 'Party', 'drinking_pevalence_%',\n",
       "       'Total Rate per 1,000 Children', 'all_poverty_percent',\n",
       "       'children_poverty_percent', 'MH Rank'],\n",
       "      dtype='object')"
      ]
     },
     "execution_count": 63,
     "metadata": {},
     "output_type": "execute_result"
    }
   ],
   "source": [
    "summary2.columns"
   ]
  },
  {
   "cell_type": "code",
   "execution_count": 64,
   "metadata": {},
   "outputs": [],
   "source": [
    "# Groupby by Party, and calcuate the mean of drinking_pevalence_%,\n",
    "# all_poverty_percent, children_poverty_percent, MH Rank.\n",
    "\n",
    "summary2=summary2.groupby('Party').agg({'drinking_pevalence_%': 'mean',\n",
    "                              \"all_poverty_percent\":\"mean\",\n",
    "                              'children_poverty_percent':\"mean\",\n",
    "                              'MH Rank': 'mean'}).round(2)"
   ]
  },
  {
   "cell_type": "code",
   "execution_count": 65,
   "metadata": {},
   "outputs": [
    {
     "data": {
      "text/html": [
       "<div>\n",
       "<style scoped>\n",
       "    .dataframe tbody tr th:only-of-type {\n",
       "        vertical-align: middle;\n",
       "    }\n",
       "\n",
       "    .dataframe tbody tr th {\n",
       "        vertical-align: top;\n",
       "    }\n",
       "\n",
       "    .dataframe thead th {\n",
       "        text-align: right;\n",
       "    }\n",
       "</style>\n",
       "<table border=\"1\" class=\"dataframe\">\n",
       "  <thead>\n",
       "    <tr style=\"text-align: right;\">\n",
       "      <th></th>\n",
       "      <th>drinking_pevalence_%</th>\n",
       "      <th>all_poverty_percent</th>\n",
       "      <th>children_poverty_percent</th>\n",
       "      <th>MH Rank</th>\n",
       "    </tr>\n",
       "    <tr>\n",
       "      <th>Party</th>\n",
       "      <th></th>\n",
       "      <th></th>\n",
       "      <th></th>\n",
       "      <th></th>\n",
       "    </tr>\n",
       "  </thead>\n",
       "  <tbody>\n",
       "    <tr>\n",
       "      <th>D</th>\n",
       "      <td>17.01</td>\n",
       "      <td>10.77</td>\n",
       "      <td>13.70</td>\n",
       "      <td>22.22</td>\n",
       "    </tr>\n",
       "    <tr>\n",
       "      <th>R</th>\n",
       "      <td>16.86</td>\n",
       "      <td>12.72</td>\n",
       "      <td>16.42</td>\n",
       "      <td>30.25</td>\n",
       "    </tr>\n",
       "  </tbody>\n",
       "</table>\n",
       "</div>"
      ],
      "text/plain": [
       "       drinking_pevalence_%  all_poverty_percent  children_poverty_percent  \\\n",
       "Party                                                                        \n",
       "D                     17.01                10.77                     13.70   \n",
       "R                     16.86                12.72                     16.42   \n",
       "\n",
       "       MH Rank  \n",
       "Party           \n",
       "D        22.22  \n",
       "R        30.25  "
      ]
     },
     "execution_count": 65,
     "metadata": {},
     "output_type": "execute_result"
    }
   ],
   "source": [
    "summary2"
   ]
  },
  {
   "cell_type": "code",
   "execution_count": 66,
   "metadata": {},
   "outputs": [],
   "source": [
    "# Calculate the % difference between D and R in column variables, and store \n",
    "# the % difference in a row called \"% difference\".\n",
    "\n",
    "summary2.loc['% difference']=(summary2.loc['R']/summary2.loc['D']-1)*100\n",
    "summary2=summary2.round(1)"
   ]
  },
  {
   "cell_type": "code",
   "execution_count": 67,
   "metadata": {},
   "outputs": [
    {
     "data": {
      "text/html": [
       "<div>\n",
       "<style scoped>\n",
       "    .dataframe tbody tr th:only-of-type {\n",
       "        vertical-align: middle;\n",
       "    }\n",
       "\n",
       "    .dataframe tbody tr th {\n",
       "        vertical-align: top;\n",
       "    }\n",
       "\n",
       "    .dataframe thead th {\n",
       "        text-align: right;\n",
       "    }\n",
       "</style>\n",
       "<table border=\"1\" class=\"dataframe\">\n",
       "  <thead>\n",
       "    <tr style=\"text-align: right;\">\n",
       "      <th></th>\n",
       "      <th>drinking_pevalence_%</th>\n",
       "      <th>all_poverty_percent</th>\n",
       "      <th>children_poverty_percent</th>\n",
       "      <th>MH Rank</th>\n",
       "    </tr>\n",
       "    <tr>\n",
       "      <th>Party</th>\n",
       "      <th></th>\n",
       "      <th></th>\n",
       "      <th></th>\n",
       "      <th></th>\n",
       "    </tr>\n",
       "  </thead>\n",
       "  <tbody>\n",
       "    <tr>\n",
       "      <th>D</th>\n",
       "      <td>17.0</td>\n",
       "      <td>10.8</td>\n",
       "      <td>13.7</td>\n",
       "      <td>22.2</td>\n",
       "    </tr>\n",
       "    <tr>\n",
       "      <th>R</th>\n",
       "      <td>16.9</td>\n",
       "      <td>12.7</td>\n",
       "      <td>16.4</td>\n",
       "      <td>30.2</td>\n",
       "    </tr>\n",
       "    <tr>\n",
       "      <th>% difference</th>\n",
       "      <td>-0.9</td>\n",
       "      <td>18.1</td>\n",
       "      <td>19.9</td>\n",
       "      <td>36.1</td>\n",
       "    </tr>\n",
       "  </tbody>\n",
       "</table>\n",
       "</div>"
      ],
      "text/plain": [
       "              drinking_pevalence_%  all_poverty_percent  \\\n",
       "Party                                                     \n",
       "D                             17.0                 10.8   \n",
       "R                             16.9                 12.7   \n",
       "% difference                  -0.9                 18.1   \n",
       "\n",
       "              children_poverty_percent  MH Rank  \n",
       "Party                                            \n",
       "D                                 13.7     22.2  \n",
       "R                                 16.4     30.2  \n",
       "% difference                      19.9     36.1  "
      ]
     },
     "execution_count": 67,
     "metadata": {},
     "output_type": "execute_result"
    }
   ],
   "source": [
    "summary2"
   ]
  },
  {
   "cell_type": "code",
   "execution_count": 68,
   "metadata": {},
   "outputs": [
    {
     "data": {
      "text/plain": [
       "Text(0.5, 1.0, 'Comparison of Democratic and Republic States')"
      ]
     },
     "execution_count": 68,
     "metadata": {},
     "output_type": "execute_result"
    },
    {
     "data": {
      "image/png": "[encoded data removed]",
      "text/plain": [
       "<Figure size 432x288 with 1 Axes>"
      ]
     },
     "metadata": {
      "needs_background": "light"
     },
     "output_type": "display_data"
    }
   ],
   "source": [
    "summary2.iloc[:2,].T.plot.bar()\n",
    "plt.title(\"Comparison of Democratic and Republic States\")"
   ]
  },
  {
   "cell_type": "markdown",
   "metadata": {},
   "source": [
    "**Observations:**\n",
    "\n",
    "There is no significant difference (~1%) in binge drinking prevalence between the democratic and republican states.  \n",
    "\n",
    "Republican states show worse poverty conditions than democratic state: 18.1% and 19.9% higher in all poverty rate and children poverty rate than democratic states, respectively.\n",
    "\n",
    "Republican states show worse mental health conditions than democratic state: 36.1% higher in mental illness ranking than democratic states.  Note: lower the MH rank is, the better mental health of the people in the state.  "
   ]
  },
  {
   "cell_type": "code",
   "execution_count": null,
   "metadata": {},
   "outputs": [],
   "source": []
  },
  {
   "cell_type": "markdown",
   "metadata": {},
   "source": [
    "End of final project"
   ]
  }
 ],
 "metadata": {
  "kernelspec": {
   "display_name": "Python 3",
   "language": "python",
   "name": "python3"
  },
  "language_info": {
   "codemirror_mode": {
    "name": "ipython",
    "version": 3
   },
   "file_extension": ".py",
   "mimetype": "text/x-python",
   "name": "python",
   "nbconvert_exporter": "python",
   "pygments_lexer": "ipython3",
   "version": "3.6.7"
  }
 },
 "nbformat": 4,
 "nbformat_minor": 4
}
