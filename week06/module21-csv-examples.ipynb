{
 "cells": [
  {
   "cell_type": "markdown",
   "metadata": {},
   "source": [
    "# Reading CSV Manually\n",
    "\n",
    "Data file from https://www2.census.gov/programs-surveys/popest/datasets/2010-2018/state/detail/"
   ]
  },
  {
   "cell_type": "code",
   "execution_count": 1,
   "metadata": {},
   "outputs": [
    {
     "name": "stdout",
     "output_type": "stream",
     "text": [
      "SUMLEV,REGION,DIVISION,STATE,NAME,POPESTIMATE2018,POPEST18PLUS2018,PCNT_POPEST18PLUS\n",
      "010,0,0,00,United States,327167434,253768092,77.6\n",
      "040,3,6,01,Alabama,4887871,3798031,77.7\n",
      "040,4,9,02,Alaska,737438,553622,75.1\n",
      "040,4,8,04,Arizona,7171646,5528989,77.1\n",
      "040,3,7,05,Arkansas,3013825,2310645,76.7\n",
      "040,4,9,06,California,39557045,30567090,77.3\n",
      "040,4,8,08,Colorado,5695564,4430329,77.8\n",
      "040,1,1,09,Connecticut,3572665,2837472,79.4\n",
      "040,3,5,10,Delaware,967171,763555,78.9\n"
     ]
    }
   ],
   "source": [
    "%%bash  # to run command line command\n",
    "head /data/est2018-pop-res.csv  # head is to show the first 10 rows of the file"
   ]
  },
  {
   "cell_type": "markdown",
   "metadata": {},
   "source": [
    "Hard way"
   ]
  },
  {
   "cell_type": "code",
   "execution_count": 2,
   "metadata": {},
   "outputs": [],
   "source": [
    "CSV_FILE=\"/data/est2018-pop-res.csv\""
   ]
  },
  {
   "cell_type": "code",
   "execution_count": 3,
   "metadata": {},
   "outputs": [
    {
     "name": "stdout",
     "output_type": "stream",
     "text": [
      "['SUMLEV', 'REGION', 'DIVISION', 'STATE', 'NAME', 'POPESTIMATE2018', 'POPEST18PLUS2018', 'PCNT_POPEST18PLUS\\n']\n"
     ]
    }
   ],
   "source": [
    "with open(CSV_FILE) as csv:\n",
    "    line = csv.readline()  # read online - string\n",
    "    values = line.split(\",\")  # split the string with \",\" and return a list\n",
    "    print(values)             # use strip() can clean up \\n"
   ]
  },
  {
   "cell_type": "code",
   "execution_count": 4,
   "metadata": {},
   "outputs": [
    {
     "name": "stdout",
     "output_type": "stream",
     "text": [
      "['SUMLEV', 'REGION', 'DIVISION', 'STATE', 'NAME', 'POPESTIMATE2018', 'POPEST18PLUS2018', 'PCNT_POPEST18PLUS']\n"
     ]
    }
   ],
   "source": [
    "with open(CSV_FILE) as csv:\n",
    "    line = csv.readline().strip()  # get rip of \\n\n",
    "    values = line.split(\",\")\n",
    "    print(values)"
   ]
  },
  {
   "cell_type": "code",
   "execution_count": 6,
   "metadata": {},
   "outputs": [
    {
     "name": "stdout",
     "output_type": "stream",
     "text": [
      "['SUMLEV', 'REGION', 'DIVISION', 'STATE', 'NAME', 'POPESTIMATE2018', 'POPEST18PLUS2018', 'PCNT_POPEST18PLUS']\n",
      "['010', '0', '0', '00', 'United States', '327167434', '253768092', '77.6']\n",
      "['040', '3', '6', '01', 'Alabama', '4887871', '3798031', '77.7']\n",
      "['040', '4', '9', '02', 'Alaska', '737438', '553622', '75.1']\n",
      "['040', '4', '8', '04', 'Arizona', '7171646', '5528989', '77.1']\n",
      "['040', '3', '7', '05', 'Arkansas', '3013825', '2310645', '76.7']\n",
      "['040', '4', '9', '06', 'California', '39557045', '30567090', '77.3']\n",
      "['040', '4', '8', '08', 'Colorado', '5695564', '4430329', '77.8']\n",
      "['040', '1', '1', '09', 'Connecticut', '3572665', '2837472', '79.4']\n",
      "['040', '3', '5', '10', 'Delaware', '967171', '763555', '78.9']\n",
      "['040', '3', '5', '11', 'District of Columbia', '702455', '574961', '81.9']\n"
     ]
    }
   ],
   "source": [
    "with open(CSV_FILE) as csv:\n",
    "    counter = 0\n",
    "    max_lines = 10\n",
    "    for line in csv:    \n",
    "        values = line.strip().split(\",\")\n",
    "        print(values)\n",
    "        counter += 1\n",
    "        if counter > max_lines:\n",
    "            break"
   ]
  },
  {
   "cell_type": "markdown",
   "metadata": {},
   "source": [
    "# Using the CSV Module"
   ]
  },
  {
   "cell_type": "code",
   "execution_count": 7,
   "metadata": {},
   "outputs": [],
   "source": [
    "import csv  # csv module is smarter than split(\",\"); it can distinguish \",\" from separating ,"
   ]
  },
  {
   "cell_type": "code",
   "execution_count": 8,
   "metadata": {},
   "outputs": [
    {
     "name": "stdout",
     "output_type": "stream",
     "text": [
      "['SUMLEV', 'REGION', 'DIVISION', 'STATE', 'NAME', 'POPESTIMATE2018', 'POPEST18PLUS2018', 'PCNT_POPEST18PLUS']\n",
      "['010', '0', '0', '00', 'United States', '327167434', '253768092', '77.6']\n",
      "['040', '3', '6', '01', 'Alabama', '4887871', '3798031', '77.7']\n",
      "['040', '4', '9', '02', 'Alaska', '737438', '553622', '75.1']\n",
      "['040', '4', '8', '04', 'Arizona', '7171646', '5528989', '77.1']\n",
      "['040', '3', '7', '05', 'Arkansas', '3013825', '2310645', '76.7']\n",
      "['040', '4', '9', '06', 'California', '39557045', '30567090', '77.3']\n",
      "['040', '4', '8', '08', 'Colorado', '5695564', '4430329', '77.8']\n",
      "['040', '1', '1', '09', 'Connecticut', '3572665', '2837472', '79.4']\n",
      "['040', '3', '5', '10', 'Delaware', '967171', '763555', '78.9']\n",
      "['040', '3', '5', '11', 'District of Columbia', '702455', '574961', '81.9']\n"
     ]
    }
   ],
   "source": [
    "with open(CSV_FILE) as f:\n",
    "    csv_reader = csv.reader(f)\n",
    "    counter = 0\n",
    "    max_lines = 10\n",
    "    for row in csv_reader:\n",
    "        print(row)\n",
    "        counter += 1\n",
    "        if counter > max_lines:\n",
    "            break        "
   ]
  },
  {
   "cell_type": "code",
   "execution_count": null,
   "metadata": {},
   "outputs": [],
   "source": [
    "help(csv.reader)"
   ]
  },
  {
   "cell_type": "code",
   "execution_count": 9,
   "metadata": {},
   "outputs": [
    {
     "name": "stdout",
     "output_type": "stream",
     "text": [
      "SUMLEV|REGION|DIVISION|STATE|NAME|POPESTIMATE2018|POPEST18PLUS2018|PCNT_POPEST18PLUS\n",
      "010|0|0|00|United States|327167434|253768092|77.6\n",
      "040|3|6|01|Alabama|4887871|3798031|77.7\n",
      "040|4|9|02|Alaska|737438|553622|75.1\n",
      "040|4|8|04|Arizona|7171646|5528989|77.1\n",
      "040|3|7|05|Arkansas|3013825|2310645|76.7\n",
      "040|4|9|06|California|39557045|30567090|77.3\n",
      "040|4|8|08|Colorado|5695564|4430329|77.8\n",
      "040|1|1|09|Connecticut|3572665|2837472|79.4\n",
      "040|3|5|10|Delaware|967171|763555|78.9\n"
     ]
    }
   ],
   "source": [
    "%%bash\n",
    "head /data/est2018-pop-res.psv  # psv for pipe separate value | (vertical line)"
   ]
  },
  {
   "cell_type": "code",
   "execution_count": 10,
   "metadata": {},
   "outputs": [],
   "source": [
    "PSV_FILE=\"/data/est2018-pop-res.psv\""
   ]
  },
  {
   "cell_type": "code",
   "execution_count": 11,
   "metadata": {},
   "outputs": [
    {
     "name": "stdout",
     "output_type": "stream",
     "text": [
      "['SUMLEV', 'REGION', 'DIVISION', 'STATE', 'NAME', 'POPESTIMATE2018', 'POPEST18PLUS2018', 'PCNT_POPEST18PLUS']\n",
      "['010', '0', '0', '00', 'United States', '327167434', '253768092', '77.6']\n",
      "['040', '3', '6', '01', 'Alabama', '4887871', '3798031', '77.7']\n",
      "['040', '4', '9', '02', 'Alaska', '737438', '553622', '75.1']\n",
      "['040', '4', '8', '04', 'Arizona', '7171646', '5528989', '77.1']\n",
      "['040', '3', '7', '05', 'Arkansas', '3013825', '2310645', '76.7']\n",
      "['040', '4', '9', '06', 'California', '39557045', '30567090', '77.3']\n",
      "['040', '4', '8', '08', 'Colorado', '5695564', '4430329', '77.8']\n",
      "['040', '1', '1', '09', 'Connecticut', '3572665', '2837472', '79.4']\n",
      "['040', '3', '5', '10', 'Delaware', '967171', '763555', '78.9']\n",
      "['040', '3', '5', '11', 'District of Columbia', '702455', '574961', '81.9']\n"
     ]
    }
   ],
   "source": [
    "import csv\n",
    "with open(PSV_FILE) as f:\n",
    "    csv_reader = csv.reader(f,delimiter='|')  # using '|' as deliminator\n",
    "    counter = 0\n",
    "    max_lines = 10\n",
    "    for row in csv_reader:\n",
    "        print(row)\n",
    "        counter += 1\n",
    "        if counter > max_lines:\n",
    "            break        "
   ]
  },
  {
   "cell_type": "markdown",
   "metadata": {},
   "source": [
    "# Using Pandas\n",
    "\n",
    "Note that we typically import pandas as pd, giving it a shorter alias name."
   ]
  },
  {
   "cell_type": "code",
   "execution_count": 12,
   "metadata": {},
   "outputs": [],
   "source": [
    "import pandas as pd"
   ]
  },
  {
   "cell_type": "code",
   "execution_count": 13,
   "metadata": {},
   "outputs": [
    {
     "data": {
      "text/html": [
       "<div>\n",
       "<style scoped>\n",
       "    .dataframe tbody tr th:only-of-type {\n",
       "        vertical-align: middle;\n",
       "    }\n",
       "\n",
       "    .dataframe tbody tr th {\n",
       "        vertical-align: top;\n",
       "    }\n",
       "\n",
       "    .dataframe thead th {\n",
       "        text-align: right;\n",
       "    }\n",
       "</style>\n",
       "<table border=\"1\" class=\"dataframe\">\n",
       "  <thead>\n",
       "    <tr style=\"text-align: right;\">\n",
       "      <th></th>\n",
       "      <th>SUMLEV</th>\n",
       "      <th>REGION</th>\n",
       "      <th>DIVISION</th>\n",
       "      <th>STATE</th>\n",
       "      <th>NAME</th>\n",
       "      <th>POPESTIMATE2018</th>\n",
       "      <th>POPEST18PLUS2018</th>\n",
       "      <th>PCNT_POPEST18PLUS</th>\n",
       "    </tr>\n",
       "  </thead>\n",
       "  <tbody>\n",
       "    <tr>\n",
       "      <th>0</th>\n",
       "      <td>10</td>\n",
       "      <td>0</td>\n",
       "      <td>0</td>\n",
       "      <td>0</td>\n",
       "      <td>United States</td>\n",
       "      <td>327167434</td>\n",
       "      <td>253768092</td>\n",
       "      <td>77.6</td>\n",
       "    </tr>\n",
       "    <tr>\n",
       "      <th>1</th>\n",
       "      <td>40</td>\n",
       "      <td>3</td>\n",
       "      <td>6</td>\n",
       "      <td>1</td>\n",
       "      <td>Alabama</td>\n",
       "      <td>4887871</td>\n",
       "      <td>3798031</td>\n",
       "      <td>77.7</td>\n",
       "    </tr>\n",
       "    <tr>\n",
       "      <th>2</th>\n",
       "      <td>40</td>\n",
       "      <td>4</td>\n",
       "      <td>9</td>\n",
       "      <td>2</td>\n",
       "      <td>Alaska</td>\n",
       "      <td>737438</td>\n",
       "      <td>553622</td>\n",
       "      <td>75.1</td>\n",
       "    </tr>\n",
       "    <tr>\n",
       "      <th>3</th>\n",
       "      <td>40</td>\n",
       "      <td>4</td>\n",
       "      <td>8</td>\n",
       "      <td>4</td>\n",
       "      <td>Arizona</td>\n",
       "      <td>7171646</td>\n",
       "      <td>5528989</td>\n",
       "      <td>77.1</td>\n",
       "    </tr>\n",
       "    <tr>\n",
       "      <th>4</th>\n",
       "      <td>40</td>\n",
       "      <td>3</td>\n",
       "      <td>7</td>\n",
       "      <td>5</td>\n",
       "      <td>Arkansas</td>\n",
       "      <td>3013825</td>\n",
       "      <td>2310645</td>\n",
       "      <td>76.7</td>\n",
       "    </tr>\n",
       "  </tbody>\n",
       "</table>\n",
       "</div>"
      ],
      "text/plain": [
       "   SUMLEV REGION DIVISION  STATE           NAME  POPESTIMATE2018  \\\n",
       "0      10      0        0      0  United States        327167434   \n",
       "1      40      3        6      1        Alabama          4887871   \n",
       "2      40      4        9      2         Alaska           737438   \n",
       "3      40      4        8      4        Arizona          7171646   \n",
       "4      40      3        7      5       Arkansas          3013825   \n",
       "\n",
       "   POPEST18PLUS2018  PCNT_POPEST18PLUS  \n",
       "0         253768092               77.6  \n",
       "1           3798031               77.7  \n",
       "2            553622               75.1  \n",
       "3           5528989               77.1  \n",
       "4           2310645               76.7  "
      ]
     },
     "execution_count": 13,
     "metadata": {},
     "output_type": "execute_result"
    }
   ],
   "source": [
    "data = pd.read_csv(CSV_FILE)  # dataframe\n",
    "data.head()  "
   ]
  },
  {
   "cell_type": "code",
   "execution_count": null,
   "metadata": {},
   "outputs": [],
   "source": []
  },
  {
   "cell_type": "markdown",
   "metadata": {},
   "source": [
    "# Something Practical:\n",
    "\n",
    "### Sum up all the state populations to see if they match the total for the US\n",
    "\n",
    "**Algorithm:**\n",
    "\n",
    "When can see that the field `SUMLEV` tells us if this row is for the total US population (`SUMLEV` = `010`) or for a single state (`SUMLEV` = `040`)\n",
    "\n",
    "We'll read the file using the CSV reader.\n",
    "\n",
    "Loop through the file.  If the row has the `SUMLEV` = `'010'` then remember that as the total population.  If the row has the `SUMLEV` = `'040'` then keep a running total of state population."
   ]
  },
  {
   "cell_type": "code",
   "execution_count": 14,
   "metadata": {},
   "outputs": [],
   "source": [
    "import csv\n",
    "CSV_FILE=\"/data/est2018-pop-res.csv\"\n"
   ]
  },
  {
   "cell_type": "code",
   "execution_count": 16,
   "metadata": {},
   "outputs": [
    {
     "name": "stdout",
     "output_type": "stream",
     "text": [
      "330362587 : 327167434\n"
     ]
    }
   ],
   "source": [
    "total = 0\n",
    "\n",
    "with open(CSV_FILE) as f:\n",
    "    census = csv.reader(f)  # census is like a list of row\n",
    "    for row in census:\n",
    "        if row[0] == 'SUMLEV':   # pass because of first line header \n",
    "            pass\n",
    "        elif row[4] != 'United States':\n",
    "            total += int(row[5])  # string to integer \n",
    "        else:\n",
    "            us_total = int(row[5])\n",
    "            \n",
    "print(f'{total} : {us_total}')"
   ]
  },
  {
   "cell_type": "code",
   "execution_count": 17,
   "metadata": {},
   "outputs": [
    {
     "data": {
      "text/plain": [
       "-0.009766109544998297"
      ]
     },
     "execution_count": 17,
     "metadata": {},
     "output_type": "execute_result"
    }
   ],
   "source": [
    "(us_total - total) / (us_total)"
   ]
  },
  {
   "cell_type": "code",
   "execution_count": null,
   "metadata": {},
   "outputs": [],
   "source": []
  },
  {
   "cell_type": "code",
   "execution_count": null,
   "metadata": {},
   "outputs": [],
   "source": [
    "import csv"
   ]
  },
  {
   "cell_type": "code",
   "execution_count": null,
   "metadata": {},
   "outputs": [],
   "source": []
  },
  {
   "cell_type": "code",
   "execution_count": null,
   "metadata": {},
   "outputs": [],
   "source": []
  }
 ],
 "metadata": {
  "kernelspec": {
   "display_name": "Python 3",
   "language": "python",
   "name": "python3"
  },
  "language_info": {
   "codemirror_mode": {
    "name": "ipython",
    "version": 3
   },
   "file_extension": ".py",
   "mimetype": "text/x-python",
   "name": "python",
   "nbconvert_exporter": "python",
   "pygments_lexer": "ipython3",
   "version": "3.6.7"
  }
 },
 "nbformat": 4,
 "nbformat_minor": 2
}
