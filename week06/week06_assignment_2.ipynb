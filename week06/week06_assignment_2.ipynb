{
 "cells": [
  {
   "cell_type": "markdown",
   "metadata": {
    "nbgrader": {
     "grade": false,
     "grade_id": "intro",
     "locked": true,
     "schema_version": 1,
     "solution": false
    }
   },
   "source": [
    "# Week 6 Exercises\n",
    "\n",
    "_McKinney 6.1_\n",
    "\n",
    "There are multiple ways to solve the problems below.  You can use any one of several approaches.  For example, you can read CSV files using Pandas or the csv module.  Your score won't depend on which modules you choose to use unless explicitly noted below, but your programming style will still matter."
   ]
  },
  {
   "cell_type": "markdown",
   "metadata": {
    "nbgrader": {
     "grade": false,
     "grade_id": "q1-description",
     "locked": true,
     "schema_version": 1,
     "solution": false
    }
   },
   "source": [
    "### 30.1 List of Allergies\n",
    "\n",
    "In the /data directory on the Jupyter server, there is a file called `allergies.json` that contains a list of patient allergies.  It is taken from sample data provided by the EHR vendor, Epic, here: https://open.epic.com/Clinical/Allergy\n",
    "\n",
    "Take some time to look at the structure of the file.  You can open it directly in Jupyter by clicking the _Home_ icon, then the _from_instructor_ folder, and then the _data_ folder.\n",
    "\n",
    "Within the file, you'll see that it is a dictionary with many items in it.  One of those items is called `entry` and that item is a list of things.  You can tell that because the item name is immediately followed by an opening square bracket, signifying the start of a list.  It's line 11 of the file: `  \"entry\": [`\n",
    "\n",
    "Write a function named `allergy_count(json_file)` that takes as one parameter the name of the JSON file and returns an integer number of entries in that file.  Your function should open the file, read the json into a Python object, and return how many items there are in the list of `entry`s."
   ]
  },
  {
   "cell_type": "code",
   "execution_count": 1,
   "metadata": {},
   "outputs": [],
   "source": [
    "import json\n",
    "from pathlib import Path\n",
    "HOME = str(Path.home())\n",
    "\n",
    "ALLERGIES_FILE=\"/data/allergies.json\""
   ]
  },
  {
   "cell_type": "code",
   "execution_count": 2,
   "metadata": {
    "nbgrader": {
     "grade": false,
     "grade_id": "q1-answer",
     "locked": false,
     "schema_version": 1,
     "solution": true
    }
   },
   "outputs": [],
   "source": [
    "### BEGIN SOLUTION\n",
    "def allergy_count(json_file):\n",
    "    \"\"\"(file name) -> integer\n",
    "    \n",
    "    Input parameter is a json file.  The function opens the file, reads the file into a dictionary, \n",
    "    and counts how many entries are under dictionry key \"entry\".\n",
    "    \n",
    "    \"\"\"\n",
    "    f=open(json_file)\n",
    "    data=json.load(f)\n",
    "    \n",
    "    return len(data['entry'])\n",
    "### END SOLUTION"
   ]
  },
  {
   "cell_type": "code",
   "execution_count": 3,
   "metadata": {},
   "outputs": [
    {
     "data": {
      "text/plain": [
       "4"
      ]
     },
     "execution_count": 3,
     "metadata": {},
     "output_type": "execute_result"
    }
   ],
   "source": [
    "allergy_count(ALLERGIES_FILE)"
   ]
  },
  {
   "cell_type": "code",
   "execution_count": 4,
   "metadata": {
    "nbgrader": {
     "grade": true,
     "grade_id": "q1-tests",
     "locked": true,
     "points": 5,
     "schema_version": 1,
     "solution": false
    }
   },
   "outputs": [],
   "source": [
    "assert type(allergy_count(ALLERGIES_FILE)) == int\n",
    "assert allergy_count(ALLERGIES_FILE) == 4"
   ]
  },
  {
   "cell_type": "markdown",
   "metadata": {},
   "source": [
    "### 30.2 Number of Patients\n",
    "\n",
    "If you dig a little bit deaper into this list of allergies, you'll see that each result has a patient associated with it.  Create a funcation called `patient_count(json_file)` that will count how many unique patients we have in this JSON structure.  "
   ]
  },
  {
   "cell_type": "code",
   "execution_count": 5,
   "metadata": {},
   "outputs": [],
   "source": [
    "### BEGIN SOLUTION\n",
    "\n",
    "def patient_count(json_file):\n",
    "    \"\"\"(file name) -> integer\n",
    "    \n",
    "    Input parameter is a json file.  The function opens the file, reads the file into a dictionary, \n",
    "    and counts how many unique patient names are under dictionry key \"entry\".\n",
    "    \n",
    "    \"\"\"\n",
    "    \n",
    "    \n",
    "    f=open(json_file)\n",
    "    data=json.load(f)\n",
    "    \n",
    "    name=set()\n",
    "    \n",
    "    for item in data['entry']:\n",
    "        name.add(item['resource']['patient']['display'])\n",
    "       \n",
    "    return len(name)  \n",
    "\n",
    "### END SOLUTION"
   ]
  },
  {
   "cell_type": "code",
   "execution_count": 6,
   "metadata": {},
   "outputs": [
    {
     "data": {
      "text/plain": [
       "2"
      ]
     },
     "execution_count": 6,
     "metadata": {},
     "output_type": "execute_result"
    }
   ],
   "source": [
    "patient_count(ALLERGIES_FILE)"
   ]
  },
  {
   "cell_type": "markdown",
   "metadata": {},
   "source": [
    "### 30.3 How Many Allergies per Patient\n",
    "\n",
    "Although each entry is a separate allergy, several of them are for the same patient.  Write a function called `allergy_per_patient(json_file)` that counts up how many allergies each patient has.\n"
   ]
  },
  {
   "cell_type": "code",
   "execution_count": 7,
   "metadata": {},
   "outputs": [],
   "source": [
    "### BEGIN SOLUTION\n",
    "\n",
    "def allergy_per_patient(json_file):\n",
    "    \"\"\"(file name)->dictionary\n",
    "    \n",
    "    Input parameter is a json file.  The function opens the file, reads the file into a dictionary, \n",
    "    and return a dictionary of which the key is patient name, and value is number of allergies the patient has.\n",
    "    \n",
    "    \n",
    "    \"\"\"\n",
    "    f=open(json_file)\n",
    "    data=json.load(f)\n",
    "    \n",
    "    allergy={}\n",
    "    \n",
    "    for item in data['entry']:\n",
    "        if item['resource']['patient']['display'] not in allergy:\n",
    "            allergy[item['resource']['patient']['display']]=1\n",
    "        else:\n",
    "            allergy[item['resource']['patient']['display']]+=1\n",
    "    \n",
    "    return allergy\n",
    "\n",
    "### END SOLUTION"
   ]
  },
  {
   "cell_type": "code",
   "execution_count": 8,
   "metadata": {},
   "outputs": [
    {
     "data": {
      "text/plain": [
       "{'Jason Argonaut': 3, 'Paul Boal': 1}"
      ]
     },
     "execution_count": 8,
     "metadata": {},
     "output_type": "execute_result"
    }
   ],
   "source": [
    "allergy_per_patient(ALLERGIES_FILE)"
   ]
  },
  {
   "cell_type": "markdown",
   "metadata": {
    "nbgrader": {
     "grade": false,
     "grade_id": "q2-question",
     "locked": true,
     "schema_version": 1,
     "solution": false
    }
   },
   "source": [
    "### 30.4 Patient Allergies and Reaction\n",
    "\n",
    "You'll see in the file that each of the items in the `entry` list have several other attributes including a patient name, substance text representation, and a reaction manifestation.  Create a function named `allergy_list(json_file)` that will create an output list that has patient name, allergy, and reaction for each `entry`.  The actual result you should get will be:\n",
    "\n",
    "```python\n",
    "[['Jason Argonaut', 'PENICILLIN G', 'Hives'],\n",
    " ['Paul Boal', 'PENICILLIN G', 'Bruising'],\n",
    " ['Jason Argonaut', 'SHELLFISH-DERIVED PRODUCTS', 'Itching'],\n",
    " ['Jason Argonaut', 'STRAWBERRY', 'Anaphylaxis']]\n",
    "```\n",
    "\n",
    "You'll notice that the reaction and the manifestation of that action are lists.  You only need to capture the first reaction and the first manifestation of the action.  That is, if there is a list of things, just output the first one."
   ]
  },
  {
   "cell_type": "code",
   "execution_count": 9,
   "metadata": {
    "nbgrader": {
     "grade": false,
     "grade_id": "q2-answer",
     "locked": false,
     "schema_version": 1,
     "solution": true
    }
   },
   "outputs": [],
   "source": [
    "import json\n",
    "\n",
    "### BEGIN SOLUTION\n",
    "\n",
    "def allergy_list(json_file):\n",
    "    \"\"\"(file name)->list\n",
    "    \n",
    "    Input parameter is a json file.  The function opens the file, reads the file into a dictionary, \n",
    "    and return a list of list.  Each list contains patient name, allergy substance and reaction.\n",
    "    \n",
    "    \n",
    "    \"\"\"\n",
    "    f=open(json_file)\n",
    "    data=json.load(f)\n",
    "    \n",
    "    allergy_list=[]\n",
    "    \n",
    "    for item in data['entry']:\n",
    "        allergy_list.append([item['resource']['patient']['display'], item['resource']['substance']['text'], \n",
    "                             item['resource']['reaction'][0][\"manifestation\"][0]['text']])\n",
    "    \n",
    "    return allergy_list\n",
    "### END SOLUTION"
   ]
  },
  {
   "cell_type": "code",
   "execution_count": 10,
   "metadata": {},
   "outputs": [
    {
     "data": {
      "text/plain": [
       "[['Jason Argonaut', 'PENICILLIN G', 'Hives'],\n",
       " ['Paul Boal', 'PENICILLIN G', 'Bruising'],\n",
       " ['Jason Argonaut', 'SHELLFISH-DERIVED PRODUCTS', 'Itching'],\n",
       " ['Jason Argonaut', 'STRAWBERRY', 'Anaphylaxis']]"
      ]
     },
     "execution_count": 10,
     "metadata": {},
     "output_type": "execute_result"
    }
   ],
   "source": [
    "allergy_list(ALLERGIES_FILE)"
   ]
  },
  {
   "cell_type": "code",
   "execution_count": 11,
   "metadata": {
    "nbgrader": {
     "grade": true,
     "grade_id": "q2-tests",
     "locked": true,
     "points": 10,
     "schema_version": 1,
     "solution": false
    }
   },
   "outputs": [],
   "source": [
    "output=[['Jason Argonaut', 'PENICILLIN G', 'Hives'],\n",
    " ['Paul Boal', 'PENICILLIN G', 'Bruising'],\n",
    " ['Jason Argonaut', 'SHELLFISH-DERIVED PRODUCTS', 'Itching'],\n",
    " ['Jason Argonaut', 'STRAWBERRY', 'Anaphylaxis']]\n",
    "\n",
    "assert allergy_list(ALLERGIES_FILE) == output\n"
   ]
  },
  {
   "cell_type": "markdown",
   "metadata": {
    "nbgrader": {
     "grade": false,
     "grade_id": "q3-question",
     "locked": true,
     "schema_version": 1,
     "solution": false
    }
   },
   "source": [
    "### 30.5 Allergy Reaction\n",
    "\n",
    "Write a function called `allergy_reaction(json_file,patient,substance)` that takes three parameter and returns the reaction that will happen if the patient takes the specified substance.  Solve this, in part, by calling your `allergy_list` function inside your new `allergy_reaction` function.\n",
    "\n",
    "If the substance is not found in the allergy list, the function should return None."
   ]
  },
  {
   "cell_type": "code",
   "execution_count": 12,
   "metadata": {
    "nbgrader": {
     "grade": false,
     "grade_id": "q3-answer",
     "locked": false,
     "schema_version": 1,
     "solution": true
    }
   },
   "outputs": [],
   "source": [
    "import json\n",
    "\n",
    "### BEGIN SOLUTION\n",
    "\n",
    "def allergy_reaction(json_file,patient,substance):\n",
    "    \"\"\"(file name, str, str)-> str\n",
    "    \n",
    "    Input parameters are a json file, patient name and allergy substance, and return a str \n",
    "    that indicates the allergy reaction the patient has or None if substance is not found in the file. The function \n",
    "    calls another function allergy_list(json_file) to generate an allergy list containing patient name, allergy \n",
    "    substance and reacction.  If the patient parameter matches the patient name in the allergy list and substance \n",
    "    matches the substance in the allergy list, the function will return the allery reaction the patient has, otherwise,\n",
    "    return None.\n",
    "    \n",
    "    \n",
    "    \"\"\"\n",
    "    reaction_list=allergy_list(json_file)\n",
    "    \n",
    "    for reaction in reaction_list:\n",
    "        if (reaction[0]==patient) and (reaction[1]==substance):\n",
    "            return reaction[2]\n",
    "\n",
    "    return None \n",
    "    \n",
    "### END SOLUTION"
   ]
  },
  {
   "cell_type": "code",
   "execution_count": 13,
   "metadata": {},
   "outputs": [
    {
     "data": {
      "text/plain": [
       "'Hives'"
      ]
     },
     "execution_count": 13,
     "metadata": {},
     "output_type": "execute_result"
    }
   ],
   "source": [
    "allergy_reaction(ALLERGIES_FILE, 'Jason Argonaut', 'PENICILLIN G')"
   ]
  },
  {
   "cell_type": "code",
   "execution_count": 14,
   "metadata": {
    "nbgrader": {
     "grade": true,
     "grade_id": "q3-tests",
     "locked": true,
     "points": 5,
     "schema_version": 1,
     "solution": false
    }
   },
   "outputs": [],
   "source": [
    "assert allergy_reaction(ALLERGIES_FILE, 'Jason Argonaut', 'PENICILLIN G') == 'Hives'\n",
    "assert allergy_reaction(ALLERGIES_FILE, 'Jason Argonaut', 'SHELLFISH-DERIVED PRODUCTS') == 'Itching'\n",
    "assert allergy_reaction(ALLERGIES_FILE, 'Jason Argonaut', 'STRAWBERRY') == 'Anaphylaxis'\n",
    "assert allergy_reaction(ALLERGIES_FILE, 'Jason Argonaut', 'PENICILLIN') == None\n",
    "assert allergy_reaction(ALLERGIES_FILE, 'Paul Boal', 'PENICILLIN G') == 'Bruising'"
   ]
  },
  {
   "cell_type": "markdown",
   "metadata": {},
   "source": [
    "---\n",
    "---\n",
    "\n",
    "# Stretch (Extra) Problem\n",
    "\n",
    "Work on either of the stretch problems below can earn you up to 25 free points toward the midterm assignment.  That is, if you complete one of these extra problems successfully, you can skip 1 of the problems that will appear on the midterm exam coming up next week.\n",
    "\n",
    "The midterm will be distributed 10/14 and due 10/24.\n",
    "\n"
   ]
  },
  {
   "cell_type": "markdown",
   "metadata": {},
   "source": [
    "---\n",
    "---\n",
    "\n",
    "### STRETCH for October 2022 - For those looking for an additional challenge\n",
    "\n",
    "As I've mentioned in class, CMS is now enforcing a rule around price transparency.  Every facility that take Medicare payments is required to publish a \"machine readable\" file with it's pricing infomration for a number of common procedures across all of the payers they work with.  There are two examples of such files in the `/data/` directory: `whiteriver.json` and `saline.xml`.\n",
    "\n",
    "If you want to compare contracted prices across these two hospitals, you'll need to read in the information from both of those files into some kind of data structure, then merge the data together from those two files.  See what you can do.\n",
    "\n",
    "See if you can create an output file that has the following fields:\n",
    "* HOSPITAL\n",
    "* PROCEDURE_CODE\n",
    "* PAYER\n",
    "* AMOUNT\n",
    "\n",
    "If you choose to work on this, you may get stuck at some point and you won't know if you're _doing it right_. Make some assumptions. Document your questions in this notebook.\n",
    "\n"
   ]
  },
  {
   "cell_type": "markdown",
   "metadata": {},
   "source": [
    "```\n",
    "Procedure Code |  Description  |  Gross Charges  |  Aetna  |  QualChoice\n",
    "```"
   ]
  },
  {
   "cell_type": "code",
   "execution_count": 15,
   "metadata": {},
   "outputs": [],
   "source": [
    "def json_dict(file_name):\n",
    "    \"\"\"(file_name) -> dictionary\n",
    "    The input is a json file name.  The function returns a nested dictionary \n",
    "    including procedue code, description, grosscharge (i.e. outpatientGrossCharge), \n",
    "    the amount that Aeta gets charged, and the amount that QualChoice gets charged.\n",
    "    \n",
    "    for example, this dictionary will look like:\n",
    "    {'11400':{'descripton': EXC TR-EXT B9+MARG 0.5 CM<', 'grosscharge': '1106.00',\n",
    "    'Aetna': '973.2800', 'QualChoice': '619.3600'} ,...}    \n",
    "    \n",
    "    \"\"\" \n",
    "    import json\n",
    "    f=open(file_name)   # \"/data/whiteriver.json\"\n",
    "    data=json.load(f)\n",
    "\n",
    "    whiteriver_dic={}\n",
    "\n",
    "    for each in data[\"root\"][\"StandardCharges\"]:\n",
    "    \n",
    "        whiteriver_dic[each[\"ProcedureCode\"]]={}\n",
    "        whiteriver_dic[each[\"ProcedureCode\"]][\"description\"]=each[\"Description\"]\n",
    "    \n",
    "        whiteriver_dic[each[\"ProcedureCode\"]][\"grosscharge\"]=each[\"OutpatientGrossCharge\"]\n",
    "        whiteriver_dic[each[\"ProcedureCode\"]][\"Aetna\"]=each[\"AETNA_Outpatient\"]\n",
    "        whiteriver_dic[each[\"ProcedureCode\"]][\"QualChoice\"]=each[\"QUALCHOICE_Outpatient\"]\n",
    "    \n",
    "    return whiteriver_dic"
   ]
  },
  {
   "cell_type": "code",
   "execution_count": 16,
   "metadata": {},
   "outputs": [
    {
     "data": {
      "text/plain": [
       "100"
      ]
     },
     "execution_count": 16,
     "metadata": {},
     "output_type": "execute_result"
    }
   ],
   "source": [
    "whiteriver_dict=json_dict(\"/data/whiteriver.json\")  \n",
    "len(whiteriver_dict)"
   ]
  },
  {
   "cell_type": "code",
   "execution_count": 17,
   "metadata": {},
   "outputs": [],
   "source": [
    "def xml_dict(file_name):\n",
    "    \"\"\"(file_name) -> dictionary\n",
    "        The input is a XML file name, and the function return a nested dictionary containing\n",
    "        procedure code, grosscharge, description, the amount that Aeta gets charged (if data is\n",
    "        provided, otherwise input None), and the amount that QualChoice gets charged \n",
    "        (if the data is provided, otherwise input None).\n",
    "        \n",
    "        for example, the dictionary could look like {'11400': {'grosscharge': '4354.395833',\n",
    "       'description': 'EXC TR-EXT B9+MARG 0.5 CM<', 'Aetna': '461.083333', \n",
    "       'QualChoice'=None},...}\n",
    "    \n",
    "    \"\"\"\n",
    "    import xml.etree.ElementTree as ET\n",
    "    mytree=ET.parse(file_name)  # '/data/saline.xml'\n",
    "    myroot=mytree.getroot()\n",
    "\n",
    "#print(myroot.tag, myroot[0].tag, myroot[0].attrib)\n",
    "\n",
    "# myroot.tag -> standhard charge\n",
    "# myroot[0].tag -> facility\n",
    "# myroot[0].attrib -> {'Name': 'SALINE MEMORIAL HOSPITAL'}\n",
    "\n",
    "#dictionary={procedureCode: {grossCharge:$$$, Aetna:$$$, Qualchoice:$$$}}\n",
    "\n",
    "    saline_dic={}\n",
    "\n",
    "    for x in myroot[0]:\n",
    "# x.tag is createddate, patient, patient, patient\n",
    "# x.attrib is {type:inpatient}, {etc.}\n",
    "    \n",
    "        for child in x.getchildren(): \n",
    "        # print(child.tag + \" : \" + str(child.attrib))   \n",
    "        # Charge : {'Type': 'DRG'}, Charge : {'Type': 'HCPCS'}, Charge : {'Type': 'HCPCS'}\n",
    "        #if child.attrib.get('Type')==\"HCPCS\" # not necessary\n",
    "        \n",
    "            for grandchild in child.getchildren():  \n",
    "            #print(grandchild.attrib.get('Code'))  # code\n",
    "                saline_dic[grandchild.attrib.get('Code')]={}\n",
    "            \n",
    "            #print(grandchild.find(\"GrossCharge\").text) # grosscharge cost\n",
    "                saline_dic[grandchild.attrib.get('Code')][\"grosscharge\"]=grandchild.find(\"GrossCharge\").text\n",
    "                saline_dic[grandchild.attrib.get('Code')][\"description\"]=grandchild.find(\"Description\").text\n",
    "                \n",
    "                for payer in grandchild.findall(\"Contracts\"): # contracts\n",
    "                    names=payer.findall(\"Contract\")           # contract\n",
    "                    for name in names:                       \n",
    "                    #print(name.attrib.get(\"Payer\"))       # payer & charge \n",
    "                    #print(name.attrib.get(\"Charge\"))\n",
    "                        if \"AETNA\" in name.attrib.get(\"Payer\"):\n",
    "                            saline_dic[grandchild.attrib.get('Code')][\"Aetna\"]=name.attrib.get(\"Charge\")\n",
    "                        else:\n",
    "                            saline_dic[grandchild.attrib.get('Code')][\"Aetna\"]=None\n",
    "\n",
    "                        if \"QUALCHOICE\" in name.attrib.get(\"Payer\"):\n",
    "                            saline_dic[grandchild.attrib.get('Code')][\"QualChoice\"]=name.attrib.get(\"Charge\")\n",
    "                        else:\n",
    "                            saline_dic[grandchild.attrib.get('Code')][\"QualChoice\"]=None\n",
    "    return saline_dic\n"
   ]
  },
  {
   "cell_type": "code",
   "execution_count": 18,
   "metadata": {},
   "outputs": [
    {
     "data": {
      "text/plain": [
       "1507"
      ]
     },
     "execution_count": 18,
     "metadata": {},
     "output_type": "execute_result"
    }
   ],
   "source": [
    "saline_dict=xml_dict('/data/saline.xml')\n",
    "len(saline_dict)"
   ]
  },
  {
   "cell_type": "code",
   "execution_count": 19,
   "metadata": {},
   "outputs": [],
   "source": [
    "# We want to find procedure codes that exit in both whiteriver_dict and saline_dict and\n",
    "# return a final_file (a nested dictionary) that contains only the matched procedure codes \n",
    "# and rest of the costs information associated with these codes from the two dictionaries.  \n",
    "\n",
    "# for example, the final_file will look like:\n",
    "# {'Whiteriver': {'11400': {'description': 'EXC TR-EXT B9+MARG 0.5 CM<',\n",
    "#    'grosscharge': '1106.00',\n",
    "#    'Aetna': '973.2800',\n",
    "#    'QualChoice': '619.3600'},... 'Saline': {'11400': {'grosscharge': '4354.395833',\n",
    "#    'description': 'EXC TR-EXT B9+MARG 0.5 CM<', 'Aetna': None, 'QualChoice': None},...}\n",
    "\n",
    "matched_code=[]  # contain all matched procedure codes\n",
    "whiteriver_dictmatch={} # extract info of those matched procedure codes from whiteriver_dict\n",
    "saline_dictmatch={} # extract info of those matched procedure codes from saline_dict\n",
    "final_file={} # create a final_file (nested dictioary) from the above two dictionaries\n",
    "\n",
    "for name in set(whiteriver_dict).intersection(set(saline_dict)):\n",
    "    matched_code.append(name)\n",
    "    \n",
    "    saline_dictmatch[name]=saline_dict[name]\n",
    "    whiteriver_dictmatch[name]=whiteriver_dict[name]\n",
    "    \n",
    "        \n",
    "final_file[\"Whiteriver\"]=whiteriver_dictmatch\n",
    "final_file[\"Saline\"]=saline_dictmatch   "
   ]
  },
  {
   "cell_type": "code",
   "execution_count": 20,
   "metadata": {},
   "outputs": [
    {
     "data": {
      "text/plain": [
       "(40, 40, 40)"
      ]
     },
     "execution_count": 20,
     "metadata": {},
     "output_type": "execute_result"
    }
   ],
   "source": [
    "len(matched_code), len(whiteriver_dictmatch), len(saline_dictmatch)"
   ]
  },
  {
   "cell_type": "code",
   "execution_count": 21,
   "metadata": {},
   "outputs": [
    {
     "data": {
      "text/plain": [
       "{'Whiteriver': {'12001': {'description': 'RPR S/N/AX/GEN/TRNK 2.5CM/<',\n",
       "   'grosscharge': '428.00',\n",
       "   'Aetna': '376.6400',\n",
       "   'QualChoice': '239.6800'},\n",
       "  '11403': {'description': 'EXC TR-EXT B9+MARG 2.1-3CM',\n",
       "   'grosscharge': '15553.61',\n",
       "   'Aetna': '13687.1768',\n",
       "   'QualChoice': '8710.0216'},\n",
       "  '11623': {'description': 'EXC S/N/H/F/G MAL+MRG 2.1-3',\n",
       "   'grosscharge': '3091.55',\n",
       "   'Aetna': '2720.5640',\n",
       "   'QualChoice': '1731.2680'},\n",
       "  '11406': {'description': 'EXC TR-EXT B9+MARG >4.0 CM',\n",
       "   'grosscharge': '7326.42',\n",
       "   'Aetna': '6447.2496',\n",
       "   'QualChoice': '4102.7952'},\n",
       "  '12032': {'description': 'INTMD RPR S/A/T/EXT 2.6-7.5',\n",
       "   'grosscharge': '12062.49',\n",
       "   'Aetna': '10614.9912',\n",
       "   'QualChoice': '6754.9944'},\n",
       "  '10060': {'description': 'DRAINAGE OF SKIN ABSCESS',\n",
       "   'grosscharge': '11506.95',\n",
       "   'Aetna': '10126.1160',\n",
       "   'QualChoice': '6443.8920'},\n",
       "  '12034': {'description': 'INTMD RPR S/TR/EXT 7.6-12.5',\n",
       "   'grosscharge': '10235.79',\n",
       "   'Aetna': '9007.4952',\n",
       "   'QualChoice': '5732.0424'},\n",
       "  '11420': {'description': 'EXC H-F-NK-SP B9+MARG 0.5/<',\n",
       "   'grosscharge': '3092.00',\n",
       "   'Aetna': '2720.9600',\n",
       "   'QualChoice': '1731.5200'},\n",
       "  '12002': {'description': 'RPR S/N/AX/GEN/TRNK2.6-7.5C',\n",
       "   'grosscharge': '428.00',\n",
       "   'Aetna': '376.6400',\n",
       "   'QualChoice': '239.6800'},\n",
       "  '10160': {'description': 'PUNCTURE DRAINAGE OF LESION',\n",
       "   'grosscharge': '1826.00',\n",
       "   'Aetna': '1606.8800',\n",
       "   'QualChoice': '1022.5600'},\n",
       "  '12031': {'description': 'INTMD RPR S/A/T/EXT 2.5 CM/',\n",
       "   'grosscharge': '6988.55',\n",
       "   'Aetna': '6149.9240',\n",
       "   'QualChoice': '3913.5880'},\n",
       "  '11401': {'description': 'EXC TR-EXT B9+MARG 0.6-1 CM',\n",
       "   'grosscharge': '601.00',\n",
       "   'Aetna': '528.8800',\n",
       "   'QualChoice': '336.5600'},\n",
       "  '11422': {'description': 'EXC H-F-NK-SP B9+MARG 1.1-2',\n",
       "   'grosscharge': '7291.86',\n",
       "   'Aetna': '6416.8368',\n",
       "   'QualChoice': '4083.4416'},\n",
       "  '15002': {'description': 'WOUND PREP TRK/ARM/LEG',\n",
       "   'grosscharge': '12599.08',\n",
       "   'Aetna': '11087.1904',\n",
       "   'QualChoice': '7055.4848'},\n",
       "  '11760': {'description': 'REPAIR OF NAIL BED',\n",
       "   'grosscharge': '7498.80',\n",
       "   'Aetna': '6598.9440',\n",
       "   'QualChoice': '4199.3280'},\n",
       "  '11056': {'description': 'TRIM SKIN LESIONS 2 TO 4',\n",
       "   'grosscharge': '428.00',\n",
       "   'Aetna': '376.6400',\n",
       "   'QualChoice': '239.6800'},\n",
       "  '10140': {'description': 'DRAINAGE OF HEMATOMA/FLUID',\n",
       "   'grosscharge': '8004.01',\n",
       "   'Aetna': '7043.5288',\n",
       "   'QualChoice': '4482.2456'},\n",
       "  '11750': {'description': 'REMOVAL OF NAIL BED',\n",
       "   'grosscharge': '3809.30',\n",
       "   'Aetna': '3352.1840',\n",
       "   'QualChoice': '2133.2080'},\n",
       "  '12011': {'description': 'RPR F/E/E/N/L/M 2.5 CM/<',\n",
       "   'grosscharge': '428.00',\n",
       "   'Aetna': '376.6400',\n",
       "   'QualChoice': '239.6800'},\n",
       "  '11044': {'description': 'DEB BONE 20 SQ CM/<',\n",
       "   'grosscharge': '7210.93',\n",
       "   'Aetna': '6345.6184',\n",
       "   'QualChoice': '4038.1208'},\n",
       "  '11400': {'description': 'EXC TR-EXT B9+MARG 0.5 CM<',\n",
       "   'grosscharge': '1106.00',\n",
       "   'Aetna': '973.2800',\n",
       "   'QualChoice': '619.3600'},\n",
       "  '15275': {'description': 'SKIN SUB GRAFT FACE/NK/HF/G',\n",
       "   'grosscharge': '3656.00',\n",
       "   'Aetna': '3217.2800',\n",
       "   'QualChoice': '2047.3600'},\n",
       "  '11421': {'description': 'EXC H-F-NK-SP B9+MARG 0.6-1',\n",
       "   'grosscharge': '7638.11',\n",
       "   'Aetna': '6721.5368',\n",
       "   'QualChoice': '4277.3416'},\n",
       "  '16020': {'description': 'DRESS/DEBRID P-THICK BURN S',\n",
       "   'grosscharge': '428.00',\n",
       "   'Aetna': '376.6400',\n",
       "   'QualChoice': '239.6800'},\n",
       "  '12052': {'description': 'INTMD RPR FACE/MM 2.6-5.0 C',\n",
       "   'grosscharge': '513.00',\n",
       "   'Aetna': '451.4400',\n",
       "   'QualChoice': '287.2800'},\n",
       "  '11402': {'description': 'EXC TR-EXT B9+MARG 1.1-2 CM',\n",
       "   'grosscharge': '1405.00',\n",
       "   'Aetna': '1236.4000',\n",
       "   'QualChoice': '786.8000'},\n",
       "  '11602': {'description': 'EXC TR-EXT MAL+MARG 1.1-2 C',\n",
       "   'grosscharge': '6988.55',\n",
       "   'Aetna': '6149.9240',\n",
       "   'QualChoice': '3913.5880'},\n",
       "  '10061': {'description': 'DRAINAGE OF SKIN ABSCESS',\n",
       "   'grosscharge': '472.00',\n",
       "   'Aetna': '415.3600',\n",
       "   'QualChoice': '264.3200'},\n",
       "  '17250': {'description': 'CHEM CAUT OF GRANLTJ TISSUE',\n",
       "   'grosscharge': '441.00',\n",
       "   'Aetna': '388.0800',\n",
       "   'QualChoice': '246.9600'},\n",
       "  '17110': {'description': 'DESTRUCT B9 LESION 1-14',\n",
       "   'grosscharge': '315.00',\n",
       "   'Aetna': '277.2000',\n",
       "   'QualChoice': '176.4000'},\n",
       "  '11043': {'description': 'DEB MUSC/FASCIA 20 SQ CM/<',\n",
       "   'grosscharge': '15584.61',\n",
       "   'Aetna': '13714.4568',\n",
       "   'QualChoice': '8727.3816'},\n",
       "  '11010': {'description': 'DEBRIDE SKIN AT FX SITE',\n",
       "   'grosscharge': '34515.83',\n",
       "   'Aetna': '30373.9304',\n",
       "   'QualChoice': '19328.8648'},\n",
       "  '11404': {'description': 'EXC TR-EXT B9+MARG 3.1-4 CM',\n",
       "   'grosscharge': '5513.75',\n",
       "   'Aetna': '4852.1000',\n",
       "   'QualChoice': '3087.7000'},\n",
       "  '11011': {'description': 'DEBRIDE SKIN MUSC AT FX SIT',\n",
       "   'grosscharge': '1405.00',\n",
       "   'Aetna': '1236.4000',\n",
       "   'QualChoice': '786.8000'},\n",
       "  '19000': {'description': 'DRAINAGE OF BREAST LESION',\n",
       "   'grosscharge': '4583.00',\n",
       "   'Aetna': '4033.0400',\n",
       "   'QualChoice': '2566.4800'},\n",
       "  '15271': {'description': 'SKIN SUB GRAFT TRNK/ARM/LEG',\n",
       "   'grosscharge': '12599.08',\n",
       "   'Aetna': '11087.1904',\n",
       "   'QualChoice': '7055.4848'},\n",
       "  '11055': {'description': 'TRIM SKIN LESION',\n",
       "   'grosscharge': '428.00',\n",
       "   'Aetna': '376.6400',\n",
       "   'QualChoice': '239.6800'},\n",
       "  '13160': {'description': 'LATE CLOSURE OF WOUND',\n",
       "   'grosscharge': '14713.57',\n",
       "   'Aetna': '12947.9416',\n",
       "   'QualChoice': '8239.5992'},\n",
       "  '11042': {'description': 'DEB SUBQ TISSUE 20 SQ CM/<',\n",
       "   'grosscharge': '8412.01',\n",
       "   'Aetna': '7402.5688',\n",
       "   'QualChoice': '4710.7256'},\n",
       "  '10120': {'description': 'REMOVE FOREIGN BODY',\n",
       "   'grosscharge': '732.00',\n",
       "   'Aetna': '644.1600',\n",
       "   'QualChoice': '409.9200'}},\n",
       " 'Saline': {'12001': {'grosscharge': '1181.965932',\n",
       "   'description': 'RPR S/N/AX/GEN/TRNK 2.5CM/<',\n",
       "   'Aetna': None,\n",
       "   'QualChoice': None},\n",
       "  '11403': {'grosscharge': '3971.928888',\n",
       "   'description': 'EXC TR-EXT B9+MARG 2.1-3CM',\n",
       "   'Aetna': None,\n",
       "   'QualChoice': None},\n",
       "  '11623': {'grosscharge': '6213.000000',\n",
       "   'description': 'EXC S/N/H/F/G MAL+MRG 2.1-3',\n",
       "   'Aetna': None,\n",
       "   'QualChoice': None},\n",
       "  '11406': {'grosscharge': '5415.720000',\n",
       "   'description': 'EXC TR-EXT B9+MARG >4.0 CM',\n",
       "   'Aetna': None,\n",
       "   'QualChoice': None},\n",
       "  '12032': {'grosscharge': '2228.742500',\n",
       "   'description': 'INTMD RPR S/A/T/EXT 2.6-7.5',\n",
       "   'Aetna': None,\n",
       "   'QualChoice': None},\n",
       "  '10060': {'grosscharge': '3406.789600',\n",
       "   'description': 'DRAINAGE OF SKIN ABSCESS',\n",
       "   'Aetna': None,\n",
       "   'QualChoice': None},\n",
       "  '12034': {'grosscharge': '5014.750000',\n",
       "   'description': 'INTMD RPR S/TR/EXT 7.6-12.5',\n",
       "   'Aetna': None,\n",
       "   'QualChoice': None},\n",
       "  '11420': {'grosscharge': '3111.800000',\n",
       "   'description': 'EXC H-F-NK-SP B9+MARG 0.5/<',\n",
       "   'Aetna': None,\n",
       "   'QualChoice': None},\n",
       "  '12002': {'grosscharge': '1145.854848',\n",
       "   'description': 'RPR S/N/AX/GEN/TRNK2.6-7.5CM',\n",
       "   'Aetna': None,\n",
       "   'QualChoice': None},\n",
       "  '10160': {'grosscharge': '878.000000',\n",
       "   'description': 'PUNCTURE DRAINAGE OF LESION',\n",
       "   'Aetna': None,\n",
       "   'QualChoice': None},\n",
       "  '12031': {'grosscharge': '3360.000000',\n",
       "   'description': 'INTMD RPR S/A/T/EXT 2.5 CM/<',\n",
       "   'Aetna': None,\n",
       "   'QualChoice': None},\n",
       "  '11401': {'grosscharge': '4382.793333',\n",
       "   'description': 'EXC TR-EXT B9+MARG 0.6-1 CM',\n",
       "   'Aetna': None,\n",
       "   'QualChoice': None},\n",
       "  '11422': {'grosscharge': '3569.366000',\n",
       "   'description': 'EXC H-F-NK-SP B9+MARG 1.1-2',\n",
       "   'Aetna': None,\n",
       "   'QualChoice': None},\n",
       "  '15002': {'grosscharge': '13195.120000',\n",
       "   'description': 'WOUND PREP TRK/ARM/LEG',\n",
       "   'Aetna': None,\n",
       "   'QualChoice': None},\n",
       "  '11760': {'grosscharge': '3725.750000',\n",
       "   'description': 'REPAIR OF NAIL BED',\n",
       "   'Aetna': None,\n",
       "   'QualChoice': None},\n",
       "  '11056': {'grosscharge': '493.000000',\n",
       "   'description': 'TRIM SKIN LESIONS 2 TO 4',\n",
       "   'Aetna': None,\n",
       "   'QualChoice': None},\n",
       "  '10140': {'grosscharge': '4236.700000',\n",
       "   'description': 'DRAINAGE OF HEMATOMA/FLUID',\n",
       "   'Aetna': None,\n",
       "   'QualChoice': None},\n",
       "  '11750': {'grosscharge': '1302.550000',\n",
       "   'description': 'REMOVAL OF NAIL BED',\n",
       "   'Aetna': None,\n",
       "   'QualChoice': None},\n",
       "  '12011': {'grosscharge': '1763.839268',\n",
       "   'description': 'RPR F/E/E/N/L/M 2.5 CM/<',\n",
       "   'Aetna': None,\n",
       "   'QualChoice': None},\n",
       "  '11044': {'grosscharge': '6192.240000',\n",
       "   'description': 'DEB BONE 20 SQ CM/<',\n",
       "   'Aetna': None,\n",
       "   'QualChoice': None},\n",
       "  '11400': {'grosscharge': '4354.395833',\n",
       "   'description': 'EXC TR-EXT B9+MARG 0.5 CM<',\n",
       "   'Aetna': None,\n",
       "   'QualChoice': None},\n",
       "  '15275': {'grosscharge': '4327.000000',\n",
       "   'description': 'SKIN SUB GRAFT FACE/NK/HF/G',\n",
       "   'Aetna': None,\n",
       "   'QualChoice': None},\n",
       "  '11421': {'grosscharge': '2139.330000',\n",
       "   'description': 'EXC H-F-NK-SP B9+MARG 0.6-1',\n",
       "   'Aetna': None,\n",
       "   'QualChoice': None},\n",
       "  '16020': {'grosscharge': '1154.250000',\n",
       "   'description': 'DRESS/DEBRID P-THICK BURN S',\n",
       "   'Aetna': None,\n",
       "   'QualChoice': None},\n",
       "  '12052': {'grosscharge': '2684.420000',\n",
       "   'description': 'INTMD RPR FACE/MM 2.6-5.0 CM',\n",
       "   'Aetna': None,\n",
       "   'QualChoice': None},\n",
       "  '11402': {'grosscharge': '3713.400909',\n",
       "   'description': 'EXC TR-EXT B9+MARG 1.1-2 CM',\n",
       "   'Aetna': None,\n",
       "   'QualChoice': None},\n",
       "  '11602': {'grosscharge': '3757.750000',\n",
       "   'description': 'EXC TR-EXT MAL+MARG 1.1-2 CM',\n",
       "   'Aetna': None,\n",
       "   'QualChoice': None},\n",
       "  '10061': {'grosscharge': '3057.258571',\n",
       "   'description': 'DRAINAGE OF SKIN ABSCESS',\n",
       "   'Aetna': None,\n",
       "   'QualChoice': None},\n",
       "  '17250': {'grosscharge': '492.000000',\n",
       "   'description': 'CHEM CAUT OF GRANLTJ TISSUE',\n",
       "   'Aetna': None,\n",
       "   'QualChoice': None},\n",
       "  '17110': {'grosscharge': '492.000000',\n",
       "   'description': 'DESTRUCT B9 LESION 1-14',\n",
       "   'Aetna': None,\n",
       "   'QualChoice': None},\n",
       "  '11043': {'grosscharge': '2087.509375',\n",
       "   'description': 'DEB MUSC/FASCIA 20 SQ CM/<',\n",
       "   'Aetna': None,\n",
       "   'QualChoice': None},\n",
       "  '11010': {'grosscharge': '5871.153333',\n",
       "   'description': 'DEBRIDE SKIN AT FX SITE',\n",
       "   'Aetna': None,\n",
       "   'QualChoice': None},\n",
       "  '11404': {'grosscharge': '3293.790000',\n",
       "   'description': 'EXC TR-EXT B9+MARG 3.1-4 CM',\n",
       "   'Aetna': None,\n",
       "   'QualChoice': None},\n",
       "  '11011': {'grosscharge': '3615.500000',\n",
       "   'description': 'DEBRIDE SKIN MUSC AT FX SITE',\n",
       "   'Aetna': None,\n",
       "   'QualChoice': None},\n",
       "  '19000': {'grosscharge': '1618.000000',\n",
       "   'description': 'DRAINAGE OF BREAST LESION',\n",
       "   'Aetna': None,\n",
       "   'QualChoice': None},\n",
       "  '15271': {'grosscharge': '16478.710000',\n",
       "   'description': 'SKIN SUB GRAFT TRNK/ARM/LEG',\n",
       "   'Aetna': None,\n",
       "   'QualChoice': None},\n",
       "  '11055': {'grosscharge': '493.000000',\n",
       "   'description': 'TRIM SKIN LESION',\n",
       "   'Aetna': None,\n",
       "   'QualChoice': None},\n",
       "  '13160': {'grosscharge': '7003.135000',\n",
       "   'description': 'LATE CLOSURE OF WOUND',\n",
       "   'Aetna': None,\n",
       "   'QualChoice': None},\n",
       "  '11042': {'grosscharge': '878.000000',\n",
       "   'description': 'DEB SUBQ TISSUE 20 SQ CM/<',\n",
       "   'Aetna': None,\n",
       "   'QualChoice': None},\n",
       "  '10120': {'grosscharge': '5229.000000',\n",
       "   'description': 'REMOVE FOREIGN BODY',\n",
       "   'Aetna': None,\n",
       "   'QualChoice': None}}}"
      ]
     },
     "execution_count": 21,
     "metadata": {},
     "output_type": "execute_result"
    }
   ],
   "source": [
    "final_file"
   ]
  },
  {
   "cell_type": "code",
   "execution_count": null,
   "metadata": {},
   "outputs": [],
   "source": []
  },
  {
   "cell_type": "code",
   "execution_count": null,
   "metadata": {},
   "outputs": [],
   "source": []
  },
  {
   "cell_type": "markdown",
   "metadata": {},
   "source": [
    "---\n",
    "\n",
    "## Check your work above\n",
    "\n",
    "If you didn't get them all correct, take a few minutes to think through those that aren't correct.\n",
    "\n",
    "\n",
    "## Submitting Your Work\n",
    "\n",
    "In order to submit your work, you'll need to use the `git` command line program to **add** your homework file (this file) to your local repository, **commit** your changes to your local repository, and then **push** those changes up to github.com.  From there, I'll be able to **pull** the changes down and do my grading.  I'll provide some feedback, **commit** and **push** my comments back to you.  Next week, I'll show you how to **pull** down my comments.\n",
    "\n",
    "First run through everything one last time and submit your work:\n",
    "1. Use the `Kernel` -> `Restart Kernel and Run All Cells` menu option to run everything from top to bottom and stop here.\n",
    "2. Then open a new command line by clicking the `+` icon above the file list and chosing `Terminal`\n",
    "3. At the command line in the new Terminal, follow these steps:\n",
    "  1. Change directories to your project folder and the week03 subfolder (`cd <folder name>`)\n",
    "  2. Make sure your project folders are up to date with github.com (`git pull`)\n",
    "  3. Add the homework files for this week (`git add <file name>`)\n",
    "  4. Commit your changes (`git commit -a -m \"message\"`)\n",
    "  5. Push your changes (`git push`)\n",
    "  \n",
    "If anything fails along the way with this submission part of the process, let me know.  I'll help you troubleshoort."
   ]
  },
  {
   "cell_type": "code",
   "execution_count": null,
   "metadata": {},
   "outputs": [],
   "source": []
  }
 ],
 "metadata": {
  "celltoolbar": "Create Assignment",
  "kernelspec": {
   "display_name": "Python 3",
   "language": "python",
   "name": "python3"
  },
  "language_info": {
   "codemirror_mode": {
    "name": "ipython",
    "version": 3
   },
   "file_extension": ".py",
   "mimetype": "text/x-python",
   "name": "python",
   "nbconvert_exporter": "python",
   "pygments_lexer": "ipython3",
   "version": "3.6.7"
  }
 },
 "nbformat": 4,
 "nbformat_minor": 2
}
