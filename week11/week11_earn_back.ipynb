{
 "cells": [
  {
   "cell_type": "markdown",
   "metadata": {},
   "source": [
    "# Week 11 - Earn-Back Points Assignment #1\n",
    "\n",
    "These exercises are entirely optional, but they provide good practice. And you can use them to earn extra points toward your semester grade.  Each problem in this notebook can you earn you back up to 2 points.  There are key requirements, though. If your code does not following these rules, you will earn no points for your work.\n",
    "* You MUST include docstrings that explain the purpose of your code.\n",
    "* You MUST include at least 2 example tests in your docstrings for each function you write.\n",
    "* You MUST run your docstrings within the notebook to show me your code and docstrings work correctly.\n",
    "* You MUST submit your own individual work.  You may not collaborate with other students on these assignments.\n",
    "\n",
    "There will be 4 assignments like this between now and the end of the semester, each with 4 problems, each worth 2 points, for a total of 32 points.\n",
    "\n",
    "**If anything about the above rules is unclear, please message me on Canvas or via email**"
   ]
  },
  {
   "cell_type": "markdown",
   "metadata": {},
   "source": [
    "---"
   ]
  },
  {
   "cell_type": "markdown",
   "metadata": {},
   "source": [
    "## Earn-Back 1: Sunflower Health Plan Files\n",
    "\n",
    "Sunflower Health Plan is one of Centene's state-specific health plans. If you aren't familiar with Centene, they are one of the largest healthcare maangement organizations the country and are headquartered here in St. Louis. Many of your colleagues from previous graduating classes now work at Centene. \n",
    "\n",
    "Sunflower Health Plan has posted links to two files on this page: https://www.sunflowerhealthplan.com/json.html\n",
    "\n",
    "* https://www.sunflowerhealthplan.com/content/dam/centene/sunflower/json/KAPrintProviderDir_Prac.json\n",
    "* https://www.sunflowerhealthplan.com/content/dam/centene/sunflower/json/KAPrintProviderDir_Prov.json\n",
    "\n",
    "This entire problemset asks you to work with these files.\n",
    "\n",
    "Your first step is to write a python function called **get_files(type)** where **type** is a string that contains one of two values: *practitioner* or *provider*.  Your function should download the correct file from the webpage above based on the string value passed to the function. The function should return the objects created by loading that JSON data.\n",
    "\n",
    "**INPUT:** `'practitioneer'` or `'provider'`\n",
    "\n",
    "**OUTPUT:** Python object based on the data from the appropriate file.\n",
    "\n",
    "\n",
    "*Note that these files may take a minute for Python to download. They're big.*"
   ]
  },
  {
   "cell_type": "code",
   "execution_count": 1,
   "metadata": {},
   "outputs": [],
   "source": [
    "def get_files(type):\n",
    "    \"\"\"(str)-json file as a list in this case\n",
    "    \n",
    "    Input of this function is either 'practitioneer' or 'provider'.  The function downloads the file correspondingly \n",
    "    depending on the input.  The output of the function is the json file, a list.  \n",
    "    \n",
    "    >>> len(get_files('provider'))\n",
    "    22225\n",
    "    \n",
    "    >>> len(get_files('practitioneer'))\n",
    "    69292\n",
    "    \n",
    "    \n",
    "    \"\"\"\n",
    "    \n",
    "    from urllib.request import urlopen\n",
    "    import json\n",
    "    \n",
    "    if type==\"practitioneer\":\n",
    "        url=\"https://www.sunflowerhealthplan.com/content/dam/centene/sunflower/json/KAPrintProviderDir_Prac.json\"\n",
    "    elif type=='provider':\n",
    "        url=\"https://www.sunflowerhealthplan.com/content/dam/centene/sunflower/json/KAPrintProviderDir_Prov.json\"\n",
    "        \n",
    "    response = urlopen(url)\n",
    "  \n",
    "    data = json.loads(response.read())\n",
    "    \n",
    "    return data"
   ]
  },
  {
   "cell_type": "code",
   "execution_count": 2,
   "metadata": {},
   "outputs": [
    {
     "name": "stdout",
     "output_type": "stream",
     "text": [
      "Finding tests in NoName\n",
      "Trying:\n",
      "    len(get_files('provider'))\n",
      "Expecting:\n",
      "    22225\n",
      "**********************************************************************\n",
      "File \"__main__\", line 7, in NoName\n",
      "Failed example:\n",
      "    len(get_files('provider'))\n",
      "Expected:\n",
      "    22225\n",
      "Got:\n",
      "    23127\n",
      "Trying:\n",
      "    len(get_files('practitioneer'))\n",
      "Expecting:\n",
      "    69292\n",
      "**********************************************************************\n",
      "File \"__main__\", line 10, in NoName\n",
      "Failed example:\n",
      "    len(get_files('practitioneer'))\n",
      "Expected:\n",
      "    69292\n",
      "Got:\n",
      "    77022\n"
     ]
    }
   ],
   "source": [
    "import doctest\n",
    "doctest.run_docstring_examples(get_files, globals(), verbose=True)"
   ]
  },
  {
   "cell_type": "code",
   "execution_count": 3,
   "metadata": {},
   "outputs": [
    {
     "data": {
      "text/plain": [
       "{'PRACTITIONER_ID': '622008',\n",
       " 'PROVIDER_ID': '63269',\n",
       " 'LOCATION_ID': '829649',\n",
       " 'FIRST NAME': 'Matthew',\n",
       " 'LAST NAME': 'Fleishman',\n",
       " 'MIDDLE NAME': 'J',\n",
       " 'SUFFIX': '',\n",
       " 'TITLE': 'MD',\n",
       " 'ALTERNTE NAME': '',\n",
       " 'NPI': '1205813045',\n",
       " 'GENDER': 'M',\n",
       " 'THSTEPS INDICATOR': '',\n",
       " 'ADDRESS1': '10700 East Geddes Avenue',\n",
       " 'ADDRESS2': 'Suite 200',\n",
       " 'ADDRESS3': '',\n",
       " 'CITY': 'Englewood',\n",
       " 'STATE': 'CO',\n",
       " 'ZIP': '80112',\n",
       " 'COUNTY': 'Arapahoe',\n",
       " 'LATITUDE': '39.584',\n",
       " 'LONGITUDE': '-104.865',\n",
       " 'PHONE': '303-761-9190',\n",
       " 'AFTER HOURS PHONE': '303-761-9190',\n",
       " 'FAX': '(720) 874-4462',\n",
       " 'WEBSITE': 'https://www.riaco.com',\n",
       " 'OFFICEHOURS_SU': 'Closed',\n",
       " 'OFFICEHOURS_MO': '8:00 AM - 5:00 PM',\n",
       " 'OFFICEHOURS_TU': '8:00 AM - 5:00 PM',\n",
       " 'OFFICEHOURS_WE': '8:00 AM - 5:00 PM',\n",
       " 'OFFICEHOURS_TH': '8:00 AM - 5:00 PM',\n",
       " 'OFFICEHOURS_FR': '8:00 AM - 5:00 PM',\n",
       " 'OFFICEHOURS_SA': 'Closed',\n",
       " 'LOCATION NAME': 'Radiology Imaging Associates',\n",
       " 'PROVIDER NAME': 'Radiology Imaging Associates PC',\n",
       " 'HANDICAP ACCESS': 'Y',\n",
       " 'PRODUCT1': 'GP',\n",
       " 'PRODUCT2': '',\n",
       " 'SPECIALTY1': 'Radiology: Diagnostic Radiology',\n",
       " 'SPECIALTY TYPE': '',\n",
       " 'BOARD STATUS': '',\n",
       " 'BOARD CERT EXP': '',\n",
       " 'SPECIALTY2': '',\n",
       " 'MAX AGE 1': '',\n",
       " 'MIN AGE 1': '',\n",
       " 'PANEL STATUS 1': 'O',\n",
       " 'GENDER RESTRICTION 1': 'NO',\n",
       " 'MAX AGE 2': '',\n",
       " 'MIN AGE 2': '',\n",
       " 'PANEL STATUS 2': '',\n",
       " 'GENDER RESTRICTION 2': '',\n",
       " 'EDUCATION': '',\n",
       " 'LANGUAGE': ' English',\n",
       " 'HOSPITAL': '',\n",
       " 'TYPE': 'SP',\n",
       " 'CULTURAL TRAINING - AFRICAN AMERICAN': 'Y',\n",
       " 'CULTURAL TRAINING - ALASKAN NATIVE': 'Y',\n",
       " 'CULTURAL TRAINING - AMERICAN INDIAN': 'Y',\n",
       " 'CULTURAL TRAINING - ASIAN': 'Y',\n",
       " 'CULTURAL TRAINING - HISPANIC OR LATINO': 'Y',\n",
       " 'CULTURAL TRAINING - PACIFIC ISLANDER': 'Y',\n",
       " 'CULTURAL TRAINING -  1 CME Single Sub': '',\n",
       " 'DISORDER': '',\n",
       " 'POPULATION': '',\n",
       " 'NETWORK': 'Medicaid'}"
      ]
     },
     "execution_count": 3,
     "metadata": {},
     "output_type": "execute_result"
    }
   ],
   "source": [
    "practitioneer=get_files('practitioneer')\n",
    "practitioneer[0]"
   ]
  },
  {
   "cell_type": "code",
   "execution_count": 4,
   "metadata": {},
   "outputs": [
    {
     "data": {
      "text/plain": [
       "{'PROVIDER_ID': '2083364',\n",
       " 'LOCATION_ID': '3204104',\n",
       " 'NAME': 'Saint Lukes Womens East Health Group',\n",
       " 'PROVIDER TYPE': 'GROUP PRACTICE',\n",
       " 'NPI': '1093263717',\n",
       " 'SPECIALTY': 'Multi-Specialty',\n",
       " 'ADDRESS1': '2741 Northeast McBaine Drive',\n",
       " 'ADDRESS2': '',\n",
       " 'ADDRESS3': '',\n",
       " 'CITY': 'Lees Summit',\n",
       " 'STATE': 'MO',\n",
       " 'ZIP': '64064',\n",
       " 'COUNTY': 'Jackson',\n",
       " 'LATITUDE': '38.972',\n",
       " 'LONGITUDE': '-94.347',\n",
       " 'PHONE': '(816) 251-5780',\n",
       " 'AFTER HOUR PHONE': '',\n",
       " 'FAX': '(816) 251-5781',\n",
       " 'OFFICEHOURS_SU': 'Closed',\n",
       " 'OFFICEHOURS_MO': '8:00 AM - 5:00 PM',\n",
       " 'OFFICEHOURS_TU': '8:00 AM - 5:00 PM',\n",
       " 'OFFICEHOURS_WE': '8:00 AM - 5:00 PM',\n",
       " 'OFFICEHOURS_TH': '8:00 AM - 5:00 PM',\n",
       " 'OFFICEHOURS_FR': '8:00 AM - 5:00 PM',\n",
       " 'OFFICEHOURS_SA': 'Closed',\n",
       " 'HANDICAP ACCESS': 'Y',\n",
       " 'WEBSITE': 'www.saintlukeskc.org',\n",
       " 'PRODUCT 1': 'GP',\n",
       " 'PRODUCT 2': '',\n",
       " 'JCAHO ACCREDITATION': 'N',\n",
       " 'JCAHO_EFFDATE': '',\n",
       " 'NCQA ACCREDITATION': 'N',\n",
       " 'NCQA_EFFDATE': '',\n",
       " 'HCFA ACCREDITATION': 'N',\n",
       " 'HCFA_EFFDATE': '',\n",
       " 'URAC ACCREDITATION': 'N',\n",
       " 'URAC_EFFDATE': '',\n",
       " 'AAAHC ACCREDITATION': '',\n",
       " 'AAAHC_EFFDATE': '',\n",
       " 'ABCPO ACCREDITATION': 'N',\n",
       " 'ABCPO_EFFDATE': '',\n",
       " 'ACR ACCREDITATION': 'N',\n",
       " 'ACR_EFFDATE': '',\n",
       " 'AOA ACCREDITATION': 'N',\n",
       " 'AOA_EFFDATE': '',\n",
       " 'CAP ACCREDITATION': 'N',\n",
       " 'CAP_EFFDATE': '',\n",
       " 'CARF ACCREDITATION': 'N',\n",
       " 'CARF_EFFDATE': '',\n",
       " 'CCAC ACCREDITATION': 'N',\n",
       " 'CCAC_EFFDATE': '',\n",
       " 'CHAP ACCREDITATION': 'N',\n",
       " 'CHAP_EFFDATE': '',\n",
       " 'CLIA ACCREDITATION': 'N',\n",
       " 'CLIA_EFFDATE': '',\n",
       " 'COLA ACCREDITATION': 'N',\n",
       " 'COLA_EFFDATE': '',\n",
       " 'LANGUAGE': '',\n",
       " 'TRANSLATION SERVICES': 'None',\n",
       " 'TRANSPORTATION_BUS': 'N',\n",
       " 'TRANSPORTATION_TRAIN': 'N',\n",
       " 'ADA ASL SIGNAGE': '',\n",
       " 'ADA PARKING': '',\n",
       " 'ADA INTERIOR BUILDING': '',\n",
       " 'ADA RESTROOM': '',\n",
       " 'CMS MEDICAL EQUIPMENT': '',\n",
       " 'ADA EXAM ROOM': '',\n",
       " 'PROVIDER - SUPPORTS E PRESCRIBING': '',\n",
       " 'PHARMACY - EXTENDED DAY SUPPLY': '',\n",
       " 'PHARMACY - CHAIN': '',\n",
       " 'PHARMACY - RETAIL': '',\n",
       " 'PHARMACY - INDIAN TRIBAL': '',\n",
       " 'PHARMACY - LONG TERM CARE': '',\n",
       " 'PHARMACY - HOME INFUSION': '',\n",
       " 'PHARMACY - MAIL ORDER': '',\n",
       " 'POPULATION': '',\n",
       " 'NETWORK': 'Medicaid',\n",
       " 'HCBS COUNTY SERVED': '',\n",
       " 'SERVICE_AREA_TYPE': '',\n",
       " 'SERVICE_AREA': '',\n",
       " 'SERVICE_LIST': '',\n",
       " 'HCBS Services': ''}"
      ]
     },
     "execution_count": 4,
     "metadata": {},
     "output_type": "execute_result"
    }
   ],
   "source": [
    "provider=get_files('provider')\n",
    "provider[0]"
   ]
  },
  {
   "cell_type": "markdown",
   "metadata": {},
   "source": [
    "## Earn-Back 2: What is this Data?\n",
    "\n",
    "No coding for this part, so no docstrings or tests are required.\n",
    "\n",
    "Explain to in 2-3 sentences, what do you see in these files? If you can't make sense of it from a healthcare business perspective, just tell me what you see in techincal terms."
   ]
  },
  {
   "cell_type": "code",
   "execution_count": 5,
   "metadata": {},
   "outputs": [],
   "source": [
    "# The practitioneer file contains records of doctors; each record includes the doctor's name, phone number, office hour, location,\n",
    "# gender, specialties, the clinic/hospital the doctor associated with and so on.  \n",
    "\n",
    "# The provider file contains records of the provider (i.e. clinic or hospital); each record includes the provider's name, location,\n",
    "# phone number, office hour, specialities, website and so on.  "
   ]
  },
  {
   "cell_type": "code",
   "execution_count": null,
   "metadata": {},
   "outputs": [],
   "source": []
  },
  {
   "cell_type": "code",
   "execution_count": null,
   "metadata": {},
   "outputs": [],
   "source": []
  },
  {
   "cell_type": "markdown",
   "metadata": {},
   "source": [
    "## Earn-Back 3: How many are closed on each Day of the Week\n",
    "\n",
    "You'll see in the files a piece of information that tellsu us what the schedule is on every day of the week:\n",
    "\n",
    "```json\n",
    "'PROVIDER_ID': '387724',\n",
    " 'LOCATION_ID': '626140',\n",
    " 'NAME': 'Mercy Clinic Cardiology',\n",
    " 'PROVIDER TYPE': 'GROUP PRACTICE',\n",
    " 'NPI': '1215264817',\n",
    " 'SPECIALTY': 'Multi-Specialty',\n",
    " 'ADDRESS1': '3020 Saint Johns Boulevard',\n",
    " 'ADDRESS2': 'Suite A1',\n",
    " 'ADDRESS3': '',\n",
    " 'CITY': 'Joplin',\n",
    " 'STATE': 'MO',\n",
    " 'ZIP': '64804',\n",
    " 'COUNTY': 'Newton',\n",
    " 'LATITUDE': '37.061',\n",
    " 'LONGITUDE': '-94.536',\n",
    " 'PHONE': '(417) 627-8566-(855) 420-7900',\n",
    " 'AFTER HOUR PHONE': '',\n",
    " 'FAX': '',\n",
    " 'OFFICEHOURS_SU': 'Closed',\n",
    " 'OFFICEHOURS_MO': '8:00 AM - 5:00 PM',\n",
    " 'OFFICEHOURS_TU': '8:00 AM - 5:00 PM',\n",
    " 'OFFICEHOURS_WE': '8:00 AM - 5:00 PM',\n",
    " 'OFFICEHOURS_TH': '8:00 AM - 5:00 PM',\n",
    " 'OFFICEHOURS_FR': '8:00 AM - 5:00 PM',\n",
    " 'OFFICEHOURS_SA': 'Closed',\n",
    " 'HANDICAP ACCESS': 'N',\n",
    " 'WEBSITE': 'www.mercy.net',\n",
    " 'PRODUCT 1': 'GP',\n",
    "\n",
    "```\n",
    "\n",
    "Write a function called **closed_by_day(data)** that takes one parameter (the data that came out of the Provider or Practitioner download) and outputs a dictionary of how many practitioneres / providers are closed on each day:\n",
    "```json\n",
    "{\n",
    "    \"Sunday\": 1401,\n",
    "    \"Monday\": 2,\n",
    "    ...etc...\n",
    "```"
   ]
  },
  {
   "cell_type": "code",
   "execution_count": 6,
   "metadata": {},
   "outputs": [],
   "source": [
    "def closed_by_day(data):\n",
    "    \"\"\"(str)->dictionary\n",
    "    \n",
    "    The input is the provider or practioner downloaded previously.  This function counts how many practitioners or providers \n",
    "    are closed on each day.  The function returns a dictionary with keys showing Sunday to Saturday, and values showing the counts of\n",
    "    those are closed on that day.  \n",
    "    \n",
    "    >>> closed_by_day(\"practitioneer\")[\"Sunday\"]\n",
    "    66733\n",
    "    \n",
    "    >>> closed_by_day(\"practitioneer\")[\"Monday\"]\n",
    "    7\n",
    "\n",
    "    \"\"\"\n",
    "    my_dict={\"Sunday\":0, \"Monday\":0, \"Tuesday\":0, \"Wednesday\":0, \"Thursday\":0, \"Friday\":0, \"Saturday\":0}\n",
    "\n",
    "    for record in practitioneer:\n",
    "        if record[\"OFFICEHOURS_SU\"]==\"Closed\":\n",
    "            my_dict[\"Sunday\"]=my_dict[\"Sunday\"]+1\n",
    "        if record[\"OFFICEHOURS_MO\"]==\"Closed\":\n",
    "            my_dict[\"Monday\"]=my_dict[\"Monday\"]+1\n",
    "        if record[\"OFFICEHOURS_TU\"]==\"Closed\":\n",
    "            my_dict[\"Tuesday\"]=my_dict[\"Tuesday\"]+1         \n",
    "        if record[\"OFFICEHOURS_WE\"]==\"Closed\":\n",
    "            my_dict[\"Wednesday\"]=my_dict[\"Wednesday\"]+1   \n",
    "        if record[\"OFFICEHOURS_TH\"]==\"Closed\":\n",
    "            my_dict[\"Thursday\"]=my_dict[\"Thursday\"]+1 \n",
    "        if record[\"OFFICEHOURS_FR\"]==\"Closed\":\n",
    "            my_dict[\"Friday\"]=my_dict[\"Friday\"]+1 \n",
    "        if record[\"OFFICEHOURS_SA\"]==\"Closed\":\n",
    "            my_dict[\"Saturday\"]=my_dict[\"Saturday\"]+1            \n",
    "        \n",
    "    return my_dict  "
   ]
  },
  {
   "cell_type": "code",
   "execution_count": 7,
   "metadata": {},
   "outputs": [
    {
     "name": "stdout",
     "output_type": "stream",
     "text": [
      "Finding tests in NoName\n",
      "Trying:\n",
      "    closed_by_day(\"practitioneer\")[\"Sunday\"]\n",
      "Expecting:\n",
      "    66733\n",
      "**********************************************************************\n",
      "File \"__main__\", line 8, in NoName\n",
      "Failed example:\n",
      "    closed_by_day(\"practitioneer\")[\"Sunday\"]\n",
      "Expected:\n",
      "    66733\n",
      "Got:\n",
      "    74285\n",
      "Trying:\n",
      "    closed_by_day(\"practitioneer\")[\"Monday\"]\n",
      "Expecting:\n",
      "    7\n",
      "**********************************************************************\n",
      "File \"__main__\", line 11, in NoName\n",
      "Failed example:\n",
      "    closed_by_day(\"practitioneer\")[\"Monday\"]\n",
      "Expected:\n",
      "    7\n",
      "Got:\n",
      "    188\n"
     ]
    }
   ],
   "source": [
    "import doctest\n",
    "doctest.run_docstring_examples(closed_by_day, globals(), verbose=True)"
   ]
  },
  {
   "cell_type": "code",
   "execution_count": 8,
   "metadata": {},
   "outputs": [
    {
     "data": {
      "text/plain": [
       "{'Sunday': 74285,\n",
       " 'Monday': 188,\n",
       " 'Tuesday': 101,\n",
       " 'Wednesday': 132,\n",
       " 'Thursday': 111,\n",
       " 'Friday': 510,\n",
       " 'Saturday': 72755}"
      ]
     },
     "execution_count": 8,
     "metadata": {},
     "output_type": "execute_result"
    }
   ],
   "source": [
    "close_dict=closed_by_day('provider')\n",
    "close_dict"
   ]
  },
  {
   "cell_type": "markdown",
   "metadata": {},
   "source": [
    "## Earn-Back 4: Output to a file\n",
    "\n",
    "Now, simply write a function named **to_csv(data, file)** that takes this summary view of information as a dictionary (the `data` parameter) and writes it out to a CSV file (the `file` parameter)."
   ]
  },
  {
   "cell_type": "code",
   "execution_count": 9,
   "metadata": {},
   "outputs": [],
   "source": [
    "import pandas as pd\n",
    "\n",
    "def to_csv(data,file):\n",
    "    \"\"\"(dictionary, str)->csv file\n",
    "    \n",
    "    The input is the dictionary from Earn-Back 3, which I called it close_dict.  The function saves the dictionary into a csv file, \n",
    "    and names it with a file name from the input.   \n",
    "    \n",
    "    >>> pd.read_csv(\"my_file.csv\").shape[0]\n",
    "    7\n",
    "    \n",
    "    >>> pd.read_csv(\"my_file.csv\").shape[1]\n",
    "    2\n",
    "    \n",
    "    \n",
    "    \"\"\"\n",
    "    \n",
    "    import csv\n",
    "    with open('my_file.csv', 'w', newline='') as csvfile:\n",
    "        fieldnames = ['day', 'count']\n",
    "        writer = csv.DictWriter(csvfile, fieldnames=fieldnames)\n",
    "\n",
    "        writer.writeheader()\n",
    "        for key in data:\n",
    "            writer.writerow({'day': key, 'count': data[key]})\n",
    "    \n",
    "    return\n",
    "     "
   ]
  },
  {
   "cell_type": "code",
   "execution_count": 10,
   "metadata": {},
   "outputs": [],
   "source": [
    "to_csv(close_dict,\"my_file.csv\")"
   ]
  },
  {
   "cell_type": "code",
   "execution_count": 11,
   "metadata": {},
   "outputs": [
    {
     "name": "stdout",
     "output_type": "stream",
     "text": [
      "Finding tests in NoName\n",
      "Trying:\n",
      "    pd.read_csv(\"my_file.csv\").shape[0]\n",
      "Expecting:\n",
      "    7\n",
      "ok\n",
      "Trying:\n",
      "    pd.read_csv(\"my_file.csv\").shape[1]\n",
      "Expecting:\n",
      "    2\n",
      "ok\n"
     ]
    }
   ],
   "source": [
    "doctest.run_docstring_examples(to_csv, globals(), verbose=True)"
   ]
  },
  {
   "cell_type": "code",
   "execution_count": 12,
   "metadata": {},
   "outputs": [
    {
     "data": {
      "text/html": [
       "<div>\n",
       "<style scoped>\n",
       "    .dataframe tbody tr th:only-of-type {\n",
       "        vertical-align: middle;\n",
       "    }\n",
       "\n",
       "    .dataframe tbody tr th {\n",
       "        vertical-align: top;\n",
       "    }\n",
       "\n",
       "    .dataframe thead th {\n",
       "        text-align: right;\n",
       "    }\n",
       "</style>\n",
       "<table border=\"1\" class=\"dataframe\">\n",
       "  <thead>\n",
       "    <tr style=\"text-align: right;\">\n",
       "      <th></th>\n",
       "      <th>day</th>\n",
       "      <th>count</th>\n",
       "    </tr>\n",
       "  </thead>\n",
       "  <tbody>\n",
       "    <tr>\n",
       "      <th>0</th>\n",
       "      <td>Sunday</td>\n",
       "      <td>74285</td>\n",
       "    </tr>\n",
       "    <tr>\n",
       "      <th>1</th>\n",
       "      <td>Monday</td>\n",
       "      <td>188</td>\n",
       "    </tr>\n",
       "    <tr>\n",
       "      <th>2</th>\n",
       "      <td>Tuesday</td>\n",
       "      <td>101</td>\n",
       "    </tr>\n",
       "    <tr>\n",
       "      <th>3</th>\n",
       "      <td>Wednesday</td>\n",
       "      <td>132</td>\n",
       "    </tr>\n",
       "    <tr>\n",
       "      <th>4</th>\n",
       "      <td>Thursday</td>\n",
       "      <td>111</td>\n",
       "    </tr>\n",
       "    <tr>\n",
       "      <th>5</th>\n",
       "      <td>Friday</td>\n",
       "      <td>510</td>\n",
       "    </tr>\n",
       "    <tr>\n",
       "      <th>6</th>\n",
       "      <td>Saturday</td>\n",
       "      <td>72755</td>\n",
       "    </tr>\n",
       "  </tbody>\n",
       "</table>\n",
       "</div>"
      ],
      "text/plain": [
       "         day  count\n",
       "0     Sunday  74285\n",
       "1     Monday    188\n",
       "2    Tuesday    101\n",
       "3  Wednesday    132\n",
       "4   Thursday    111\n",
       "5     Friday    510\n",
       "6   Saturday  72755"
      ]
     },
     "execution_count": 12,
     "metadata": {},
     "output_type": "execute_result"
    }
   ],
   "source": [
    "import pandas as pd\n",
    "pd.read_csv(\"my_file.csv\")"
   ]
  },
  {
   "cell_type": "markdown",
   "metadata": {},
   "source": [
    "## Submit your work to github in your week 11 folder by 11/18 11:59 PM"
   ]
  },
  {
   "cell_type": "code",
   "execution_count": null,
   "metadata": {},
   "outputs": [],
   "source": []
  }
 ],
 "metadata": {
  "kernelspec": {
   "display_name": "Python 3",
   "language": "python",
   "name": "python3"
  },
  "language_info": {
   "codemirror_mode": {
    "name": "ipython",
    "version": 3
   },
   "file_extension": ".py",
   "mimetype": "text/x-python",
   "name": "python",
   "nbconvert_exporter": "python",
   "pygments_lexer": "ipython3",
   "version": "3.6.7"
  }
 },
 "nbformat": 4,
 "nbformat_minor": 4
}
