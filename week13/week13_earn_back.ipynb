{
 "cells": [
  {
   "cell_type": "markdown",
   "metadata": {},
   "source": [
    "# Week 13 - Earn-Back Points Assignment #3\n",
    "\n",
    "These exercises are entirely optional, but they provide good practice. And you can use them to earn extra points toward your semester grade.  Each problem in this notebook can you earn you back up to 2 points.  There are key requirements, though. If your code does not following these rules, you will earn no points for your work.\n",
    "* You MUST include docstrings that explain the purpose of your code.\n",
    "* You MUST include at least 2 example tests in your docstrings for each function you write.\n",
    "* You MUST run your docstrings within the notebook to show me your code and docstrings work correctly.\n",
    "* You MUST submit your own individual work.  You may not collaborate with other students on these assignments.\n",
    "\n",
    "There will be 4 assignments like this between now and the end of the semester, each with 4 problems, each worth 2 points, for a total of 32 points.\n",
    "\n",
    "**If anything about the above rules is unclear, please message me on Canvas or via email**"
   ]
  },
  {
   "cell_type": "markdown",
   "metadata": {},
   "source": [
    "---"
   ]
  },
  {
   "cell_type": "markdown",
   "metadata": {},
   "source": [
    "## Earn-Back 1: Fetal Activity Data\n",
    "\n",
    "Cardiotocograms are a useful tool for monitoring the health of fetuses and potential mortality of fetuses and pregnant women. This [dataset on Kaggle](https://www.kaggle.com/datasets/andrewmvd/fetal-health-classification?resource=download) is a collection of measurements 2,126 test subjects. Let's do some interesting things with this data!\n",
    "\n",
    "I've already downloaded it and put in the Jupyter server under /data/fetal_health.csv\n",
    "\n",
    "Your first step is to write a python function called **risk_score()** that takes three input parameters (shown below) and returns back a new series computed using the following rules to compute a total risk score:\n",
    "* If the histograph number of peaks is greater than 5, add 1 to the risk score\n",
    "* If the number of accelerations per second is greater than 0.01, add 1 to the risk score\n",
    "* If the number of light decelerations per second is greather than 0.005, add 1 to the risk score\n",
    "\n",
    "*Note that these rules were made up by the instructor. They have no scientific basis behind them.*\n"
   ]
  },
  {
   "cell_type": "code",
   "execution_count": 1,
   "metadata": {},
   "outputs": [
    {
     "data": {
      "text/plain": [
       "Index(['baseline value', 'accelerations', 'fetal_movement',\n",
       "       'uterine_contractions', 'light_decelerations', 'severe_decelerations',\n",
       "       'prolongued_decelerations', 'abnormal_short_term_variability',\n",
       "       'mean_value_of_short_term_variability',\n",
       "       'percentage_of_time_with_abnormal_long_term_variability',\n",
       "       'mean_value_of_long_term_variability', 'histogram_width',\n",
       "       'histogram_min', 'histogram_max', 'histogram_number_of_peaks',\n",
       "       'histogram_number_of_zeroes', 'histogram_mode', 'histogram_mean',\n",
       "       'histogram_median', 'histogram_variance', 'histogram_tendency',\n",
       "       'fetal_health'],\n",
       "      dtype='object')"
      ]
     },
     "execution_count": 1,
     "metadata": {},
     "output_type": "execute_result"
    }
   ],
   "source": [
    "import pandas as pd\n",
    "df = pd.read_csv('/data/fetal_health.csv')\n",
    "df.columns"
   ]
  },
  {
   "cell_type": "code",
   "execution_count": 2,
   "metadata": {},
   "outputs": [],
   "source": [
    "def risk_score(peak, acceleration, deceleration):\n",
    "    \"\"\"(float, float, float)->int\n",
    "    \n",
    "    The inputs are histograph number of peaks, acceleration per second, and light deceleration per second.  \n",
    "    The function computes the risk score based on the three inputs.  Ifthe histograph number of peaks is \n",
    "    greater than 5, add 1 to the risk score. If the number of accelerations per second is greater than 0.01, \n",
    "    add 1 to the risk score. If the number of light decelerations per second is greather than 0.005, \n",
    "    add 1 to the risk score.  The function returns the risk score.  \n",
    "    \n",
    "    >>> risk_score(2, 0.0, 0.0)\n",
    "    0\n",
    "    \n",
    "    >>> risk_score(6, 0.006, 0.003)\n",
    "    1\n",
    "    \n",
    "    \"\"\"\n",
    "        \n",
    "    score=0\n",
    "    if peak>5: \n",
    "        score=score+1\n",
    "    if acceleration>0.01:\n",
    "        score=score+1\n",
    "    if deceleration>0.005:\n",
    "        score=score+1\n",
    "    \n",
    "    return score "
   ]
  },
  {
   "cell_type": "code",
   "execution_count": 3,
   "metadata": {},
   "outputs": [
    {
     "name": "stdout",
     "output_type": "stream",
     "text": [
      "Finding tests in NoName\n",
      "Trying:\n",
      "    risk_score(2, 0.0, 0.0)\n",
      "Expecting:\n",
      "    0\n",
      "ok\n",
      "Trying:\n",
      "    risk_score(6, 0.006, 0.003)\n",
      "Expecting:\n",
      "    1\n",
      "ok\n"
     ]
    }
   ],
   "source": [
    "import doctest\n",
    "doctest.run_docstring_examples(risk_score, globals(), verbose=True)"
   ]
  },
  {
   "cell_type": "code",
   "execution_count": 4,
   "metadata": {},
   "outputs": [],
   "source": [
    "assert risk_score(2, 0.0, 0.0) == 0\n",
    "assert risk_score(6, 0.006, 0.003) == 1\n",
    "assert risk_score(5, 0.015, 0.0) == 1"
   ]
  },
  {
   "cell_type": "markdown",
   "metadata": {},
   "source": [
    "---\n",
    "\n",
    "## Earn-Back Part 2: Score the Data\n",
    "\n",
    "In this next step, write a function called **score_subjects()** that takes your whole Dataframe as input and returns a new Series with scores for every record.  I recommend doing this with the `apply()` function similar to the BMI example below:"
   ]
  },
  {
   "cell_type": "code",
   "execution_count": 5,
   "metadata": {},
   "outputs": [
    {
     "data": {
      "text/plain": [
       "0    29.411765\n",
       "1    30.470914\n",
       "dtype: float64"
      ]
     },
     "execution_count": 5,
     "metadata": {},
     "output_type": "execute_result"
    }
   ],
   "source": [
    "# 1. Create our sample dataframe\n",
    "people = pd.DataFrame([\n",
    "    ['Joe', 170, 85],\n",
    "    ['Alex', 190, 110]\n",
    "], columns=['Name','Height (cm)','Weight (kg)'])\n",
    "\n",
    "# 2. Define our function just like we would a normal function to calculate BMI\n",
    "def bmi(height_cm, weight_kg):\n",
    "    return weight_kg / ((height_cm/100) ** 2)\n",
    "\n",
    "# 3. Apply the bmi() function to each row using a lambda function\n",
    "#    Set \"axis=1\" to apply the function to each row (instead of column)\n",
    "#    Use an anonymous \"lambda\" function to call bmi function\n",
    "#    passing the height and weight columns from our dataframe.\n",
    "people.apply(lambda x: bmi(x['Height (cm)'],x['Weight (kg)']), axis=1)"
   ]
  },
  {
   "cell_type": "markdown",
   "metadata": {},
   "source": [
    "#### Start Your Code Here"
   ]
  },
  {
   "cell_type": "code",
   "execution_count": 6,
   "metadata": {},
   "outputs": [],
   "source": [
    "def score_subjects(df):\n",
    "    \"\"\"(dataframe)->series\n",
    "    \n",
    "    The input is a dataframe.  This function calls another function called risk_score() to calculate the risk score of each row (or subject) \n",
    "    of the dataframe based on the value of three columns in the dataframe: \"histogram_number_of_peaks\", 'accelerations', light_decelerations.\n",
    "    This function returns a series of the risk scores.  \n",
    "    \n",
    "    >>> len(score_subjects(df).value_counts())\n",
    "    4\n",
    "    \n",
    "    >>> max(score_subjects(df))\n",
    "    3\n",
    "    \n",
    "    \"\"\"\n",
    "    \n",
    "    return df.apply(lambda x: risk_score(x[\"histogram_number_of_peaks\"], x['accelerations'], x[\"light_decelerations\"]), axis=1)"
   ]
  },
  {
   "cell_type": "code",
   "execution_count": 7,
   "metadata": {},
   "outputs": [
    {
     "name": "stdout",
     "output_type": "stream",
     "text": [
      "Finding tests in NoName\n",
      "Trying:\n",
      "    len(score_subjects(df).value_counts())\n",
      "Expecting:\n",
      "    4\n",
      "ok\n",
      "Trying:\n",
      "    max(score_subjects(df))\n",
      "Expecting:\n",
      "    3\n",
      "ok\n"
     ]
    }
   ],
   "source": [
    "doctest.run_docstring_examples(score_subjects, globals(), verbose=True)"
   ]
  },
  {
   "cell_type": "code",
   "execution_count": 8,
   "metadata": {},
   "outputs": [],
   "source": [
    "assert len(score_subjects(df).value_counts()) == 4\n",
    "assert max(score_subjects(df)) == 3\n",
    "assert min(score_subjects(df)) == 0\n",
    "assert score_subjects(df).value_counts()[0] == 1341\n",
    "assert score_subjects(df).value_counts()[1] == 574"
   ]
  },
  {
   "cell_type": "markdown",
   "metadata": {},
   "source": [
    "## Earn-Back Part 3:\n",
    "\n",
    "Insert the results of your **score_subjects()** function as a new column in your dataframe. Call that new column **Risk Score**\n",
    "You do not need to write a function to this.  Just write this code directly in the cells below.  Provide some minimal documentation to explain what you're doing."
   ]
  },
  {
   "cell_type": "code",
   "execution_count": 9,
   "metadata": {},
   "outputs": [],
   "source": [
    "df[\"Risk Score\"] = score_subjects(df)  # add the risk scores derived from score_sujects() to \"Risk Score\" column in the df"
   ]
  },
  {
   "cell_type": "code",
   "execution_count": 10,
   "metadata": {},
   "outputs": [
    {
     "data": {
      "text/html": [
       "<div>\n",
       "<style scoped>\n",
       "    .dataframe tbody tr th:only-of-type {\n",
       "        vertical-align: middle;\n",
       "    }\n",
       "\n",
       "    .dataframe tbody tr th {\n",
       "        vertical-align: top;\n",
       "    }\n",
       "\n",
       "    .dataframe thead th {\n",
       "        text-align: right;\n",
       "    }\n",
       "</style>\n",
       "<table border=\"1\" class=\"dataframe\">\n",
       "  <thead>\n",
       "    <tr style=\"text-align: right;\">\n",
       "      <th></th>\n",
       "      <th>baseline value</th>\n",
       "      <th>accelerations</th>\n",
       "      <th>fetal_movement</th>\n",
       "      <th>uterine_contractions</th>\n",
       "      <th>light_decelerations</th>\n",
       "      <th>severe_decelerations</th>\n",
       "      <th>prolongued_decelerations</th>\n",
       "      <th>abnormal_short_term_variability</th>\n",
       "      <th>mean_value_of_short_term_variability</th>\n",
       "      <th>percentage_of_time_with_abnormal_long_term_variability</th>\n",
       "      <th>...</th>\n",
       "      <th>histogram_max</th>\n",
       "      <th>histogram_number_of_peaks</th>\n",
       "      <th>histogram_number_of_zeroes</th>\n",
       "      <th>histogram_mode</th>\n",
       "      <th>histogram_mean</th>\n",
       "      <th>histogram_median</th>\n",
       "      <th>histogram_variance</th>\n",
       "      <th>histogram_tendency</th>\n",
       "      <th>fetal_health</th>\n",
       "      <th>Risk Score</th>\n",
       "    </tr>\n",
       "  </thead>\n",
       "  <tbody>\n",
       "    <tr>\n",
       "      <th>0</th>\n",
       "      <td>120.0</td>\n",
       "      <td>0.000</td>\n",
       "      <td>0.0</td>\n",
       "      <td>0.000</td>\n",
       "      <td>0.000</td>\n",
       "      <td>0.0</td>\n",
       "      <td>0.0</td>\n",
       "      <td>73.0</td>\n",
       "      <td>0.5</td>\n",
       "      <td>43.0</td>\n",
       "      <td>...</td>\n",
       "      <td>126.0</td>\n",
       "      <td>2.0</td>\n",
       "      <td>0.0</td>\n",
       "      <td>120.0</td>\n",
       "      <td>137.0</td>\n",
       "      <td>121.0</td>\n",
       "      <td>73.0</td>\n",
       "      <td>1.0</td>\n",
       "      <td>2.0</td>\n",
       "      <td>0</td>\n",
       "    </tr>\n",
       "    <tr>\n",
       "      <th>1</th>\n",
       "      <td>132.0</td>\n",
       "      <td>0.006</td>\n",
       "      <td>0.0</td>\n",
       "      <td>0.006</td>\n",
       "      <td>0.003</td>\n",
       "      <td>0.0</td>\n",
       "      <td>0.0</td>\n",
       "      <td>17.0</td>\n",
       "      <td>2.1</td>\n",
       "      <td>0.0</td>\n",
       "      <td>...</td>\n",
       "      <td>198.0</td>\n",
       "      <td>6.0</td>\n",
       "      <td>1.0</td>\n",
       "      <td>141.0</td>\n",
       "      <td>136.0</td>\n",
       "      <td>140.0</td>\n",
       "      <td>12.0</td>\n",
       "      <td>0.0</td>\n",
       "      <td>1.0</td>\n",
       "      <td>1</td>\n",
       "    </tr>\n",
       "    <tr>\n",
       "      <th>2</th>\n",
       "      <td>133.0</td>\n",
       "      <td>0.003</td>\n",
       "      <td>0.0</td>\n",
       "      <td>0.008</td>\n",
       "      <td>0.003</td>\n",
       "      <td>0.0</td>\n",
       "      <td>0.0</td>\n",
       "      <td>16.0</td>\n",
       "      <td>2.1</td>\n",
       "      <td>0.0</td>\n",
       "      <td>...</td>\n",
       "      <td>198.0</td>\n",
       "      <td>5.0</td>\n",
       "      <td>1.0</td>\n",
       "      <td>141.0</td>\n",
       "      <td>135.0</td>\n",
       "      <td>138.0</td>\n",
       "      <td>13.0</td>\n",
       "      <td>0.0</td>\n",
       "      <td>1.0</td>\n",
       "      <td>0</td>\n",
       "    </tr>\n",
       "    <tr>\n",
       "      <th>3</th>\n",
       "      <td>134.0</td>\n",
       "      <td>0.003</td>\n",
       "      <td>0.0</td>\n",
       "      <td>0.008</td>\n",
       "      <td>0.003</td>\n",
       "      <td>0.0</td>\n",
       "      <td>0.0</td>\n",
       "      <td>16.0</td>\n",
       "      <td>2.4</td>\n",
       "      <td>0.0</td>\n",
       "      <td>...</td>\n",
       "      <td>170.0</td>\n",
       "      <td>11.0</td>\n",
       "      <td>0.0</td>\n",
       "      <td>137.0</td>\n",
       "      <td>134.0</td>\n",
       "      <td>137.0</td>\n",
       "      <td>13.0</td>\n",
       "      <td>1.0</td>\n",
       "      <td>1.0</td>\n",
       "      <td>1</td>\n",
       "    </tr>\n",
       "    <tr>\n",
       "      <th>4</th>\n",
       "      <td>132.0</td>\n",
       "      <td>0.007</td>\n",
       "      <td>0.0</td>\n",
       "      <td>0.008</td>\n",
       "      <td>0.000</td>\n",
       "      <td>0.0</td>\n",
       "      <td>0.0</td>\n",
       "      <td>16.0</td>\n",
       "      <td>2.4</td>\n",
       "      <td>0.0</td>\n",
       "      <td>...</td>\n",
       "      <td>170.0</td>\n",
       "      <td>9.0</td>\n",
       "      <td>0.0</td>\n",
       "      <td>137.0</td>\n",
       "      <td>136.0</td>\n",
       "      <td>138.0</td>\n",
       "      <td>11.0</td>\n",
       "      <td>1.0</td>\n",
       "      <td>1.0</td>\n",
       "      <td>1</td>\n",
       "    </tr>\n",
       "  </tbody>\n",
       "</table>\n",
       "<p>5 rows × 23 columns</p>\n",
       "</div>"
      ],
      "text/plain": [
       "   baseline value  accelerations  fetal_movement  uterine_contractions  \\\n",
       "0           120.0          0.000             0.0                 0.000   \n",
       "1           132.0          0.006             0.0                 0.006   \n",
       "2           133.0          0.003             0.0                 0.008   \n",
       "3           134.0          0.003             0.0                 0.008   \n",
       "4           132.0          0.007             0.0                 0.008   \n",
       "\n",
       "   light_decelerations  severe_decelerations  prolongued_decelerations  \\\n",
       "0                0.000                   0.0                       0.0   \n",
       "1                0.003                   0.0                       0.0   \n",
       "2                0.003                   0.0                       0.0   \n",
       "3                0.003                   0.0                       0.0   \n",
       "4                0.000                   0.0                       0.0   \n",
       "\n",
       "   abnormal_short_term_variability  mean_value_of_short_term_variability  \\\n",
       "0                             73.0                                   0.5   \n",
       "1                             17.0                                   2.1   \n",
       "2                             16.0                                   2.1   \n",
       "3                             16.0                                   2.4   \n",
       "4                             16.0                                   2.4   \n",
       "\n",
       "   percentage_of_time_with_abnormal_long_term_variability  ...  histogram_max  \\\n",
       "0                                               43.0       ...          126.0   \n",
       "1                                                0.0       ...          198.0   \n",
       "2                                                0.0       ...          198.0   \n",
       "3                                                0.0       ...          170.0   \n",
       "4                                                0.0       ...          170.0   \n",
       "\n",
       "   histogram_number_of_peaks  histogram_number_of_zeroes  histogram_mode  \\\n",
       "0                        2.0                         0.0           120.0   \n",
       "1                        6.0                         1.0           141.0   \n",
       "2                        5.0                         1.0           141.0   \n",
       "3                       11.0                         0.0           137.0   \n",
       "4                        9.0                         0.0           137.0   \n",
       "\n",
       "   histogram_mean  histogram_median  histogram_variance  histogram_tendency  \\\n",
       "0           137.0             121.0                73.0                 1.0   \n",
       "1           136.0             140.0                12.0                 0.0   \n",
       "2           135.0             138.0                13.0                 0.0   \n",
       "3           134.0             137.0                13.0                 1.0   \n",
       "4           136.0             138.0                11.0                 1.0   \n",
       "\n",
       "   fetal_health  Risk Score  \n",
       "0           2.0           0  \n",
       "1           1.0           1  \n",
       "2           1.0           0  \n",
       "3           1.0           1  \n",
       "4           1.0           1  \n",
       "\n",
       "[5 rows x 23 columns]"
      ]
     },
     "execution_count": 10,
     "metadata": {},
     "output_type": "execute_result"
    }
   ],
   "source": [
    "df.head()"
   ]
  },
  {
   "cell_type": "markdown",
   "metadata": {},
   "source": [
    "## Earn-Back Part 4:\n",
    "\n",
    "Summarize your dataframe in the following way. For each **Risk Score** provide the following aggregates:\n",
    "* Count\n",
    "* Average **histogram_number_of_peaks**\n",
    "* Average **acceleration**\n",
    "* Average **light_deceleration**"
   ]
  },
  {
   "cell_type": "code",
   "execution_count": 11,
   "metadata": {},
   "outputs": [
    {
     "data": {
      "text/html": [
       "<div>\n",
       "<style scoped>\n",
       "    .dataframe tbody tr th:only-of-type {\n",
       "        vertical-align: middle;\n",
       "    }\n",
       "\n",
       "    .dataframe tbody tr th {\n",
       "        vertical-align: top;\n",
       "    }\n",
       "\n",
       "    .dataframe thead th {\n",
       "        text-align: right;\n",
       "    }\n",
       "</style>\n",
       "<table border=\"1\" class=\"dataframe\">\n",
       "  <thead>\n",
       "    <tr style=\"text-align: right;\">\n",
       "      <th></th>\n",
       "      <th>Risk Score</th>\n",
       "      <th>histogram_number_of_peaks</th>\n",
       "      <th>accelerations</th>\n",
       "      <th>light_decelerations</th>\n",
       "    </tr>\n",
       "    <tr>\n",
       "      <th>Risk Score</th>\n",
       "      <th></th>\n",
       "      <th></th>\n",
       "      <th></th>\n",
       "      <th></th>\n",
       "    </tr>\n",
       "  </thead>\n",
       "  <tbody>\n",
       "    <tr>\n",
       "      <th>0</th>\n",
       "      <td>1341</td>\n",
       "      <td>2.384787</td>\n",
       "      <td>0.002371</td>\n",
       "      <td>0.000675</td>\n",
       "    </tr>\n",
       "    <tr>\n",
       "      <th>1</th>\n",
       "      <td>574</td>\n",
       "      <td>6.576655</td>\n",
       "      <td>0.004643</td>\n",
       "      <td>0.003051</td>\n",
       "    </tr>\n",
       "    <tr>\n",
       "      <th>2</th>\n",
       "      <td>210</td>\n",
       "      <td>7.952381</td>\n",
       "      <td>0.004295</td>\n",
       "      <td>0.006448</td>\n",
       "    </tr>\n",
       "    <tr>\n",
       "      <th>3</th>\n",
       "      <td>1</td>\n",
       "      <td>6.000000</td>\n",
       "      <td>0.011000</td>\n",
       "      <td>0.007000</td>\n",
       "    </tr>\n",
       "  </tbody>\n",
       "</table>\n",
       "</div>"
      ],
      "text/plain": [
       "            Risk Score  histogram_number_of_peaks  accelerations  \\\n",
       "Risk Score                                                         \n",
       "0                 1341                   2.384787       0.002371   \n",
       "1                  574                   6.576655       0.004643   \n",
       "2                  210                   7.952381       0.004295   \n",
       "3                    1                   6.000000       0.011000   \n",
       "\n",
       "            light_decelerations  \n",
       "Risk Score                       \n",
       "0                      0.000675  \n",
       "1                      0.003051  \n",
       "2                      0.006448  \n",
       "3                      0.007000  "
      ]
     },
     "execution_count": 11,
     "metadata": {},
     "output_type": "execute_result"
    }
   ],
   "source": [
    "df.groupby(\"Risk Score\").agg({\n",
    "    \"Risk Score\": 'count',\n",
    "    \"histogram_number_of_peaks\": 'mean',\n",
    "    \"accelerations\": 'mean',\n",
    "    \"light_decelerations\": 'mean'})"
   ]
  },
  {
   "cell_type": "markdown",
   "metadata": {},
   "source": [
    "## Submit your work to github in your week 11 folder by 11/18 11:59 PM"
   ]
  },
  {
   "cell_type": "code",
   "execution_count": null,
   "metadata": {},
   "outputs": [],
   "source": []
  }
 ],
 "metadata": {
  "kernelspec": {
   "display_name": "Python 3",
   "language": "python",
   "name": "python3"
  },
  "language_info": {
   "codemirror_mode": {
    "name": "ipython",
    "version": 3
   },
   "file_extension": ".py",
   "mimetype": "text/x-python",
   "name": "python",
   "nbconvert_exporter": "python",
   "pygments_lexer": "ipython3",
   "version": "3.6.7"
  }
 },
 "nbformat": 4,
 "nbformat_minor": 4
}
