{
 "cells": [
  {
   "cell_type": "markdown",
   "metadata": {
    "nbgrader": {
     "grade": false,
     "grade_id": "intro",
     "locked": true,
     "schema_version": 1,
     "solution": false
    }
   },
   "source": [
    "# Working with a database\n",
    "\n",
    "This week's assignment has a few basic steps.  First, we're going to pull some data down off the internet and store it into our MySQL database.  Make sure that you use your username as part of the table name as show in the examples so that you don't create a problem for other students.\n",
    "\n",
    "Then, we'll merge that with some data already in the database and calculate a few results.  When it comes to calculating the results, you can do so either with SQL or with Pandas operations.\n"
   ]
  },
  {
   "cell_type": "markdown",
   "metadata": {
    "nbgrader": {
     "grade": false,
     "grade_id": "q01-intro",
     "locked": true,
     "schema_version": 1,
     "solution": false
    }
   },
   "source": [
    "## PART 1: Setup your database connection and table name\n",
    "\n",
    "In the code below, change the value of the variable `MYTABLE` to use your own username rather that `'pboal'`\n",
    "\n",
    "You can then use `MYTABLE` in the rest of your code to reference that table name."
   ]
  },
  {
   "cell_type": "code",
   "execution_count": 1,
   "metadata": {
    "nbgrader": {
     "grade": false,
     "grade_id": "q01-solution",
     "locked": false,
     "schema_version": 1,
     "solution": true
    }
   },
   "outputs": [],
   "source": [
    "import getpass\n",
    "myname = getpass.getuser().split('-')[1]\n",
    "myname\n",
    "MYTABLE=myname + '_data'\n",
    "\n",
    "\n",
    "# Then, this code will automatically setup your \n",
    "import os\n",
    "from sqlalchemy import create_engine\n",
    "import pandas as pd\n",
    "\n",
    "host = 'slucor2022-instance-1.cgdcoitnku0k.us-east-1.rds.amazonaws.com'\n",
    "port = '3306'\n",
    "user = 'slucor2022'\n",
    "password = 'SLUcor2022'\n",
    "database = 'hds5210'\n",
    "\n",
    "conn = create_engine('mysql+pymysql://' + \n",
    "                     user + ':' + \n",
    "                     password + '@' + \n",
    "                     host + ':' + \n",
    "                     str(port) + '/' + \n",
    "                     database)"
   ]
  },
  {
   "cell_type": "code",
   "execution_count": 2,
   "metadata": {
    "nbgrader": {
     "grade": true,
     "grade_id": "q01-tests",
     "locked": true,
     "points": 5,
     "schema_version": 1,
     "solution": false
    }
   },
   "outputs": [],
   "source": [
    "assert(MYTABLE != 'pboal')\n",
    "assert(conn.connect())"
   ]
  },
  {
   "cell_type": "markdown",
   "metadata": {
    "nbgrader": {
     "grade": false,
     "grade_id": "q02-intro",
     "locked": true,
     "schema_version": 1,
     "solution": false
    }
   },
   "source": [
    "## PART 2: Bring in outside data\n",
    "\n",
    "Grab the data from this URL and put it into a database table named with your `username_data`.\n",
    "\n",
    "http://dhcs-chhsagency.opendata.arcgis.com/datasets/8e4f3a0c75b9424d888d11c1f949cc32_0.csv\n",
    "\n",
    "By the end of your cell, the table should be created.  The tests are going to verify that the table exists and looks right."
   ]
  },
  {
   "cell_type": "code",
   "execution_count": 3,
   "metadata": {
    "nbgrader": {
     "grade": false,
     "grade_id": "q02-solution",
     "locked": false,
     "schema_version": 1,
     "solution": true
    }
   },
   "outputs": [],
   "source": [
    "url = 'https://opendata.arcgis.com/api/v3/datasets/ed0bc689bde246b18835c7529ba4efb4_0/downloads/data?format=csv&spatialRefId=4326'\n",
    "\n",
    "### BEGIN SOLUTION\n",
    "df = pd.read_csv(url)\n",
    "df.to_sql(MYTABLE, conn, if_exists='replace')\n",
    "### END SOLUTION"
   ]
  },
  {
   "cell_type": "code",
   "execution_count": 5,
   "metadata": {},
   "outputs": [
    {
     "data": {
      "text/plain": [
       "(323, 22)"
      ]
     },
     "execution_count": 5,
     "metadata": {},
     "output_type": "execute_result"
    }
   ],
   "source": [
    "dxyz.shape"
   ]
  },
  {
   "cell_type": "code",
   "execution_count": 9,
   "metadata": {},
   "outputs": [
    {
     "data": {
      "text/plain": [
       "Index(['index', 'X', 'Y', 'OBJECTID', 'Provider_Name', 'NPI', 'CCN',\n",
       "       'Business_Street_Address', 'Business_City', 'Business_County',\n",
       "       'Business_ZIP_Code', 'Business_State_Territory', 'Payment_Year_Number',\n",
       "       'Program_Type', 'Medicaid_EP_Hospital_Type', 'total_payments',\n",
       "       'Last_Payment_Criteria', 'Recent_Disbursement_Amount', 'Latitude',\n",
       "       'Longitude', 'Last_Program_Year', 'Last_Payment_Year'],\n",
       "      dtype='object')"
      ]
     },
     "execution_count": 9,
     "metadata": {},
     "output_type": "execute_result"
    }
   ],
   "source": [
    "dxyz.columns"
   ]
  },
  {
   "cell_type": "code",
   "execution_count": 10,
   "metadata": {
    "nbgrader": {
     "grade": true,
     "grade_id": "q02-tests",
     "locked": true,
     "points": 5,
     "schema_version": 1,
     "solution": false
    }
   },
   "outputs": [],
   "source": [
    "dxyz = pd.read_sql_query('SELECT * FROM ' + MYTABLE, conn)\n",
    "assert(dxyz.shape == (323,22))\n",
    "assert(list(dxyz.columns) == ['index', 'X', 'Y', 'OBJECTID', 'Provider_Name', 'NPI', 'CCN',\n",
    "       'Business_Street_Address', 'Business_City', 'Business_County',\n",
    "       'Business_ZIP_Code', 'Business_State_Territory', 'Payment_Year_Number',\n",
    "       'Program_Type', 'Medicaid_EP_Hospital_Type', 'total_payments',\n",
    "       'Last_Payment_Criteria', 'Recent_Disbursement_Amount', 'Latitude',\n",
    "       'Longitude', 'Last_Program_Year', 'Last_Payment_Year'])"
   ]
  },
  {
   "cell_type": "code",
   "execution_count": 11,
   "metadata": {},
   "outputs": [
    {
     "data": {
      "text/html": [
       "<div>\n",
       "<style scoped>\n",
       "    .dataframe tbody tr th:only-of-type {\n",
       "        vertical-align: middle;\n",
       "    }\n",
       "\n",
       "    .dataframe tbody tr th {\n",
       "        vertical-align: top;\n",
       "    }\n",
       "\n",
       "    .dataframe thead th {\n",
       "        text-align: right;\n",
       "    }\n",
       "</style>\n",
       "<table border=\"1\" class=\"dataframe\">\n",
       "  <thead>\n",
       "    <tr style=\"text-align: right;\">\n",
       "      <th></th>\n",
       "      <th>X</th>\n",
       "      <th>Y</th>\n",
       "      <th>OBJECTID</th>\n",
       "      <th>Provider_Name</th>\n",
       "      <th>NPI</th>\n",
       "      <th>CCN</th>\n",
       "      <th>Business_Street_Address</th>\n",
       "      <th>Business_City</th>\n",
       "      <th>Business_County</th>\n",
       "      <th>Business_ZIP_Code</th>\n",
       "      <th>...</th>\n",
       "      <th>Payment_Year_Number</th>\n",
       "      <th>Program_Type</th>\n",
       "      <th>Medicaid_EP_Hospital_Type</th>\n",
       "      <th>total_payments</th>\n",
       "      <th>Last_Payment_Criteria</th>\n",
       "      <th>Recent_Disbursement_Amount</th>\n",
       "      <th>Latitude</th>\n",
       "      <th>Longitude</th>\n",
       "      <th>Last_Program_Year</th>\n",
       "      <th>Last_Payment_Year</th>\n",
       "    </tr>\n",
       "  </thead>\n",
       "  <tbody>\n",
       "    <tr>\n",
       "      <th>0</th>\n",
       "      <td>-124.142009</td>\n",
       "      <td>40.783559</td>\n",
       "      <td>1</td>\n",
       "      <td>ST JOSEPH HEALTH NORTHERN CALIFORNIA LLC</td>\n",
       "      <td>1609858950</td>\n",
       "      <td>50006</td>\n",
       "      <td>2700 Dolbeer St</td>\n",
       "      <td>Eureka</td>\n",
       "      <td>Humboldt</td>\n",
       "      <td>95501</td>\n",
       "      <td>...</td>\n",
       "      <td>4</td>\n",
       "      <td>Medicare/Medicaid</td>\n",
       "      <td>Acute Care Hospitals</td>\n",
       "      <td>1530950.70</td>\n",
       "      <td>MU</td>\n",
       "      <td>153095.07</td>\n",
       "      <td>40.783559</td>\n",
       "      <td>-124.142009</td>\n",
       "      <td>2015</td>\n",
       "      <td>2016</td>\n",
       "    </tr>\n",
       "    <tr>\n",
       "      <th>1</th>\n",
       "      <td>-122.086674</td>\n",
       "      <td>37.632915</td>\n",
       "      <td>2</td>\n",
       "      <td>HAYWARD SISTERS HOSPITAL</td>\n",
       "      <td>1942298153</td>\n",
       "      <td>50002</td>\n",
       "      <td>27200 Calaroga Ave</td>\n",
       "      <td>Hayward</td>\n",
       "      <td>Alameda</td>\n",
       "      <td>94545</td>\n",
       "      <td>...</td>\n",
       "      <td>4</td>\n",
       "      <td>Medicare/Medicaid</td>\n",
       "      <td>Acute Care Hospitals</td>\n",
       "      <td>3245920.28</td>\n",
       "      <td>MU</td>\n",
       "      <td>324592.03</td>\n",
       "      <td>37.632915</td>\n",
       "      <td>-122.086674</td>\n",
       "      <td>2015</td>\n",
       "      <td>2016</td>\n",
       "    </tr>\n",
       "    <tr>\n",
       "      <th>2</th>\n",
       "      <td>-122.295861</td>\n",
       "      <td>38.325402</td>\n",
       "      <td>3</td>\n",
       "      <td>ST JOSEPH HEALTH NORTHERN CALIFORNIA LLC</td>\n",
       "      <td>1235218785</td>\n",
       "      <td>50009</td>\n",
       "      <td>1000 Trancas St</td>\n",
       "      <td>Napa</td>\n",
       "      <td>Napa</td>\n",
       "      <td>94558</td>\n",
       "      <td>...</td>\n",
       "      <td>4</td>\n",
       "      <td>Medicare/Medicaid</td>\n",
       "      <td>Acute Care Hospitals</td>\n",
       "      <td>1262015.89</td>\n",
       "      <td>MU</td>\n",
       "      <td>126201.59</td>\n",
       "      <td>38.325402</td>\n",
       "      <td>-122.295861</td>\n",
       "      <td>2015</td>\n",
       "      <td>2016</td>\n",
       "    </tr>\n",
       "    <tr>\n",
       "      <th>3</th>\n",
       "      <td>-120.766467</td>\n",
       "      <td>38.350920</td>\n",
       "      <td>4</td>\n",
       "      <td>SUTTER VALLEY HOSPITALS</td>\n",
       "      <td>1447494323</td>\n",
       "      <td>50014</td>\n",
       "      <td>200 Mission Blvd</td>\n",
       "      <td>Jackson</td>\n",
       "      <td>Amador</td>\n",
       "      <td>95642</td>\n",
       "      <td>...</td>\n",
       "      <td>4</td>\n",
       "      <td>Medicare/Medicaid</td>\n",
       "      <td>Acute Care Hospitals</td>\n",
       "      <td>865130.13</td>\n",
       "      <td>MU</td>\n",
       "      <td>86513.01</td>\n",
       "      <td>38.350920</td>\n",
       "      <td>-120.766467</td>\n",
       "      <td>2017</td>\n",
       "      <td>2019</td>\n",
       "    </tr>\n",
       "    <tr>\n",
       "      <th>4</th>\n",
       "      <td>-122.435820</td>\n",
       "      <td>37.769049</td>\n",
       "      <td>5</td>\n",
       "      <td>Sutter Bay Hospitals</td>\n",
       "      <td>1659439834</td>\n",
       "      <td>50008</td>\n",
       "      <td>CASTRO AND DUBOCE</td>\n",
       "      <td>San Francisco</td>\n",
       "      <td>San Francisco</td>\n",
       "      <td>94114</td>\n",
       "      <td>...</td>\n",
       "      <td>4</td>\n",
       "      <td>Medicare/Medicaid</td>\n",
       "      <td>Acute Care Hospitals</td>\n",
       "      <td>984465.12</td>\n",
       "      <td>MU</td>\n",
       "      <td>98446.51</td>\n",
       "      <td>37.769049</td>\n",
       "      <td>-122.435820</td>\n",
       "      <td>2016</td>\n",
       "      <td>2019</td>\n",
       "    </tr>\n",
       "  </tbody>\n",
       "</table>\n",
       "<p>5 rows × 21 columns</p>\n",
       "</div>"
      ],
      "text/plain": [
       "            X          Y  OBJECTID                             Provider_Name  \\\n",
       "0 -124.142009  40.783559         1  ST JOSEPH HEALTH NORTHERN CALIFORNIA LLC   \n",
       "1 -122.086674  37.632915         2                  HAYWARD SISTERS HOSPITAL   \n",
       "2 -122.295861  38.325402         3  ST JOSEPH HEALTH NORTHERN CALIFORNIA LLC   \n",
       "3 -120.766467  38.350920         4                   SUTTER VALLEY HOSPITALS   \n",
       "4 -122.435820  37.769049         5                      Sutter Bay Hospitals   \n",
       "\n",
       "          NPI    CCN Business_Street_Address  Business_City Business_County  \\\n",
       "0  1609858950  50006         2700 Dolbeer St         Eureka        Humboldt   \n",
       "1  1942298153  50002      27200 Calaroga Ave        Hayward         Alameda   \n",
       "2  1235218785  50009         1000 Trancas St           Napa            Napa   \n",
       "3  1447494323  50014        200 Mission Blvd        Jackson          Amador   \n",
       "4  1659439834  50008       CASTRO AND DUBOCE  San Francisco   San Francisco   \n",
       "\n",
       "   Business_ZIP_Code  ... Payment_Year_Number       Program_Type  \\\n",
       "0              95501  ...                   4  Medicare/Medicaid   \n",
       "1              94545  ...                   4  Medicare/Medicaid   \n",
       "2              94558  ...                   4  Medicare/Medicaid   \n",
       "3              95642  ...                   4  Medicare/Medicaid   \n",
       "4              94114  ...                   4  Medicare/Medicaid   \n",
       "\n",
       "  Medicaid_EP_Hospital_Type total_payments  Last_Payment_Criteria  \\\n",
       "0      Acute Care Hospitals     1530950.70                     MU   \n",
       "1      Acute Care Hospitals     3245920.28                     MU   \n",
       "2      Acute Care Hospitals     1262015.89                     MU   \n",
       "3      Acute Care Hospitals      865130.13                     MU   \n",
       "4      Acute Care Hospitals      984465.12                     MU   \n",
       "\n",
       "  Recent_Disbursement_Amount   Latitude   Longitude  Last_Program_Year  \\\n",
       "0                  153095.07  40.783559 -124.142009               2015   \n",
       "1                  324592.03  37.632915 -122.086674               2015   \n",
       "2                  126201.59  38.325402 -122.295861               2015   \n",
       "3                   86513.01  38.350920 -120.766467               2017   \n",
       "4                   98446.51  37.769049 -122.435820               2016   \n",
       "\n",
       "   Last_Payment_Year  \n",
       "0               2016  \n",
       "1               2016  \n",
       "2               2016  \n",
       "3               2019  \n",
       "4               2019  \n",
       "\n",
       "[5 rows x 21 columns]"
      ]
     },
     "execution_count": 11,
     "metadata": {},
     "output_type": "execute_result"
    }
   ],
   "source": [
    "df.head()"
   ]
  },
  {
   "cell_type": "markdown",
   "metadata": {
    "nbgrader": {
     "grade": false,
     "grade_id": "q03-intro",
     "locked": true,
     "schema_version": 1,
     "solution": false
    }
   },
   "source": [
    "## PART 3: Combine with other data in the database\n",
    "\n",
    "In the database, there is an existing table called `population`.  We want to merge the DHCS datafile loaded above with the population data available in this other database table  The tables can be merged on `MYTABLE`'s `Business_ZIP_Code` field and `population`'s `Zip` field.\n",
    "\n",
    "Note that not all `Zip_Codes` from your downloaded file have to be in the `population` table.  If they aren't, then I want you to eliminate the non-matching records.  That is, only keep the records that have a matching ZIP code in both sets of data.\n",
    "\n",
    "Answer the question:\n",
    "Which providers are located in the zipcode with the largest population?\n",
    "\n",
    "Put your answer in the form `answer = ['a', 'list', 'of', 'NPI', 'like', '1593042103]`"
   ]
  },
  {
   "cell_type": "code",
   "execution_count": 13,
   "metadata": {},
   "outputs": [],
   "source": [
    "df = pd.read_csv('untitled.txt', '\\t')"
   ]
  },
  {
   "cell_type": "code",
   "execution_count": 16,
   "metadata": {},
   "outputs": [],
   "source": [
    "df.to_sql('population', conn)"
   ]
  },
  {
   "cell_type": "code",
   "execution_count": 32,
   "metadata": {
    "nbgrader": {
     "grade": false,
     "grade_id": "q03-solution",
     "locked": false,
     "schema_version": 1,
     "solution": true
    }
   },
   "outputs": [
    {
     "name": "stdout",
     "output_type": "stream",
     "text": [
      "The zip with the most providers is 90650\n",
      "The NPIs in that zip are [1194016923]\n"
     ]
    }
   ],
   "source": [
    "maxpop = pd.read_sql_query(\"\"\"\n",
    "  SELECT m.*, p.*\n",
    "  FROM {} m JOIN population p ON m.Business_ZIP_Code = p.Zip\n",
    "  ORDER BY p.population DESC\n",
    "  \"\"\".format(MYTABLE), conn)\n",
    "\n",
    "maxzip = int(maxpop.loc[0,'Business_ZIP_Code'])\n",
    "print(f'The zip with the most providers is {maxzip}')\n",
    "\n",
    "maxnpis = list(maxpop[maxpop['Business_ZIP_Code'] == maxzip]['NPI'])\n",
    "print(f'The NPIs in that zip are {maxnpis}')"
   ]
  },
  {
   "cell_type": "code",
   "execution_count": 33,
   "metadata": {},
   "outputs": [
    {
     "data": {
      "text/plain": [
       "[1194016923]"
      ]
     },
     "execution_count": 33,
     "metadata": {},
     "output_type": "execute_result"
    }
   ],
   "source": [
    "maxnpis"
   ]
  },
  {
   "cell_type": "code",
   "execution_count": 34,
   "metadata": {
    "nbgrader": {
     "grade": true,
     "grade_id": "q03-tests",
     "locked": true,
     "points": 5,
     "schema_version": 1,
     "solution": false
    }
   },
   "outputs": [],
   "source": [
    "assert(type(answer) == list)\n",
    "\n",
    "### BEGIN HIDDEN TESTS\n",
    "assert(answer == ['1194016923'])\n",
    "### END HIDDEN TESTS"
   ]
  },
  {
   "cell_type": "markdown",
   "metadata": {
    "nbgrader": {
     "grade": false,
     "grade_id": "q04-intro",
     "locked": true,
     "schema_version": 1,
     "solution": false
    }
   },
   "source": [
    "## PART 4: Total by hospital type\n",
    "\n",
    "This is a multistep process:\n",
    "* From our downloaded data file, compute the `Total payments` per ZIP code and Medicaid EP Hospital Type.\n",
    "* Then merge that with the `population` data to compute a `Total payments` per person.\n",
    "* Then average that across all of the `Medicaid EP Hospital Types` to get an average per persona payment for these type of hospital.\n",
    "\n",
    "Your answer should be in structure of a data frame with at least two columns:\n",
    "* Medicaid_EP_Hospital_Type\n",
    "* Avg_Pay_per_Capita"
   ]
  },
  {
   "cell_type": "markdown",
   "metadata": {},
   "source": [
    "## First using SQL"
   ]
  },
  {
   "cell_type": "code",
   "execution_count": 45,
   "metadata": {
    "nbgrader": {
     "grade": false,
     "grade_id": "q04-solution",
     "locked": false,
     "schema_version": 1,
     "solution": true
    }
   },
   "outputs": [],
   "source": [
    "### BEGIN SOLUTION\n",
    "answer = pd.read_sql_query(\"\"\"\n",
    "  SELECT z.Medicaid_EP_Hospital_Type, AVG(z.Payments / p.population) as Avg_Pay_per_Capita\n",
    "  FROM (\n",
    "      SELECT m.Medicaid_EP_Hospital_Type, m.Business_ZIP_Code, sum(Total_payments) as Payments\n",
    "      FROM {} m\n",
    "      GROUP BY m.Medicaid_EP_Hospital_Type, m.Business_ZIP_Code\n",
    "  ) z JOIN population p ON z.Business_ZIP_Code = p.Zip\n",
    "  GROUP BY\n",
    "    z.Medicaid_EP_Hospital_type\n",
    "  \"\"\".format(MYTABLE), conn)\n",
    "### END SOLUTIONS\n"
   ]
  },
  {
   "cell_type": "code",
   "execution_count": 46,
   "metadata": {
    "nbgrader": {
     "grade": true,
     "grade_id": "q04-tests",
     "locked": true,
     "points": 5,
     "schema_version": 1,
     "solution": false
    }
   },
   "outputs": [],
   "source": [
    "assert(type(answer) == pd.core.frame.DataFrame)\n",
    "assert(round(answer.query(\"Medicaid_EP_Hospital_Type == 'Acute Care Hospitals'\")['Avg_Pay_per_Capita'].sum(),3) == 106.583)\n",
    "assert(round(answer.query(\"Medicaid_EP_Hospital_Type == 'Children\\\\'s Hospitals'\")['Avg_Pay_per_Capita'].sum(),3) == 329.551)\n"
   ]
  },
  {
   "cell_type": "code",
   "execution_count": 47,
   "metadata": {},
   "outputs": [
    {
     "data": {
      "text/html": [
       "<div>\n",
       "<style scoped>\n",
       "    .dataframe tbody tr th:only-of-type {\n",
       "        vertical-align: middle;\n",
       "    }\n",
       "\n",
       "    .dataframe tbody tr th {\n",
       "        vertical-align: top;\n",
       "    }\n",
       "\n",
       "    .dataframe thead th {\n",
       "        text-align: right;\n",
       "    }\n",
       "</style>\n",
       "<table border=\"1\" class=\"dataframe\">\n",
       "  <thead>\n",
       "    <tr style=\"text-align: right;\">\n",
       "      <th></th>\n",
       "      <th>Medicaid_EP_Hospital_Type</th>\n",
       "      <th>Avg_Pay_per_Capita</th>\n",
       "    </tr>\n",
       "  </thead>\n",
       "  <tbody>\n",
       "    <tr>\n",
       "      <th>0</th>\n",
       "      <td>Acute Care Hospitals</td>\n",
       "      <td>106.582669</td>\n",
       "    </tr>\n",
       "    <tr>\n",
       "      <th>1</th>\n",
       "      <td>Children's Hospitals</td>\n",
       "      <td>329.550946</td>\n",
       "    </tr>\n",
       "  </tbody>\n",
       "</table>\n",
       "</div>"
      ],
      "text/plain": [
       "  Medicaid_EP_Hospital_Type  Avg_Pay_per_Capita\n",
       "0      Acute Care Hospitals          106.582669\n",
       "1      Children's Hospitals          329.550946"
      ]
     },
     "execution_count": 47,
     "metadata": {},
     "output_type": "execute_result"
    }
   ],
   "source": [
    "answer"
   ]
  },
  {
   "cell_type": "markdown",
   "metadata": {},
   "source": [
    "## Now using Pandas instead of SQL"
   ]
  },
  {
   "cell_type": "code",
   "execution_count": 48,
   "metadata": {},
   "outputs": [
    {
     "ename": "KeyError",
     "evalue": "'Medicaid_EP_Hospital_Type'",
     "output_type": "error",
     "traceback": [
      "\u001b[0;31m---------------------------------------------------------------------------\u001b[0m",
      "\u001b[0;31mKeyError\u001b[0m                                  Traceback (most recent call last)",
      "\u001b[0;32m<ipython-input-48-e08bb4d16359>\u001b[0m in \u001b[0;36m<module>\u001b[0;34m\u001b[0m\n\u001b[1;32m      1\u001b[0m \u001b[0;31m### BEGIN SOLUTION\u001b[0m\u001b[0;34m\u001b[0m\u001b[0;34m\u001b[0m\u001b[0;34m\u001b[0m\u001b[0m\n\u001b[0;32m----> 2\u001b[0;31m \u001b[0mtotal_pay_per_zip\u001b[0m \u001b[0;34m=\u001b[0m \u001b[0mdf\u001b[0m\u001b[0;34m.\u001b[0m\u001b[0mgroupby\u001b[0m\u001b[0;34m(\u001b[0m\u001b[0;34m[\u001b[0m\u001b[0;34m'Medicaid_EP_Hospital_Type'\u001b[0m\u001b[0;34m,\u001b[0m\u001b[0;34m'Zip_Code'\u001b[0m\u001b[0;34m]\u001b[0m\u001b[0;34m)\u001b[0m\u001b[0;34m[\u001b[0m\u001b[0;34m'Total_payments'\u001b[0m\u001b[0;34m]\u001b[0m\u001b[0;34m.\u001b[0m\u001b[0msum\u001b[0m\u001b[0;34m(\u001b[0m\u001b[0;34m)\u001b[0m\u001b[0;34m.\u001b[0m\u001b[0mreset_index\u001b[0m\u001b[0;34m(\u001b[0m\u001b[0;34m)\u001b[0m\u001b[0;34m\u001b[0m\u001b[0;34m\u001b[0m\u001b[0m\n\u001b[0m\u001b[1;32m      3\u001b[0m \u001b[0mtotal_pay_per_zip\u001b[0m\u001b[0;34m[\u001b[0m\u001b[0;34m'Zip_Code'\u001b[0m\u001b[0;34m]\u001b[0m \u001b[0;34m=\u001b[0m \u001b[0mtotal_pay_per_zip\u001b[0m\u001b[0;34m[\u001b[0m\u001b[0;34m'Zip_Code'\u001b[0m\u001b[0;34m]\u001b[0m\u001b[0;34m.\u001b[0m\u001b[0mastype\u001b[0m\u001b[0;34m(\u001b[0m\u001b[0mstr\u001b[0m\u001b[0;34m)\u001b[0m\u001b[0;34m\u001b[0m\u001b[0;34m\u001b[0m\u001b[0m\n\u001b[1;32m      4\u001b[0m \u001b[0;34m\u001b[0m\u001b[0m\n\u001b[1;32m      5\u001b[0m \u001b[0mpopulations\u001b[0m \u001b[0;34m=\u001b[0m \u001b[0mpd\u001b[0m\u001b[0;34m.\u001b[0m\u001b[0mread_sql_query\u001b[0m\u001b[0;34m(\u001b[0m\u001b[0;34m\"SELECT * FROM population\"\u001b[0m\u001b[0;34m,\u001b[0m \u001b[0mconn\u001b[0m\u001b[0;34m)\u001b[0m\u001b[0;34m\u001b[0m\u001b[0;34m\u001b[0m\u001b[0m\n",
      "\u001b[0;32m/opt/tljh/user/lib/python3.6/site-packages/pandas/core/frame.py\u001b[0m in \u001b[0;36mgroupby\u001b[0;34m(self, by, axis, level, as_index, sort, group_keys, squeeze, observed, dropna)\u001b[0m\n\u001b[1;32m   6523\u001b[0m             \u001b[0msqueeze\u001b[0m\u001b[0;34m=\u001b[0m\u001b[0msqueeze\u001b[0m\u001b[0;34m,\u001b[0m\u001b[0;34m\u001b[0m\u001b[0;34m\u001b[0m\u001b[0m\n\u001b[1;32m   6524\u001b[0m             \u001b[0mobserved\u001b[0m\u001b[0;34m=\u001b[0m\u001b[0mobserved\u001b[0m\u001b[0;34m,\u001b[0m\u001b[0;34m\u001b[0m\u001b[0;34m\u001b[0m\u001b[0m\n\u001b[0;32m-> 6525\u001b[0;31m             \u001b[0mdropna\u001b[0m\u001b[0;34m=\u001b[0m\u001b[0mdropna\u001b[0m\u001b[0;34m,\u001b[0m\u001b[0;34m\u001b[0m\u001b[0;34m\u001b[0m\u001b[0m\n\u001b[0m\u001b[1;32m   6526\u001b[0m         )\n\u001b[1;32m   6527\u001b[0m \u001b[0;34m\u001b[0m\u001b[0m\n",
      "\u001b[0;32m/opt/tljh/user/lib/python3.6/site-packages/pandas/core/groupby/groupby.py\u001b[0m in \u001b[0;36m__init__\u001b[0;34m(self, obj, keys, axis, level, grouper, exclusions, selection, as_index, sort, group_keys, squeeze, observed, mutated, dropna)\u001b[0m\n\u001b[1;32m    531\u001b[0m                 \u001b[0mobserved\u001b[0m\u001b[0;34m=\u001b[0m\u001b[0mobserved\u001b[0m\u001b[0;34m,\u001b[0m\u001b[0;34m\u001b[0m\u001b[0;34m\u001b[0m\u001b[0m\n\u001b[1;32m    532\u001b[0m                 \u001b[0mmutated\u001b[0m\u001b[0;34m=\u001b[0m\u001b[0mself\u001b[0m\u001b[0;34m.\u001b[0m\u001b[0mmutated\u001b[0m\u001b[0;34m,\u001b[0m\u001b[0;34m\u001b[0m\u001b[0;34m\u001b[0m\u001b[0m\n\u001b[0;32m--> 533\u001b[0;31m                 \u001b[0mdropna\u001b[0m\u001b[0;34m=\u001b[0m\u001b[0mself\u001b[0m\u001b[0;34m.\u001b[0m\u001b[0mdropna\u001b[0m\u001b[0;34m,\u001b[0m\u001b[0;34m\u001b[0m\u001b[0;34m\u001b[0m\u001b[0m\n\u001b[0m\u001b[1;32m    534\u001b[0m             )\n\u001b[1;32m    535\u001b[0m \u001b[0;34m\u001b[0m\u001b[0m\n",
      "\u001b[0;32m/opt/tljh/user/lib/python3.6/site-packages/pandas/core/groupby/grouper.py\u001b[0m in \u001b[0;36mget_grouper\u001b[0;34m(obj, key, axis, level, sort, observed, mutated, validate, dropna)\u001b[0m\n\u001b[1;32m    784\u001b[0m                 \u001b[0min_axis\u001b[0m\u001b[0;34m,\u001b[0m \u001b[0mname\u001b[0m\u001b[0;34m,\u001b[0m \u001b[0mlevel\u001b[0m\u001b[0;34m,\u001b[0m \u001b[0mgpr\u001b[0m \u001b[0;34m=\u001b[0m \u001b[0;32mFalse\u001b[0m\u001b[0;34m,\u001b[0m \u001b[0;32mNone\u001b[0m\u001b[0;34m,\u001b[0m \u001b[0mgpr\u001b[0m\u001b[0;34m,\u001b[0m \u001b[0;32mNone\u001b[0m\u001b[0;34m\u001b[0m\u001b[0;34m\u001b[0m\u001b[0m\n\u001b[1;32m    785\u001b[0m             \u001b[0;32melse\u001b[0m\u001b[0;34m:\u001b[0m\u001b[0;34m\u001b[0m\u001b[0;34m\u001b[0m\u001b[0m\n\u001b[0;32m--> 786\u001b[0;31m                 \u001b[0;32mraise\u001b[0m \u001b[0mKeyError\u001b[0m\u001b[0;34m(\u001b[0m\u001b[0mgpr\u001b[0m\u001b[0;34m)\u001b[0m\u001b[0;34m\u001b[0m\u001b[0;34m\u001b[0m\u001b[0m\n\u001b[0m\u001b[1;32m    787\u001b[0m         \u001b[0;32melif\u001b[0m \u001b[0misinstance\u001b[0m\u001b[0;34m(\u001b[0m\u001b[0mgpr\u001b[0m\u001b[0;34m,\u001b[0m \u001b[0mGrouper\u001b[0m\u001b[0;34m)\u001b[0m \u001b[0;32mand\u001b[0m \u001b[0mgpr\u001b[0m\u001b[0;34m.\u001b[0m\u001b[0mkey\u001b[0m \u001b[0;32mis\u001b[0m \u001b[0;32mnot\u001b[0m \u001b[0;32mNone\u001b[0m\u001b[0;34m:\u001b[0m\u001b[0;34m\u001b[0m\u001b[0;34m\u001b[0m\u001b[0m\n\u001b[1;32m    788\u001b[0m             \u001b[0;31m# Add key to exclusions\u001b[0m\u001b[0;34m\u001b[0m\u001b[0;34m\u001b[0m\u001b[0;34m\u001b[0m\u001b[0m\n",
      "\u001b[0;31mKeyError\u001b[0m: 'Medicaid_EP_Hospital_Type'"
     ]
    }
   ],
   "source": [
    "### BEGIN SOLUTION\n",
    "total_pay_per_zip = df.groupby(['Medicaid_EP_Hospital_Type','Zip_Code'])['Total_payments'].sum().reset_index()\n",
    "total_pay_per_zip['Zip_Code'] = total_pay_per_zip['Zip_Code'].astype(str)\n",
    "\n",
    "populations = pd.read_sql_query(\"SELECT * FROM population\", conn)\n",
    "populations['zipcode'] = populations['zipcode'].astype(str)\n",
    "\n",
    "merged = total_pay_per_zip.merge(populations, how='left', left_on='Zip_Code', right_on='zipcode')\n",
    "\n",
    "merged['Avg_Pay_per_Capita'] = merged['Total_payments'] / merged['population']\n",
    "\n",
    "answer = merged.groupby('Medicaid_EP_Hospital_Type')['Avg_Pay_per_Capita'].mean().reset_index()\n",
    "\n",
    "answer\n",
    "### END SOLUTIONS\n"
   ]
  },
  {
   "cell_type": "code",
   "execution_count": null,
   "metadata": {},
   "outputs": [],
   "source": []
  },
  {
   "cell_type": "code",
   "execution_count": null,
   "metadata": {},
   "outputs": [],
   "source": []
  }
 ],
 "metadata": {
  "celltoolbar": "Create Assignment",
  "kernelspec": {
   "display_name": "Python 3",
   "language": "python",
   "name": "python3"
  },
  "language_info": {
   "codemirror_mode": {
    "name": "ipython",
    "version": 3
   },
   "file_extension": ".py",
   "mimetype": "text/x-python",
   "name": "python",
   "nbconvert_exporter": "python",
   "pygments_lexer": "ipython3",
   "version": "3.6.7"
  }
 },
 "nbformat": 4,
 "nbformat_minor": 2
}
